{
 "cells": [
  {
   "cell_type": "markdown",
   "metadata": {},
   "source": [
    "## Visceral Fat Paper in SAGE"
   ]
  },
  {
   "attachments": {},
   "cell_type": "markdown",
   "metadata": {},
   "source": [
    "<h4>This paper was published in 2018 in the peer-reviewed medical journal, <i>Obesity</i>.</h4>\n",
    "<p><b>Reference:</b> Mason A, Schleicher S, Coccia M, Epel E, <b>Aschbacher K.</b> (2018). Chronic stress and impulsive risk-taking predict increases in visceral fat over 18 months. <i>Obesity</i>, 26, 869-876. PMID: 29566458. PMCID: PMC5916011. DOI:10.1002/oby.22150.</p>\n",
    "<p>The PDF can be downloaded <a href=\"https://onlinelibrary.wiley.com/doi/full/10.1002/oby.22150\">here:</a></p>"
   ]
  },
  {
   "cell_type": "code",
   "execution_count": 1,
   "metadata": {
    "collapsed": true
   },
   "outputs": [],
   "source": [
    "import pandas as pd\n",
    "import numpy as np\n",
    "import datetime as dt\n",
    "import statsmodels.api as sm\n",
    "import matplotlib.pyplot as plt\n",
    "from matplotlib.ticker import MultipleLocator\n",
    "import ka_palette as ka\n",
    "from __future__ import division\n",
    "import warnings\n",
    "\n",
    "pd.set_option('display.width',500)\n",
    "warnings.filterwarnings('ignore')\n",
    "% matplotlib inline"
   ]
  },
  {
   "cell_type": "code",
   "execution_count": 2,
   "metadata": {
    "collapsed": true
   },
   "outputs": [],
   "source": [
    "def winsorize(df, var_name, win_std):\n",
    "    \"\"\"win_std = Number of standard deviations below mean that determine the winsorized value.\n",
    "    Currently only written for low outliers\"\"\"\n",
    "    # Settings\n",
    "    W_var_name = var_name + '_W'\n",
    "    win_value = df[var_name].mean() - (win_std * df[var_name].std())\n",
    "    n_win = (df[var_name]<win_value).sum()\n",
    "    # Execute\n",
    "    df[W_var_name] = df[var_name]\n",
    "    df[W_var_name].loc[df[W_var_name]<win_value] = win_value\n",
    "    print '\\nHandling Outliers...\\nFor %s: pre-winsorizing min: %d; after min: %d'%(var_name, df[var_name].min(), win_value)\n",
    "    print 'Number of outliers winsorized: %d\\n'%n_win"
   ]
  },
  {
   "cell_type": "code",
   "execution_count": 3,
   "metadata": {
    "collapsed": true
   },
   "outputs": [],
   "source": [
    "class Color:\n",
    "    \"\"\" Class that defines colors in a palette for a bar graph. \n",
    "    I give dot_color as an argument to the class instantiation because it makes this more flexible.\n",
    "    When instantiating remember to: import ka_palette as ka; t = ka.tableau(); dot_color is a string to label the color - e.g., 'red'\"\"\"\n",
    "    def __init__(self, t, dot_color):\n",
    "        self.dot_color = dot_color\n",
    "        #self.scatter = t[dot_color]#marker color: 0=healthy/control and 1=sick/target groups     \n",
    "        self.err = t['med2_grey']#error bar color\n",
    "        self.edge = t['med2_grey']\n",
    "        self.xlb = t['dark_grey']; self.ylb = t['dark_grey']#xlabels\n",
    "        self.xtk = t['med_grey']; ytk = t['med3_grey']#xticks\n",
    "        self.ytl = t['med3_grey']#yticklines\n",
    "        self.leg = t['med3_grey']#legend labels\n",
    "        self.box = t['med4_grey']#legend box\n",
    "        self.text = t['med_grey']#p-value annotated on top of graph"
   ]
  },
  {
   "cell_type": "code",
   "execution_count": 4,
   "metadata": {
    "collapsed": true
   },
   "outputs": [],
   "source": [
    "def run_regression(x, y):\n",
    "    \"\"\"from __future__ import division --> needed for np.ceil math to yield a float. x and y are series\"\"\"\n",
    "    reg = sm.OLS(y, sm.add_constant(x, prepend=True), missing='drop').fit()\n",
    "    standB = standardize_betas(x,y,reg) \n",
    "    line_values = make_line(x, reg)\n",
    "    \n",
    "    return standB, reg.pvalues[1], line_values"
   ]
  },
  {
   "cell_type": "code",
   "execution_count": 5,
   "metadata": {
    "collapsed": true
   },
   "outputs": [],
   "source": [
    "def standardize_betas(x,y,reg):\n",
    "    \"\"\" \n",
    "    Calculate the Standardized Coefficient = standB\n",
    "    B * (Sx/Sy), where Sx = standard dev of x and Sy same w/ y\n",
    "    http://www.albany.edu/faculty/kretheme/PAD705/SupportMat/StandardizedCeof.pdf\n",
    "    x and y are series objects, reg is generated from sm.OLS(**kwargs).fit()\"\"\"\n",
    "    B = reg.params[1]\n",
    "    sx = np.std(x)#ignore intercept\n",
    "    sy = np.std(y)\n",
    "    standB = B*(sx/sy)#This matches SPSS perfectly\n",
    "    return standB"
   ]
  },
  {
   "cell_type": "code",
   "execution_count": 6,
   "metadata": {
    "collapsed": true
   },
   "outputs": [],
   "source": [
    "def format_pvalue(p):\n",
    "    # Round the p-value and add '*'\n",
    "    pval = '{:.3f}'.format(p)[1:]# remove leading 0\n",
    "    if p<=.001: \n",
    "        pval = u'p≤.001**'\n",
    "    else: \n",
    "        pval = u'p='+pval\n",
    "        # Add significance mark\n",
    "        if p<=.01: pval += u'**'\n",
    "        elif p<=.05: pval += u'*'\n",
    "        elif p<=.10: pval += u'†'\n",
    "    return pval"
   ]
  },
  {
   "cell_type": "code",
   "execution_count": 7,
   "metadata": {
    "collapsed": true
   },
   "outputs": [],
   "source": [
    "def divide_10(num, counter):\n",
    "    \"\"\"Recursive function determines the order of a number.  E.g., 10^2 or 10^3...\n",
    "    Determines what scale/order the x-axis is on, to get right anchor points for line in the scatterplot.\"\"\"\n",
    "    if num>10: \n",
    "        counter += 1\n",
    "        #print 'counter:%d, starting number: %d'%(counter, num)\n",
    "        divide_10(num/10, counter)\n",
    "    return counter"
   ]
  },
  {
   "cell_type": "code",
   "execution_count": 8,
   "metadata": {
    "collapsed": true
   },
   "outputs": [],
   "source": [
    "def make_line(x, reg):\n",
    "    \"\"\"Compute points to draw a fit line for the regression on top of the scatterplot. x is a series.\n",
    "    For publication purposes, we sometimes need to have more specific control over this line, so \n",
    "    using a prepackaged function that makes the scatterplot and fit line together may not be ideal.\"\"\"\n",
    "    \n",
    "    # Get min and max X values to make regression line anchors for scatterplot\n",
    "    x_scale = x.max() - x.min()\n",
    "    exponent = divide_10(x_scale, 0)# Always start call with 2nd argument=0\n",
    "    order = np.power(10, exponent)\n",
    "    \n",
    "    # DEBUGGING statements\n",
    "    #print 'Order: %d'%order\n",
    "    #print 'min x: %d, max x: %d'%(df[x].min(), df[x].max())\n",
    "    #print 'floor: %d, ceil: %d'%(np.floor((df[x].min()/order)), np.ceil((df[x].max()/order)))\n",
    "    \n",
    "    #A Trick which rounds up or down based on desired Order - to closest 10 or 100\n",
    "    minx = order * np.floor(x.min()/order)\n",
    "    maxx = order * np.ceil(x.max()/order)\n",
    "    \n",
    "    # Override line coordinates, so both groups are the same\n",
    "    minx = -10; maxx = 20;\n",
    "    \n",
    "    predy = reg.predict( np.asarray([[1, minx], [1, maxx]]))#Adds intercept back\n",
    "    predy = np.round(predy,decimals=3)\n",
    "    #print 'min %d y %03f, and max %d y %03f \\n' % (minx, predy[0], maxx, predy[1])\n",
    "    \n",
    "    line = np.asarray([[minx, maxx], [predy[0], predy[1]]])\n",
    "    #print line# DEBUG\n",
    "    return line"
   ]
  },
  {
   "cell_type": "code",
   "execution_count": 12,
   "metadata": {
    "collapsed": true
   },
   "outputs": [],
   "source": [
    "class Analysis():\n",
    "    def __init__(self, df, xy_vars, xy_labels, plot_title):\n",
    "        \"\"\"xy_vars = list [x, y] as string names of columns in df; xy_labels as strings for printing on plot axes\"\"\"\n",
    "        self.x = df[xy_vars[0]]; self.y = df[xy_vars[1]]\n",
    "        self.xy_labels = xy_labels\n",
    "        self.plot_title = plot_title\n",
    "        self.standB, self.p, self.line = run_regression(self.x, self.y)\n",
    "        self.p = format_pvalue(self.p)\n",
    "        self.text = u'ß='+'{:.3f}'.format(self.standB)[1:]+', '+self.p"
   ]
  },
  {
   "cell_type": "code",
   "execution_count": 16,
   "metadata": {
    "collapsed": true
   },
   "outputs": [],
   "source": [
    "def scatterplot(analysis, c):\n",
    "    \"\"\"Plot a scatterplot of two groups.\n",
    "    analysis is an instantiation of an Analysis class object.  c is an instantiation of a Color class object.\"\"\"\n",
    "    \n",
    "    # Set RC-params before creating objects - changes global settings\n",
    "    params = {\n",
    "            'figure.figsize':(3.25, 3.5),\n",
    "            'axes.facecolor':'white',\n",
    "            'axes.grid':False,\n",
    "            'axes.edgecolor': c.box,\n",
    "            'axes.labelcolor': c.err,\n",
    "            'legend.fontsize':12}\n",
    "    plt.rcParams.update(params)\n",
    "    \n",
    "    # Plot\n",
    "    fig, ax = plt.subplots()\n",
    "    plt.scatter(analysis.x, analysis.y, color=c.dot_color, s=5.5)\n",
    "    plt.plot(analysis.line[0], analysis.line[1], color=ka.convert_rgb('72.72.72'), lw=1)\n",
    "    plt.setp([ax.get_xticklines(), ax.get_yticklines()],visible=False)\n",
    "    plt.setp([ax.get_xticklabels(), ax.get_yticklabels()],fontsize=9.5, color=c.ytl)\n",
    "    plt.setp([ax.set_xlabel(analysis.xy_labels[0]),ax.set_ylabel(analysis.xy_labels[1])],fontsize=12,color=c.xlb)\n",
    "    ax.yaxis.set_major_locator(MultipleLocator(1))\n",
    "    plt.title(analysis.plot_title, fontsize=13)\n",
    "    \n",
    "    # Force boundaries of xlim to match line\n",
    "    plt.xlim(analysis.line[0][0], analysis.line[0][1])\n",
    "    plt.ylim(-2,2)\n",
    "    \n",
    "    # Add p-values as a text annotation\n",
    "    x_loc = analysis.line[0][0] + (.55 * (analysis.line[0][1] - analysis.line[0][0]))-2#determines proportion of distance along the xaxis that text appears\n",
    "    #y_loc = min(analysis.y)\n",
    "    y_loc = -1.79# Hack to make both the same\n",
    "    ax.text(x_loc, y_loc, analysis.text, fontsize=10, color=c.text, style='italic')\n",
    "    \n",
    "    return fig"
   ]
  },
  {
   "cell_type": "code",
   "execution_count": 17,
   "metadata": {},
   "outputs": [
    {
     "name": "stdout",
     "output_type": "stream",
     "text": [
      "['FILTER_ADJUSTED_BLplus18mo', 'CH_viscan_visceral_fat_BL_to_18', 'group', 'BART_PumpsMean_BL_C', 'BART_pumpsmean_BL_GROUP_C', 'calc_age_BL', 'graduate_edu', 'white', 'meds_AD_BL', 'meds_AD_18mo', 'total_METS_sum_bl', 'total_METS_sum_18mo', 'tan_BMI_BL', 'tan_BMI_18mo', 'quest_Glucose_BL', 'quest_Glucose_18mo', 'metabolic_insulin_BL', 'metabolic_insulin_18mo']\n",
      "Rows 113, Columns 18\n",
      "\n",
      "Handling Outliers...\n",
      "For CH_viscan_visceral_fat_BL_to_18: pre-winsorizing min: -2; after min: -1\n",
      "Number of outliers winsorized: 5\n",
      "\n",
      "Saved ./figures/SAGE_scatter_Controls_2018-01-31_BART_PumpsMean_BL_C_CH_viscan_visceral_fat_BL_to_18.pdf\n",
      "Saved ./figures/SAGE_scatter_Caregivers_2018-01-31_BART_PumpsMean_BL_C_CH_viscan_visceral_fat_BL_to_18.pdf\n"
     ]
    },
    {
     "data": {
      "image/png": "[encoded data removed]",
      "text/plain": [
       "<matplotlib.figure.Figure at 0x10ae47150>"
      ]
     },
     "metadata": {},
     "output_type": "display_data"
    },
    {
     "data": {
      "image/png": "[encoded data removed]",
      "text/plain": [
       "<matplotlib.figure.Figure at 0x10aac2550>"
      ]
     },
     "metadata": {},
     "output_type": "display_data"
    }
   ],
   "source": [
    "def main():\n",
    "    \n",
    "    csvfile = 'python_viscfat_20170411.csv'\n",
    "    df = pd.read_csv(csvfile)\n",
    "    print df.columns.tolist()\n",
    "    \n",
    "    \n",
    "    # Limit to filtered cases\n",
    "    df = df.loc[df['FILTER_ADJUSTED_BLplus18mo']==1]\n",
    "    print 'Rows %d, Columns %d'%df.shape\n",
    "    \n",
    "    # Convert Types\n",
    "    cols = ['BART_PumpsMean_BL_C','CH_viscan_visceral_fat_BL_to_18']\n",
    "    for col in cols:\n",
    "        df[col] = df[col].apply(lambda x: pd.to_numeric(x, errors='coerce'))\n",
    "    #print df.dtypes\n",
    "    winsorize(df, 'CH_viscan_visceral_fat_BL_to_18', 1.75)\n",
    "    \n",
    "    # Specify graph parameters\n",
    "    graphs = {'BART_VisFat':\n",
    "                  {'x':cols[0],'y':cols[1],\n",
    "                   'xlabel':'Impulsive Risk-Taking', 'ylabel':'18-mo Visceral Fat Increase'},\n",
    "#               'BART_VisFat_Win':\n",
    "#                   {'x':cols[0],'y':cols[1]+'_W',\n",
    "#                    'xlabel':'BART', 'ylabel':'18-month Increase in Visceral Fat'}\n",
    "              }\n",
    "    \n",
    "    # Loop through, plot & save scatterplot graphs   \n",
    "    grp = 'group'\n",
    "    plot_titles = ['Controls', 'Caregivers']\n",
    "    #dot_colors = [ka.convert_rgb('8.55.106'), ka.convert_rgb('217.50.23')]#bright_navy_blue; red_orange\n",
    "    dot_colors = [ka.convert_rgb('112.112.112'), ka.convert_rgb('112.112.112')]#bright_navy_blue; red_orange\n",
    "    \n",
    "    for data_dict in graphs.itervalues():\n",
    "        for g in [0,1]:\n",
    "            analysis = Analysis(df.loc[df[grp]==g], [data_dict['x'], data_dict['y']], [data_dict['xlabel'], data_dict['ylabel']], plot_titles[g])\n",
    "            color = Color(ka.tableau(), dot_colors[g])#This could use optimization\n",
    "            fig = scatterplot(analysis, color)\n",
    "            fig_filename = './figures/SAGE_scatter_'+plot_titles[g]+'_'+str(dt.date.today())+'_'+data_dict['x']+'_'+data_dict['y']+'.pdf'\n",
    "            fig.savefig(fig_filename, bbox_inches='tight', dpi=600)#transparent='False'\n",
    "            print 'Saved %s'%fig_filename\n",
    "    \n",
    "\n",
    "if __name__==\"__main__\":\n",
    "    main()"
   ]
  },
  {
   "cell_type": "code",
   "execution_count": null,
   "metadata": {
    "collapsed": true
   },
   "outputs": [],
   "source": []
  }
 ],
 "metadata": {
  "kernelspec": {
   "display_name": "Python 2",
   "language": "python",
   "name": "python2"
  },
  "language_info": {
   "codemirror_mode": {
    "name": "ipython",
    "version": 2
   },
   "file_extension": ".py",
   "mimetype": "text/x-python",
   "name": "python",
   "nbconvert_exporter": "python",
   "pygments_lexer": "ipython2",
   "version": "2.7.13"
  }
 },
 "nbformat": 4,
 "nbformat_minor": 1
}
