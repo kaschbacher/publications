{
 "cells": [
  {
   "cell_type": "markdown",
   "metadata": {},
   "source": [
    "### CTRP scatterplots"
   ]
  },
  {
   "cell_type": "code",
   "execution_count": 142,
   "metadata": {},
   "outputs": [],
   "source": [
    "import pandas as pd\n",
    "import numpy as np\n",
    "import datetime as dt\n",
    "import statsmodels.api as sm\n",
    "import matplotlib.pyplot as plt\n",
    "from matplotlib.ticker import MultipleLocator\n",
    "from __future__ import division\n",
    "import operator\n",
    "import warnings\n",
    "import os\n",
    "\n",
    "pd.set_option('display.width',500)\n",
    "warnings.filterwarnings('ignore')\n",
    "% matplotlib inline"
   ]
  },
  {
   "cell_type": "code",
   "execution_count": 98,
   "metadata": {},
   "outputs": [
    {
     "name": "stdout",
     "output_type": "stream",
     "text": [
      "/Users/KAschbacher/Desktop/publications\n",
      "CTRP_2018-02-24_mini.csv\r\n"
     ]
    }
   ],
   "source": [
    "print os.getcwd()\n",
    "! ls *.csv"
   ]
  },
  {
   "cell_type": "code",
   "execution_count": 186,
   "metadata": {
    "collapsed": true
   },
   "outputs": [],
   "source": [
    "def winsorize(df, var_name, win_std, high_low):\n",
    "    \"\"\"win_std = Number of standard deviations below/above mean that determine the winsorized value.\"\"\"\n",
    "    # Settings\n",
    "    W_var_name = var_name + '_W'# varname for new winsorized variable\n",
    "    df[W_var_name] = df[var_name]\n",
    "    \n",
    "    if high_low=='high':\n",
    "        win_value = operator.add(df[var_name].mean(), (win_std * df[var_name].std()))# new winsorized value\n",
    "        n_win = operator.gt(df[var_name], win_value).sum()# number of points to winsorize\n",
    "        df[W_var_name].loc[operator.gt(df[W_var_name],win_value)] = win_value\n",
    "    else:\n",
    "        win_value = operator.sub(df[var_name].mean(), (win_std * df[var_name].std()))# new winsorized value\n",
    "        n_win = operator.lt(df[var_name], win_value).sum()# number of points to winsorize\n",
    "        df[W_var_name].loc[operator.lt(df[W_var_name],win_value)] = win_value\n",
    "    \n",
    "    print '\\nHandling {} outliers for {}...'.format(n_win, var_name)\n",
    "    print 'Pre-winsorizing min: {}, max: {}, winsorized value: {}\\n'.format(df[var_name].min(), df[var_name].max(), win_value)"
   ]
  },
  {
   "cell_type": "code",
   "execution_count": 187,
   "metadata": {
    "collapsed": true
   },
   "outputs": [],
   "source": [
    "def run_regression(x, y):\n",
    "    reg = sm.OLS(y, sm.add_constant(x, prepend=True), missing='drop').fit()\n",
    "    standB = standardize_betas(x,y,reg) \n",
    "    line_values = make_line(x, reg)\n",
    "    return standB, reg.pvalues[1], line_values"
   ]
  },
  {
   "cell_type": "code",
   "execution_count": 188,
   "metadata": {
    "collapsed": true
   },
   "outputs": [],
   "source": [
    "def standardize_betas(x,y,reg):\n",
    "    \"\"\" Calculate the Standardized Coefficient = standB\n",
    "    B * (Sx/Sy), where Sx = standard dev of x and Sy same w/ y\n",
    "    http://www.albany.edu/faculty/kretheme/PAD705/SupportMat/StandardizedCeof.pdf\n",
    "    x and y are series objects, reg is generated from sm.OLS(**kwargs).fit()\"\"\"\n",
    "    B = reg.params[1]\n",
    "    sx = np.std(x)#ignore intercept\n",
    "    sy = np.std(y)\n",
    "    standB = B*(sx/sy)#This matches SPSS perfectly\n",
    "    return standB"
   ]
  },
  {
   "cell_type": "code",
   "execution_count": 189,
   "metadata": {
    "collapsed": true
   },
   "outputs": [],
   "source": [
    "def format_pvalue(p):\n",
    "    # Round the p-value and add '*'\n",
    "    pval = '{:.3f}'.format(p)[1:]# remove leading 0\n",
    "    if p<=.001: \n",
    "        pval = u'p≤.001**'\n",
    "    else: \n",
    "        pval = u'p='+pval\n",
    "        # Add significance mark\n",
    "        if p<=.01: pval += u'**'\n",
    "        elif p<=.05: pval += u'*'\n",
    "        elif p<=.10: pval += u'†'\n",
    "    return pval"
   ]
  },
  {
   "cell_type": "code",
   "execution_count": 190,
   "metadata": {
    "collapsed": true
   },
   "outputs": [],
   "source": [
    "def divide_10(num, counter):\n",
    "    \"\"\"Recursive function determines the order of a number.  E.g., 10^2 or 10^3...\n",
    "    Determines what scale/order the x-axis is on, to get right anchor points for line in the scatterplot.\"\"\"\n",
    "    if num>10: \n",
    "        counter += 1\n",
    "        #print 'counter:%d, starting number: %d'%(counter, num)\n",
    "        divide_10(num/10, counter)\n",
    "    return counter"
   ]
  },
  {
   "cell_type": "code",
   "execution_count": 224,
   "metadata": {
    "collapsed": true
   },
   "outputs": [],
   "source": [
    "def make_line(x, reg):\n",
    "    \"\"\"Compute points to draw a fit line for the regression on top of the scatterplot. x is a series\"\"\"\n",
    "    \n",
    "    # Get min and max X values to make regression line anchors for scatterplot\n",
    "    x_scale = x.max() - x.min()\n",
    "    exponent = divide_10(x_scale, 0)# Always start call with 2nd argument=0\n",
    "    order = np.power(10, exponent)\n",
    "    \n",
    "    # DEBUGGING statements\n",
    "    #print 'Order: %d'%order\n",
    "    #print 'min x: %d, max x: %d'%(df[x].min(), df[x].max())\n",
    "    #print 'floor: %d, ceil: %d'%(np.floor((df[x].min()/order)), np.ceil((df[x].max()/order)))\n",
    "    \n",
    "    #A Trick which rounds up or down based on desired Order - to closest 10 or 100\n",
    "    minx = order * np.floor(x.min()/order)\n",
    "    maxx = order * np.ceil(x.max()/order)\n",
    "    # Override line coordinates, so both groups are the same\n",
    "    #minx = -10; maxx = 20;\n",
    "    \n",
    "    predy = reg.predict( np.asarray([[1, minx], [1, maxx]]))#Adds intercept back\n",
    "    predy = np.round(predy,decimals=3)\n",
    "    #print 'min %d y %03f, and max %d y %03f \\n' % (minx, predy[0], maxx, predy[1])\n",
    "    \n",
    "    line = np.asarray([[minx, maxx], [predy[0], predy[1]]])\n",
    "    return line"
   ]
  },
  {
   "cell_type": "code",
   "execution_count": 204,
   "metadata": {
    "collapsed": true
   },
   "outputs": [],
   "source": [
    "def scatterplot(g, c):\n",
    "    \"\"\"Plot a scatterplot \n",
    "    **kwargs:  Analysis class object (stats & labels).  Color class object (formatting).\"\"\"\n",
    "\n",
    "    # Plot\n",
    "    plt.rcParams.update(c.params)\n",
    "    fig, ax = plt.subplots()\n",
    "    plt.scatter(g.x, g.y, s=6.5, facecolors=c.dots, lw=.5)\n",
    "    plt.plot(g.line[0], g.line[1], color=c.line, lw=1)\n",
    "    \n",
    "    # Settings\n",
    "    plt.setp([ax.get_xticklines(), ax.get_yticklines()],visible=False)\n",
    "    plt.setp([ax.get_xticklabels(), ax.get_yticklabels()],fontsize=9.5, color=c.ytl)\n",
    "    plt.setp([ax.set_xlabel(g.xy_labels[0]),ax.set_ylabel(g.xy_labels[1])],fontsize=12,color=c.xlb)\n",
    "    ax.yaxis.set_major_locator(MultipleLocator(1))\n",
    "    #plt.title(g.plot_title, fontsize=14)\n",
    "    \n",
    "    # Force boundaries of xlim to match line\n",
    "    plt.xlim(g.line[0][0], g.line[0][1])\n",
    "    \n",
    "    # Add p-values as a text annotation\n",
    "    ax.text(g.text_loc[0], g.text_loc[1], g.text, fontsize=9, color=c.text, style='italic')\n",
    "    \n",
    "    return fig"
   ]
  },
  {
   "cell_type": "code",
   "execution_count": 228,
   "metadata": {
    "collapsed": true
   },
   "outputs": [],
   "source": [
    "class Formater:\n",
    "    def __init__(self):\n",
    "        \n",
    "        # Color scheme\n",
    "        dark_grey='#282828'; med4_grey='#404040'; med3_grey='#686868'; med2_grey='#808080';\n",
    "        \n",
    "        # Assign color to each graph component\n",
    "        self.dots = dark_grey\n",
    "        self.line = med2_grey\n",
    "        self.err = med2_grey\n",
    "        self.edge = med2_grey\n",
    "        self.xlb = dark_grey\n",
    "        self.ylb = dark_grey\n",
    "        self.xtk = med2_grey\n",
    "        self.ytk = med2_grey\n",
    "        self.ytl = med3_grey\n",
    "        self.leg = med3_grey\n",
    "        self.box = med4_grey\n",
    "        self.text = med4_grey#p-value annotated on top of graph\n",
    "        \n",
    "        # Set RC-params - changes global settings\n",
    "        self.params = {\n",
    "            'figure.figsize':(2.75, 3),\n",
    "            'axes.facecolor':'white',\n",
    "            'axes.grid':False,\n",
    "            'axes.edgecolor': med3_grey,\n",
    "            'axes.labelcolor': med3_grey,\n",
    "            'legend.fontsize':12}"
   ]
  },
  {
   "cell_type": "code",
   "execution_count": 229,
   "metadata": {},
   "outputs": [],
   "source": [
    "class Analysis():\n",
    "    def __init__(self, df, xy_vars, xy_labels, text_position):\n",
    "        \"\"\"xy_vars = list [x, y] as string names of columns in df; xy_labels as strings for printing on plot axes\"\"\"\n",
    "        self.x = df[xy_vars[0]]\n",
    "        self.y = df[xy_vars[1]]\n",
    "        self.xy_labels = xy_labels\n",
    "        #self.plot_title = 'Figure 1'\n",
    "\n",
    "        self.standB, self.p, self.line = run_regression(self.x, self.y)\n",
    "        self.p = format_pvalue(self.p)\n",
    "        self.text = u'ß='+'{:.3f}'.format(self.standB)[1:]+', '+self.p# remove leading 0\n",
    "        \n",
    "        #Determines proportion of distance along the xaxis that text appears. Whereas line spans xaxis, it does not necessarily capture ymin and ymax\n",
    "        if text_position=='top_left':\n",
    "            xprop = .05; yprop=.93\n",
    "        else:\n",
    "            xprop = .45; yprop=.01\n",
    "        xloc = self.line[0][0] + (xprop * (self.line[0][1] - self.line[0][0]))\n",
    "        yloc = min(self.y) + (yprop * (max(self.y) - min(self.y)))#yloc = yprop*max(self.y)\n",
    "        self.text_loc = [xloc, yloc]"
   ]
  },
  {
   "cell_type": "code",
   "execution_count": 230,
   "metadata": {},
   "outputs": [
    {
     "name": "stdout",
     "output_type": "stream",
     "text": [
      "['uniqueid', 'FILTER_IL1b_PSSIsev_TSCpst', 'bl_IL1B_T0', 'StdRes_bl_IL1b', 'bl_IL6_T0', 'StdRes_bl_IL6', 'bl_IL10_T0', 'StdRes_bl_IL10', 'bl_CRP_T0', 'StdRes_bl_CRP', 'StdRes_pssi_sev', 'StdRes_pssi_ar', 'StdRes_pssi_av', 'StdRes_pssi_reex', 'StdRes_cesd_tot', 'StdRes_tsc_pst', 'StdRes_tsc_int', 'StdRes_tsc_avd', 'StdRes_tsc_ars', 'StdRes_tsc_dis', 'StdRes_tsc_dep', 'StdRes_tsc_anx', 'StdRes_tsc_ang']\n",
      "\n",
      "N rows and columns: (43, 23)\n",
      "\n",
      "Handling 1 outliers for StdRes_tsc_pst...\n",
      "Pre-winsorizing min: -1.59831525899, max: 3.51862218467, winsorized value: 1.92431550951\n",
      "\n",
      "Saved ./figures/CTRP_StdRes_pssi_sev_2018-02-26.pdf\n",
      "Saved ./figures/CTRP_StdRes_tsc_pst_W_2018-02-26.pdf\n"
     ]
    },
    {
     "data": {
      "image/png": "[encoded data removed]",
      "text/plain": [
       "<matplotlib.figure.Figure at 0x10af80a90>"
      ]
     },
     "metadata": {},
     "output_type": "display_data"
    },
    {
     "data": {
      "image/png": "[encoded data removed]",
      "text/plain": [
       "<matplotlib.figure.Figure at 0x10b7a6e50>"
      ]
     },
     "metadata": {},
     "output_type": "display_data"
    }
   ],
   "source": [
    "def main():\n",
    "    \n",
    "    # Load and filter data\n",
    "    df = pd.read_csv('CTRP_2018-02-24_mini.csv')\n",
    "    print df.columns.tolist()\n",
    "    df = df.loc[df['FILTER_IL1b_PSSIsev_TSCpst']==1]\n",
    "    print '\\nN rows and columns: {}'.format(df.shape)\n",
    "    \n",
    "    # Convert Types, Manage outliers\n",
    "    cols = [col for col in df.columns if col not in ['uniqueid']]\n",
    "    df[cols] = df[cols].apply(lambda x: pd.to_numeric(x, errors='coerce'))\n",
    "    winsorize(df, 'StdRes_tsc_pst', 2, 'high')\n",
    "    \n",
    "    # Specify graph parameters\n",
    "    graph_specs = {'IL1b_PSSIsev':\n",
    "                      {'x':'bl_IL1B_T0',\n",
    "                       'y':'StdRes_pssi_sev',\n",
    "                       'xlabel':'Basal Maternal IL-1b (z)', \n",
    "                       'ylabel':'Pre-Post Treatment Change \\nin Maternal PTSD (z)',\n",
    "                       'text_loc':'top_left'},\n",
    "                  'IL1b_TSC':\n",
    "                      {'x':'bl_IL1B_T0',\n",
    "                       'y':'StdRes_tsc_pst_W',\n",
    "                       'xlabel':'Basal Maternal IL-1b (z)', \n",
    "                       'ylabel':'Pre-Post Treatment Change \\nin Child PTSD (z)',\n",
    "                       'text_loc':'lower_right'}\n",
    "                  }\n",
    "    \n",
    "    # Loop through, plot & save scatterplot graphs  \n",
    "    formater = Formater()\n",
    "    for spec in graph_specs.itervalues():\n",
    "        analysis = Analysis(df, [spec['x'], spec['y']], [spec['xlabel'], spec['ylabel']], spec['text_loc'])\n",
    "        fig = scatterplot(analysis, formater)\n",
    "        fig_filename = './figures/CTRP_{}_{}.pdf'.format(spec['y'], str(dt.date.today()))\n",
    "        fig.savefig(fig_filename, bbox_inches='tight', dpi=600)\n",
    "        print 'Saved {}'.format(fig_filename)\n",
    "    \n",
    "\n",
    "if __name__==\"__main__\":\n",
    "    main()"
   ]
  },
  {
   "cell_type": "code",
   "execution_count": null,
   "metadata": {
    "collapsed": true
   },
   "outputs": [],
   "source": []
  }
 ],
 "metadata": {
  "kernelspec": {
   "display_name": "Python 2",
   "language": "python",
   "name": "python2"
  },
  "language_info": {
   "codemirror_mode": {
    "name": "ipython",
    "version": 2
   },
   "file_extension": ".py",
   "mimetype": "text/x-python",
   "name": "python",
   "nbconvert_exporter": "python",
   "pygments_lexer": "ipython2",
   "version": "2.7.13"
  }
 },
 "nbformat": 4,
 "nbformat_minor": 1
}
