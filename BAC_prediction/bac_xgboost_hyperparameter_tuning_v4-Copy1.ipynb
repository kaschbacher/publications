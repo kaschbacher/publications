{
 "cells": [
  {
   "cell_type": "markdown",
   "metadata": {},
   "source": [
    "# XGBoost for BACtrack Data"
   ]
  },
  {
   "cell_type": "code",
   "execution_count": 53,
   "metadata": {},
   "outputs": [],
   "source": [
    "import os\n",
    "import logging\n",
    "import datetime as dt\n",
    "import pandas as pd\n",
    "import numpy as np\n",
    "import h5py\n",
    "import itertools\n",
    "import sys\n",
    "\n",
    "import pyarrow as pa\n",
    "import pyarrow.parquet as pq\n",
    "\n",
    "# Might need to go before xgboost imports\n",
    "import importlib\n",
    "import warnings\n",
    "warnings.filterwarnings(\"ignore\", category=DeprecationWarning)\n",
    "\n",
    "import xgboost as xgb\n",
    "from sklearn.metrics import accuracy_score, average_precision_score, roc_auc_score, auc, roc_curve, \\\n",
    "    confusion_matrix, classification_report\n",
    "from xgboost.sklearn import XGBClassifier\n",
    "from sklearn.model_selection import GridSearchCV\n",
    "\n",
    "import matplotlib.pyplot as plt\n",
    "%matplotlib inline\n",
    "%config Application.log_level=\"INFO\""
   ]
  },
  {
   "cell_type": "code",
   "execution_count": 54,
   "metadata": {},
   "outputs": [
    {
     "name": "stdout",
     "output_type": "stream",
     "text": [
      "2019-06-07 16:01:00,114 | INFO : Hello world!\n"
     ]
    }
   ],
   "source": [
    "logging.basicConfig(format='%(asctime)s | %(levelname)s : %(message)s',\n",
    "                     level=logging.INFO, stream=sys.stdout)\n",
    "\n",
    "logging.info('Hello world!')"
   ]
  },
  {
   "cell_type": "markdown",
   "metadata": {},
   "source": [
    "#### GLOBAL VARIABLES AND SETTINGS"
   ]
  },
  {
   "cell_type": "code",
   "execution_count": 55,
   "metadata": {},
   "outputs": [],
   "source": [
    "# Secure-copy updated data to server: \n",
    "# scp $LOCAL_PATH kaschbacher@tisoncluster.ucsf.edu:$SERVER_PATH"
   ]
  },
  {
   "cell_type": "code",
   "execution_count": 62,
   "metadata": {},
   "outputs": [],
   "source": [
    "DATA_FOLDER = 'data'\n",
    "FIGURE_FOLDER = 'figures'\n",
    "#FILENAME = 'bac_2018-11-27.h5'\n",
    "FILENAME = 'bac_2019-06-07.parquet'#'bac_2019-03-26.parquet'\n",
    "PATH = '/'.join([DATA_FOLDER, FILENAME])\n",
    "TODAY = str(dt.date.today())\n",
    "MISSING_VALUE = np.nan"
   ]
  },
  {
   "cell_type": "code",
   "execution_count": 63,
   "metadata": {},
   "outputs": [],
   "source": [
    "SEED = 9\n",
    "TRAIN_P = .70\n",
    "DEV_P = .10\n",
    "\n",
    "TEST_P = 1 - TRAIN_P - DEV_P\n",
    "split_percents = [TRAIN_P, DEV_P, TEST_P]"
   ]
  },
  {
   "cell_type": "code",
   "execution_count": 64,
   "metadata": {},
   "outputs": [],
   "source": [
    "DEFAULT_BOOSTING_PARAMS = {\n",
    "    'silent':1,\n",
    "    'learning_rate':.3,\n",
    "    'max_depth':6,\n",
    "    'min_child_weight':1,# default=1, larger=more conservative; building process will give up partitioning \n",
    "    'subsample':0.80,\n",
    "    'colsample_bytree':0.80,\n",
    "    'objective':'binary:logistic',#'objective':'binary:logistic' or 'reg:linear'\n",
    "    'num_boost_round': 10,\n",
    "    #'eval_metric':'auc',\n",
    "    'random_state':7,\n",
    "    'lambda':1,# default=1, L2 (ridge); higher values = more conservative\n",
    "    'alpha':0,# default=0, L1 (lasso); higher values = more conservative\n",
    "    'gamma':0,# [default=0, alias: min_split_loss] - Larger=more conservative. Minimum loss reduction required to make a further partition on a leaf node of the tree\n",
    "    'scale_pos_weight':1# default=1, reset later based on class distribution\n",
    "}"
   ]
  },
  {
   "cell_type": "code",
   "execution_count": 65,
   "metadata": {},
   "outputs": [],
   "source": [
    "# Starts with defaults, but can change\n",
    "boosting_params = DEFAULT_BOOSTING_PARAMS"
   ]
  },
  {
   "cell_type": "code",
   "execution_count": 66,
   "metadata": {},
   "outputs": [],
   "source": [
    "# Set Parameters for Grid Search\n",
    "def get_gs_params(params):\n",
    "    gs_params = {\n",
    "        'learning_rate': params['learning_rate'], \n",
    "        'num_boost_round': params['num_boost_round'],\n",
    "        #'n_estimators': best_n_estimators, \n",
    "        'max_depth': params['max_depth'],\n",
    "        'min_child_weight': params['min_child_weight'], \n",
    "        'gamma': params['gamma'], \n",
    "        'subsample': params['subsample'], \n",
    "        'colsample_bytree': params['colsample_bytree'], \n",
    "        'return_train_score': True,\n",
    "        'objective': 'binary:logistic', \n",
    "        #'n_jobs': 4,# -1 --> make use of all the cores in your system; but supposedly could also slow things \n",
    "        'scale_pos_weight':params['scale_pos_weight'], \n",
    "        'seed':7\n",
    "    }\n",
    "    return gs_params"
   ]
  },
  {
   "cell_type": "code",
   "execution_count": 67,
   "metadata": {},
   "outputs": [],
   "source": [
    "figure_params = {\n",
    "    'figure.figsize':(5,5),\n",
    "    'figure.titlesize':20,\n",
    "    'xtick.labelsize': 13,\n",
    "    'ytick.labelsize': 13,\n",
    "    'axes.labelsize': 18\n",
    "}"
   ]
  },
  {
   "cell_type": "markdown",
   "metadata": {},
   "source": [
    "#### Load Data"
   ]
  },
  {
   "cell_type": "code",
   "execution_count": 68,
   "metadata": {},
   "outputs": [
    {
     "name": "stdout",
     "output_type": "stream",
     "text": [
      "CPU times: user 9 µs, sys: 1 µs, total: 10 µs\n",
      "Wall time: 16.9 µs\n"
     ]
    }
   ],
   "source": [
    "%%time\n",
    "\n",
    "def load_data(path):\n",
    "    \n",
    "    df = pq.read_table(path, use_threads=4).to_pandas()\n",
    "    names = df.columns.tolist()\n",
    "    data = df.values\n",
    "    \n",
    "    return names, data"
   ]
  },
  {
   "cell_type": "markdown",
   "metadata": {},
   "source": [
    "#### Randomly Shuffle the rows\n",
    "--- so that there is no systematic association of date with train/val/test"
   ]
  },
  {
   "cell_type": "code",
   "execution_count": 69,
   "metadata": {},
   "outputs": [],
   "source": [
    "def shuffle_rows(data, SEED):\n",
    "    # shuffles rows of an np-array, w/ seed, order will always be replicable\n",
    "    np.random.seed(seed=SEED)\n",
    "    np.random.shuffle(data)\n",
    "    return data"
   ]
  },
  {
   "cell_type": "markdown",
   "metadata": {},
   "source": [
    "#### Split train/dev/test set 70-10-20"
   ]
  },
  {
   "cell_type": "code",
   "execution_count": 70,
   "metadata": {},
   "outputs": [],
   "source": [
    "def partition_dataset(split_percents, data):\n",
    "    train_per, dev_per, test_per = split_percents\n",
    "    m = data.shape[0]\n",
    "    train, dev, test = np.split(data, [int(m*train_per), int(m*(train_per+dev_per))]) \n",
    "    print ('train shape: {}, dev shape: {}, test shape: {}'.format(train.shape, dev.shape, test.shape))\n",
    "    assert train.shape[0] + dev.shape[0] + test.shape[0] == data.shape[0]\n",
    "    \n",
    "    # Assumes y or target outcome is the first column, and that all other columns will be included in X\n",
    "    partitions = {}\n",
    "    partitions['X_train'] = train[:,1:]\n",
    "    partitions['y_train'] = train[:,0]\n",
    "    partitions['X_dev'] = dev[:,1:]\n",
    "    partitions['y_dev'] = dev[:,0]\n",
    "    partitions['X_test'] = test[:,1:]\n",
    "    partitions['y_test'] = test[:,0]\n",
    "    \n",
    "    return partitions"
   ]
  },
  {
   "cell_type": "markdown",
   "metadata": {},
   "source": [
    "#### Package Data Matrices for XGBoost"
   ]
  },
  {
   "cell_type": "code",
   "execution_count": 71,
   "metadata": {},
   "outputs": [],
   "source": [
    "def package_data (partitions, names):\n",
    "    # Assign data - (Note: must dropna first, otherwise missing=-999 throws an error because NaNs also still exist)\n",
    "    print (\"\\nSetting up data-matrices for Gradient Boosted Classification Tree with Outcome: {}...\\n\".format(names[0]))\n",
    "\n",
    "    names = [str(name) for name in names]# convert from byte to string\n",
    "    partitions['names']=names\n",
    "    partitions['dtrain'] = xgb.DMatrix(data=partitions['X_train'], label=partitions['y_train'], \n",
    "                                       feature_names=names[1:], missing=MISSING_VALUE)\n",
    "    partitions['ddev'] = xgb.DMatrix(data=partitions['X_dev'], label=partitions['y_dev'], \n",
    "                                     feature_names=names[1:], missing=MISSING_VALUE)\n",
    "    partitions['dtest'] = xgb.DMatrix(data=partitions['X_test'], label=partitions['y_test'], \n",
    "                                      feature_names=names[1:], missing=MISSING_VALUE)\n",
    "    \n",
    "    return partitions"
   ]
  },
  {
   "cell_type": "markdown",
   "metadata": {},
   "source": [
    "#### Balance Classes"
   ]
  },
  {
   "cell_type": "code",
   "execution_count": 72,
   "metadata": {},
   "outputs": [],
   "source": [
    "def get_balance_weight(y_train):\n",
    "\n",
    "    pos = np.sum(y_train, axis=0, dtype=int)\n",
    "    neg = y_train.shape[0]-pos\n",
    "    print ('\\n{} positive cases and {} negative cases'.format(pos, neg))\n",
    "\n",
    "    scale_pos_weight = round(neg/pos, 2)# 2.38 for the BACtrack dataset\n",
    "    print ('Scale Weight for balanced classes would be: {}'.format(scale_pos_weight))\n",
    "    return scale_pos_weight"
   ]
  },
  {
   "cell_type": "markdown",
   "metadata": {},
   "source": [
    "#### Training/Fitting the Model\n",
    "--- fit vs train -- https://datascience.stackexchange.com/questions/17282/xgbregressor-vs-xgboost-train-huge-speed-difference"
   ]
  },
  {
   "cell_type": "code",
   "execution_count": 73,
   "metadata": {},
   "outputs": [],
   "source": [
    "def fit_model(dtrain, ddev, boosting_params):\n",
    "    # # Training a Model\n",
    "    # # -- xgboost.train will ignore parameter n_estimators, while xgboost.XGBRegressor accepts. \n",
    "    # # -- In xgboost.train, boosting iterations (i.e. n_estimators) is controlled by num_boost_round(default: 10)\n",
    "    # # -- the learning_rate (eta) and num_boost_rounds are instrisincally connected.  \n",
    "    # # -- Slower learning rates will typically require more rounds\n",
    "\n",
    "    # if num_boost_round not explicitly given as kwarg, it will be overridden by default of 10, which can be seen in eval printing\n",
    "    watchlist = [(ddev, 'dev'), (dtrain, 'train')]\n",
    "    %time\n",
    "    model = xgb.train(params=boosting_params, dtrain=dtrain, evals=watchlist, verbose_eval=True,\n",
    "                      num_boost_round=boosting_params['num_boost_round'])# try predictor='gpu_predictor'\n",
    "    return model"
   ]
  },
  {
   "cell_type": "markdown",
   "metadata": {},
   "source": [
    "#### Make & Evaluate Model Predictions"
   ]
  },
  {
   "cell_type": "code",
   "execution_count": 74,
   "metadata": {},
   "outputs": [],
   "source": [
    "def predict(model, d_true):\n",
    "    # d_true is the xgboost prepared dataset corresponding to test or dev (per needs); includes X and y and names\n",
    "    y_proba = model.predict(d_true)\n",
    "    y_pred = [round(value) for value in y_proba]# Use to get 0 vs 1?\n",
    "    return y_pred, y_proba"
   ]
  },
  {
   "cell_type": "code",
   "execution_count": 75,
   "metadata": {},
   "outputs": [],
   "source": [
    "def evaluate_model(y_true, y_pred, y_proba):\n",
    "    accuracy = accuracy_score(y_true, y_pred)\n",
    "    roc_auc = roc_auc_score(y_true, y_proba, average='micro', max_fpr=None)#sample_weight=scale_pos_weight, \n",
    "    print ('Accuracy: {:02.2f}%'.format(accuracy*100.))\n",
    "    print ('ROC AUC: {:02.2f}%'.format(roc_auc*100.))\n",
    "    return accuracy, roc_auc"
   ]
  },
  {
   "cell_type": "markdown",
   "metadata": {},
   "source": [
    "#### Confusion Matrix"
   ]
  },
  {
   "cell_type": "code",
   "execution_count": 76,
   "metadata": {},
   "outputs": [],
   "source": [
    "def plot_confusion_matrix(cm, classes,\n",
    "                          normalize=False,\n",
    "                          title='Confusion matrix',\n",
    "                          cmap=plt.cm.Blues):\n",
    "    \"\"\"\n",
    "    This function prints and plots the confusion matrix.\n",
    "    Normalization can be applied by setting `normalize=True`.\n",
    "    \"\"\"\n",
    "    if normalize:\n",
    "        cm = cm.astype('float') / cm.sum(axis=1)[:, np.newaxis]\n",
    "        print(\"Normalized confusion matrix\\n\")\n",
    "    else:\n",
    "        print('Confusion matrix, without normalization')\n",
    "\n",
    "    print(cm)\n",
    "\n",
    "    plt.imshow(cm, interpolation='nearest', cmap=cmap)\n",
    "    plt.title(title)\n",
    "    plt.colorbar()\n",
    "    tick_marks = np.arange(len(classes))\n",
    "    plt.xticks(tick_marks, classes, rotation=45)\n",
    "    plt.yticks(tick_marks, classes)\n",
    "\n",
    "    fmt = '.2f' if normalize else 'd'\n",
    "    thresh = cm.max() / 2.\n",
    "    for i, j in itertools.product(range(cm.shape[0]), range(cm.shape[1])):\n",
    "        plt.text(j, i, format(cm[i, j], fmt),\n",
    "                 horizontalalignment=\"center\",\n",
    "                 color=\"white\" if cm[i, j] > thresh else \"black\")\n",
    "\n",
    "    plt.tight_layout()\n",
    "    plt.ylabel('Actual')\n",
    "    plt.xlabel('Predicted')"
   ]
  },
  {
   "cell_type": "markdown",
   "metadata": {},
   "source": [
    "#### Full Report (w/ Confusion Matrix)"
   ]
  },
  {
   "cell_type": "code",
   "execution_count": 77,
   "metadata": {},
   "outputs": [],
   "source": [
    "def full_report(figure_params, y_test, y_pred, target_names):\n",
    "    \n",
    "    # # Plot Confusion Matrix for Classification - http://scikit-learn.org/stable/modules/model_evaluation.html\n",
    "    plt.rcParams.update(figure_params)\n",
    "\n",
    "    cnf_matrix = confusion_matrix(y_test, y_pred)\n",
    "    tn, fp, fn, tp = confusion_matrix(y_test, y_pred).ravel()\n",
    "\n",
    "    fig = plt.figure()\n",
    "    plot_confusion_matrix(cnf_matrix, ['low BAC','high BAC'], normalize=True)\n",
    "    plt.title('Confusion Matrix', fontsize=16)\n",
    "    plt.show()\n",
    "    fig.savefig('/'.join( \\\n",
    "        [FIGURE_FOLDER,'/cm/Normalized_Confusion_Matrix_BAC_Classification_{}.png'.format(TODAY)]), \\\n",
    "        bbox_inches='tight')\n",
    "\n",
    "    # Classification Report\n",
    "    #print ('\\nAccuracy: {:02.2f}%\\n'.format(accuracy*100.))\n",
    "    print (classification_report(y_test, y_pred, target_names=target_names),'\\n')"
   ]
  },
  {
   "cell_type": "markdown",
   "metadata": {},
   "source": [
    "### Plot ROC"
   ]
  },
  {
   "cell_type": "code",
   "execution_count": 78,
   "metadata": {},
   "outputs": [],
   "source": [
    "def plot_ROC(y_test, y_pred_proba):\n",
    "    # y_test can also be y_dev, depending on context\n",
    "    \n",
    "    fpr = dict()\n",
    "    tpr = dict()\n",
    "    roc_auc = dict()\n",
    "\n",
    "    # Calculate x and y for ROC-curve\n",
    "    fpr, tpr, _ = roc_curve(y_test, y_pred_proba)\n",
    "    roc_auc = auc(fpr, tpr)\n",
    "    #print (fpr.shape, tpr.shape, roc_auc)# DEBUG\n",
    "\n",
    "    #Plot of a ROC curve for a specific class\n",
    "    plt.rcParams.update(figure_params)\n",
    "    plt.figure()\n",
    "    plt.plot(fpr, tpr, color='darkorange',\n",
    "             lw=2, label='ROC curve (area = {:0.2f})'.format(roc_auc))\n",
    "    plt.plot([0, 1], [0, 1], color='navy', lw=2, linestyle='--')\n",
    "    plt.xlim([0.0, 1.0])\n",
    "    plt.ylim([0.0, 1.05])\n",
    "    plt.xlabel('False Positive Rate')\n",
    "    plt.ylabel('True Positive Rate')\n",
    "    plt.title('Receiver operating characteristic')\n",
    "    plt.legend(loc=\"lower right\")\n",
    "    plt.show()"
   ]
  },
  {
   "cell_type": "markdown",
   "metadata": {},
   "source": [
    "### Built-in Feature Importance Graph:  \n",
    "--- importance_type='weight' matches above.  'cover' provides quite different results, which may be of interest to report in paper."
   ]
  },
  {
   "cell_type": "code",
   "execution_count": 79,
   "metadata": {},
   "outputs": [],
   "source": [
    "def graph_importances(model):  \n",
    "    \n",
    "    # -- http://xgboost.readthedocs.io/en/latest/python/python_api.html\n",
    "    # weight” is the number of times a feature appears in a tree “gain” is the average gain of splits which use the feature...\n",
    "    # “cover” is the average coverage of splits which use the feature, where coverage is defined as the number of samples affected by the split\n",
    "    plt.rcParams['figure.figsize']=(14,18)\n",
    "    xgb.plot_importance(model, importance_type='weight')\n",
    "    plt.title('Feature Importance (Weight)', fontsize=20)\n",
    "    plt.show()\n",
    "    plt.savefig('/'.join([FIGURE_FOLDER,'fi/feature_importance_{}.png'.format(TODAY)]), \\\n",
    "                bbox_inches='tight')   "
   ]
  },
  {
   "cell_type": "markdown",
   "metadata": {},
   "source": [
    "### MAIN"
   ]
  },
  {
   "cell_type": "code",
   "execution_count": 82,
   "metadata": {},
   "outputs": [
    {
     "name": "stdout",
     "output_type": "stream",
     "text": [
      "(973264, 92) \n",
      "\n",
      "['bac_clinical', 'user_id', 'bac_guess']\n",
      "CPU times: user 3.74 s, sys: 2.07 s, total: 5.81 s\n",
      "Wall time: 2.88 s\n"
     ]
    }
   ],
   "source": [
    "%%time\n",
    "# Load Data\n",
    "names, data = load_data(PATH)\n",
    "print (data.shape, '\\n')# QA\n",
    "print (names[:3])# Ensure that bac_clinical (or the outcome) is the first column!"
   ]
  },
  {
   "cell_type": "code",
   "execution_count": 95,
   "metadata": {},
   "outputs": [
    {
     "name": "stdout",
     "output_type": "stream",
     "text": [
      "Number of unique users: 33460\n"
     ]
    }
   ],
   "source": [
    "# Find number of unique users\n",
    "data_df = pd.DataFrame(data, columns=names)\n",
    "vc = data_df.user_id.value_counts()# series with user_id and count of observations per user\n",
    "print ('Number of unique users: {}'.format(data_df.user_id.unique().shape[0]))"
   ]
  },
  {
   "cell_type": "markdown",
   "metadata": {},
   "source": [
    "#### Prepare Data"
   ]
  },
  {
   "cell_type": "code",
   "execution_count": 38,
   "metadata": {},
   "outputs": [
    {
     "name": "stdout",
     "output_type": "stream",
     "text": [
      "train shape: (681284, 91), dev shape: (97327, 91), test shape: (194653, 91)\n",
      "\n",
      "Setting up data-matrices for Gradient Boosted Classification Tree with Outcome: bac_clinical...\n",
      "\n",
      "CPU times: user 5.61 s, sys: 1.13 s, total: 6.75 s\n",
      "Wall time: 7.07 s\n"
     ]
    }
   ],
   "source": [
    "%%time\n",
    "# Partition randomly\n",
    "shuffle_rows(data, SEED)\n",
    "partitions = partition_dataset(split_percents, data)\n",
    "\n",
    "# Package data for XGboost\n",
    "partitions = package_data(partitions, names)# Adds names + dtrain, ddev, dtest"
   ]
  },
  {
   "cell_type": "markdown",
   "metadata": {},
   "source": [
    "### Balancing the Classes/ Determining Class Weights"
   ]
  },
  {
   "cell_type": "code",
   "execution_count": 39,
   "metadata": {},
   "outputs": [],
   "source": [
    "def balance_classes(boosting_params, partitions):\n",
    "    prior_scale_pos_weight = boosting_params['scale_pos_weight']\n",
    "    # Reset scale weight in boosting params and in the grid search params both\n",
    "    boosting_params['scale_pos_weight'] = get_balance_weight(partitions['y_train'])\n",
    "    gs_params = get_gs_params(boosting_params)\n",
    "    print ('\\nResetting positive scale weight from {} to {}...\\n'.format(prior_scale_pos_weight, boosting_params['scale_pos_weight']))\n",
    "    return gs_params"
   ]
  },
  {
   "cell_type": "markdown",
   "metadata": {},
   "source": [
    "## Default Model for Comparison"
   ]
  },
  {
   "cell_type": "code",
   "execution_count": 40,
   "metadata": {},
   "outputs": [],
   "source": [
    "def base_model_wwo_balancing(boosting_params, partitions):\n",
    "    \n",
    "    # Assumption is that boosting_params starts out at the default, and then can be altered throughout the tuning process\n",
    "    if boosting_params != DEFAULT_BOOSTING_PARAMS:\n",
    "        print ('Resetting boosting params to be equal to DEFAULT\\n')\n",
    "        boosting_params = DEFAULT_BOOSTING_PARAMS\n",
    "    # Assumes we start with no scale weighting, and compare that to weighting inversely to case prevalence in the training set\n",
    "    if boosting_params['scale_pos_weight'] != 1:\n",
    "        print ('Converting the scale weight for boosting params back to 1 for the first run...\\n')\n",
    "        boosting_params['scale_pos_weight'] = 1\n",
    "    \n",
    "    # Fit & Evaluate model twice: 1) Unbalanced, 2) Balanced\n",
    "    for i in range(0,2):\n",
    "        if i>0: \n",
    "            print ('-'*60,'\\n')\n",
    "            balance_classes(boosting_params, partitions)\n",
    "            \n",
    "        # Fit Model\n",
    "        print ('Run {}, Scale weight = {:0.2f}'.format(i, boosting_params['scale_pos_weight']))\n",
    "        model= fit_model(partitions['dtrain'], partitions['ddev'], boosting_params)\n",
    "\n",
    "        # Predict/ Evaluate in Dev set\n",
    "        y_true = partitions['y_dev']; d_true = partitions['ddev']\n",
    "        y_pred, y_proba = predict(model, d_true)\n",
    "        accuracy, roc = evaluate_model(y_true, y_pred, y_proba)\n",
    "\n",
    "        # Get Results & Figures\n",
    "        plot_ROC(y_true, y_proba)\n",
    "        full_report(figure_params, y_true, y_pred, ['bac <.08', 'bac >=.08'])\n",
    "        #graph_importances(model) \n",
    "        \n",
    "#base_model_wwo_balancing(boosting_params, partitions)   "
   ]
  },
  {
   "cell_type": "markdown",
   "metadata": {},
   "source": [
    "### Use Cross-Validated XGBoost to determine the optimal number of trees"
   ]
  },
  {
   "cell_type": "code",
   "execution_count": 46,
   "metadata": {},
   "outputs": [
    {
     "name": "stdout",
     "output_type": "stream",
     "text": [
      "Boosting Params...\n",
      "\n",
      "silent 1\n",
      "learning_rate 0.01\n",
      "max_depth 6\n",
      "min_child_weight 1\n",
      "subsample 0.8\n",
      "colsample_bytree 0.8\n",
      "objective binary:logistic\n",
      "num_boost_round 500\n",
      "random_state 7\n",
      "lambda 1\n",
      "alpha 0\n",
      "gamma 0\n",
      "scale_pos_weight 2.38\n",
      "nthread -1\n",
      "verbose 2\n",
      "evals None\n",
      "\n",
      "\n",
      "[0]\ttrain-auc:0.829463+0.00239069\ttest-auc:0.828592+0.00291422\n",
      "[1]\ttrain-auc:0.853151+0.00120702\ttest-auc:0.852432+0.00192438\n",
      "[2]\ttrain-auc:0.851196+0.001202\ttest-auc:0.850477+0.00101354\n",
      "[3]\ttrain-auc:0.856012+0.000973725\ttest-auc:0.855274+0.00083944\n",
      "[4]\ttrain-auc:0.856553+0.00117859\ttest-auc:0.855704+0.0012035\n",
      "[5]\ttrain-auc:0.857687+0.000576852\ttest-auc:0.856853+0.000404544\n",
      "[6]\ttrain-auc:0.857785+0.0015244\ttest-auc:0.856984+0.00107422\n",
      "[7]\ttrain-auc:0.858662+0.00111942\ttest-auc:0.857876+0.000669942\n",
      "[8]\ttrain-auc:0.858788+0.00148692\ttest-auc:0.857972+0.00107597\n",
      "[9]\ttrain-auc:0.859533+0.000762019\ttest-auc:0.858669+0.000536616\n",
      "[10]\ttrain-auc:0.859784+0.00062195\ttest-auc:0.858918+6.68331e-05\n",
      "[11]\ttrain-auc:0.860117+0.000452124\ttest-auc:0.859257+0.000235989\n",
      "[12]\ttrain-auc:0.860332+0.00044548\ttest-auc:0.859473+0.000269038\n",
      "[13]\ttrain-auc:0.860463+0.000326368\ttest-auc:0.859605+0.000431078\n",
      "[14]\ttrain-auc:0.860575+0.000336383\ttest-auc:0.859716+0.000440071\n",
      "[15]\ttrain-auc:0.860799+0.000337606\ttest-auc:0.859952+0.000371887\n",
      "[16]\ttrain-auc:0.860874+0.000353569\ttest-auc:0.860052+0.000390566\n",
      "[17]\ttrain-auc:0.860905+0.000354021\ttest-auc:0.860052+0.000427122\n",
      "[18]\ttrain-auc:0.860838+0.000379628\ttest-auc:0.859968+0.000418356\n",
      "[19]\ttrain-auc:0.860905+0.000319687\ttest-auc:0.860026+0.00041723\n",
      "[20]\ttrain-auc:0.86099+0.000265513\ttest-auc:0.860124+0.000468821\n",
      "[21]\ttrain-auc:0.860976+0.000313478\ttest-auc:0.860096+0.000507642\n",
      "[22]\ttrain-auc:0.860927+0.000389325\ttest-auc:0.860034+0.000578998\n",
      "[23]\ttrain-auc:0.860864+0.000496197\ttest-auc:0.859962+0.000662618\n",
      "[24]\ttrain-auc:0.860933+0.000425589\ttest-auc:0.860024+0.000652201\n",
      "[25]\ttrain-auc:0.861+0.000328261\ttest-auc:0.86009+0.00062697\n",
      "[26]\ttrain-auc:0.861071+0.000210442\ttest-auc:0.860156+0.000614053\n",
      "[27]\ttrain-auc:0.861137+0.000214274\ttest-auc:0.860212+0.000669141\n",
      "[28]\ttrain-auc:0.86114+0.000178617\ttest-auc:0.860225+0.000695271\n",
      "[29]\ttrain-auc:0.861159+0.000164122\ttest-auc:0.860237+0.000708413\n",
      "[30]\ttrain-auc:0.861213+0.000103067\ttest-auc:0.860284+0.000718211\n",
      "[31]\ttrain-auc:0.861279+0.00013759\ttest-auc:0.860361+0.00078206\n",
      "[32]\ttrain-auc:0.861349+0.000146119\ttest-auc:0.860435+0.000788934\n",
      "[33]\ttrain-auc:0.861414+0.000140088\ttest-auc:0.860501+0.000740908\n",
      "[34]\ttrain-auc:0.861452+0.000151501\ttest-auc:0.860519+0.000698152\n",
      "[35]\ttrain-auc:0.86149+0.000147078\ttest-auc:0.860559+0.00071524\n",
      "[36]\ttrain-auc:0.861556+0.00013949\ttest-auc:0.860628+0.000657686\n",
      "[37]\ttrain-auc:0.861571+0.000158308\ttest-auc:0.860647+0.000684793\n",
      "[38]\ttrain-auc:0.8616+0.000151519\ttest-auc:0.860676+0.000704631\n",
      "[39]\ttrain-auc:0.861669+0.000127395\ttest-auc:0.860748+0.000701086\n",
      "[40]\ttrain-auc:0.861741+0.000113114\ttest-auc:0.860825+0.000660987\n",
      "[41]\ttrain-auc:0.861761+0.000120008\ttest-auc:0.860842+0.000682049\n",
      "[42]\ttrain-auc:0.861781+0.000110553\ttest-auc:0.860862+0.000700854\n",
      "[43]\ttrain-auc:0.861784+0.000110656\ttest-auc:0.860872+0.000721402\n",
      "[44]\ttrain-auc:0.861866+0.000132034\ttest-auc:0.860951+0.00065575\n",
      "[45]\ttrain-auc:0.86192+0.000149141\ttest-auc:0.861011+0.000625838\n",
      "[46]\ttrain-auc:0.861985+0.00010359\ttest-auc:0.861067+0.000643335\n",
      "[47]\ttrain-auc:0.861985+0.00012535\ttest-auc:0.861061+0.000648087\n",
      "[48]\ttrain-auc:0.862104+0.00013894\ttest-auc:0.861169+0.000571997\n",
      "[49]\ttrain-auc:0.862129+0.000165151\ttest-auc:0.861194+0.000560342\n",
      "[50]\ttrain-auc:0.862176+0.000153963\ttest-auc:0.861238+0.000591576\n",
      "[51]\ttrain-auc:0.862215+0.000167589\ttest-auc:0.861267+0.000641362\n",
      "[52]\ttrain-auc:0.862227+0.000173299\ttest-auc:0.861278+0.000643402\n",
      "[53]\ttrain-auc:0.862272+0.000190046\ttest-auc:0.861326+0.000634162\n",
      "[54]\ttrain-auc:0.862278+0.000188751\ttest-auc:0.861337+0.000646852\n",
      "[55]\ttrain-auc:0.862299+0.000193386\ttest-auc:0.861354+0.000663603\n",
      "[56]\ttrain-auc:0.86231+0.000193873\ttest-auc:0.861363+0.0006685\n",
      "[57]\ttrain-auc:0.862331+0.000192977\ttest-auc:0.861379+0.00066432\n",
      "[58]\ttrain-auc:0.862383+0.000149286\ttest-auc:0.861427+0.000660439\n",
      "[59]\ttrain-auc:0.862396+0.000147913\ttest-auc:0.861443+0.000672983\n",
      "[60]\ttrain-auc:0.862416+0.000134403\ttest-auc:0.861465+0.000691071\n",
      "[61]\ttrain-auc:0.862466+0.000153784\ttest-auc:0.86151+0.000700509\n",
      "[62]\ttrain-auc:0.862488+0.000158013\ttest-auc:0.861532+0.000711169\n",
      "[63]\ttrain-auc:0.862544+0.000172002\ttest-auc:0.86158+0.000661848\n",
      "[64]\ttrain-auc:0.862584+0.000157621\ttest-auc:0.861618+0.000649419\n",
      "[65]\ttrain-auc:0.862624+0.000178999\ttest-auc:0.861661+0.000689636\n",
      "[66]\ttrain-auc:0.862671+0.000191684\ttest-auc:0.861711+0.000652385\n",
      "[67]\ttrain-auc:0.862686+0.000193991\ttest-auc:0.861728+0.000647105\n",
      "[68]\ttrain-auc:0.862723+0.000152947\ttest-auc:0.861765+0.000655521\n",
      "[69]\ttrain-auc:0.862742+0.000151352\ttest-auc:0.861789+0.0006518\n",
      "[70]\ttrain-auc:0.862761+0.000143353\ttest-auc:0.861812+0.000653274\n",
      "[71]\ttrain-auc:0.862763+0.000139182\ttest-auc:0.861817+0.000659323\n",
      "[72]\ttrain-auc:0.862772+0.000135976\ttest-auc:0.861821+0.000668272\n",
      "[73]\ttrain-auc:0.862808+0.000169955\ttest-auc:0.861857+0.000635466\n",
      "[74]\ttrain-auc:0.862848+0.000164482\ttest-auc:0.861886+0.000635405\n",
      "[75]\ttrain-auc:0.86287+0.000158605\ttest-auc:0.861907+0.000626462\n",
      "[76]\ttrain-auc:0.862887+0.000146106\ttest-auc:0.861925+0.000632131\n",
      "[77]\ttrain-auc:0.862909+0.000160359\ttest-auc:0.861943+0.000624549\n",
      "[78]\ttrain-auc:0.862942+0.000178992\ttest-auc:0.861977+0.00059782\n",
      "[79]\ttrain-auc:0.86297+0.000191092\ttest-auc:0.862002+0.000574274\n",
      "[80]\ttrain-auc:0.863006+0.000210656\ttest-auc:0.862037+0.000570817\n",
      "[81]\ttrain-auc:0.863051+0.000246697\ttest-auc:0.862081+0.000550242\n",
      "[82]\ttrain-auc:0.863067+0.000234523\ttest-auc:0.86209+0.000546663\n",
      "[83]\ttrain-auc:0.863082+0.000225372\ttest-auc:0.862105+0.00054681\n",
      "[84]\ttrain-auc:0.863111+0.000201568\ttest-auc:0.862137+0.000551674\n",
      "[85]\ttrain-auc:0.86314+0.00022447\ttest-auc:0.862164+0.00052385\n",
      "[86]\ttrain-auc:0.863172+0.000215977\ttest-auc:0.862194+0.000518143\n",
      "[87]\ttrain-auc:0.863188+0.000210205\ttest-auc:0.862206+0.000525608\n",
      "[88]\ttrain-auc:0.863254+0.000233786\ttest-auc:0.862269+0.000498671\n",
      "[89]\ttrain-auc:0.863289+0.000218597\ttest-auc:0.862302+0.000507551\n",
      "[90]\ttrain-auc:0.863318+0.000222935\ttest-auc:0.862324+0.00049882\n",
      "[91]\ttrain-auc:0.863338+0.000223626\ttest-auc:0.862342+0.000495834\n",
      "[92]\ttrain-auc:0.863379+0.000232312\ttest-auc:0.862379+0.000493529\n",
      "[93]\ttrain-auc:0.863431+0.000209801\ttest-auc:0.86243+0.000512906\n",
      "[94]\ttrain-auc:0.863439+0.000221832\ttest-auc:0.862436+0.000503373\n",
      "[95]\ttrain-auc:0.863472+0.000244629\ttest-auc:0.862466+0.000481882\n",
      "[96]\ttrain-auc:0.863495+0.000260566\ttest-auc:0.862486+0.000465758\n",
      "[97]\ttrain-auc:0.863511+0.000270159\ttest-auc:0.862503+0.000456225\n",
      "[98]\ttrain-auc:0.86354+0.000257325\ttest-auc:0.862531+0.000482458\n",
      "[99]\ttrain-auc:0.863564+0.00025593\ttest-auc:0.862554+0.000482188\n",
      "[100]\ttrain-auc:0.863609+0.000240364\ttest-auc:0.862594+0.00050949\n",
      "[101]\ttrain-auc:0.863638+0.000239492\ttest-auc:0.862616+0.000517291\n",
      "[102]\ttrain-auc:0.863657+0.000233684\ttest-auc:0.862634+0.000529757\n",
      "[103]\ttrain-auc:0.863685+0.000224434\ttest-auc:0.862661+0.000526593\n",
      "[104]\ttrain-auc:0.863718+0.000231156\ttest-auc:0.862692+0.000520233\n",
      "[105]\ttrain-auc:0.86373+0.000238676\ttest-auc:0.862705+0.000511132\n",
      "[106]\ttrain-auc:0.863769+0.000264547\ttest-auc:0.862742+0.000496225\n",
      "[107]\ttrain-auc:0.863781+0.000263821\ttest-auc:0.862755+0.000503325\n",
      "[108]\ttrain-auc:0.863797+0.000255762\ttest-auc:0.862773+0.000515222\n",
      "[109]\ttrain-auc:0.863814+0.000254025\ttest-auc:0.862789+0.000516421\n",
      "[110]\ttrain-auc:0.863848+0.000244279\ttest-auc:0.862821+0.000530516\n",
      "[111]\ttrain-auc:0.863873+0.000259713\ttest-auc:0.862843+0.000515639\n",
      "[112]\ttrain-auc:0.863905+0.000241306\ttest-auc:0.862872+0.00051765\n",
      "[113]\ttrain-auc:0.863933+0.000238596\ttest-auc:0.862898+0.000535283\n",
      "[114]\ttrain-auc:0.863962+0.000271674\ttest-auc:0.86292+0.00050452\n",
      "[115]\ttrain-auc:0.864011+0.000284395\ttest-auc:0.862968+0.00050912\n",
      "[116]\ttrain-auc:0.864023+0.000285402\ttest-auc:0.86298+0.0005071\n",
      "[117]\ttrain-auc:0.864052+0.000265908\ttest-auc:0.863007+0.000520686\n",
      "[118]\ttrain-auc:0.864073+0.000264081\ttest-auc:0.863027+0.000534689\n",
      "[119]\ttrain-auc:0.864096+0.000263325\ttest-auc:0.863044+0.000545518\n",
      "[120]\ttrain-auc:0.864118+0.000266797\ttest-auc:0.863063+0.00055686\n",
      "[121]\ttrain-auc:0.864124+0.000269815\ttest-auc:0.863071+0.000557674\n"
     ]
    },
    {
     "name": "stdout",
     "output_type": "stream",
     "text": [
      "[122]\ttrain-auc:0.864134+0.000273324\ttest-auc:0.86308+0.000552813\n",
      "[123]\ttrain-auc:0.864166+0.000273147\ttest-auc:0.863109+0.000548691\n",
      "[124]\ttrain-auc:0.864182+0.000285368\ttest-auc:0.863122+0.00053942\n",
      "[125]\ttrain-auc:0.864216+0.000291627\ttest-auc:0.86315+0.000518119\n",
      "[126]\ttrain-auc:0.864269+0.000282807\ttest-auc:0.8632+0.000515252\n",
      "[127]\ttrain-auc:0.86431+0.000284868\ttest-auc:0.863239+0.000506882\n",
      "[128]\ttrain-auc:0.864328+0.000277359\ttest-auc:0.863257+0.000505781\n",
      "[129]\ttrain-auc:0.864351+0.000276552\ttest-auc:0.863278+0.000514756\n",
      "[130]\ttrain-auc:0.864381+0.000287136\ttest-auc:0.863306+0.000503618\n",
      "[131]\ttrain-auc:0.864432+0.00030254\ttest-auc:0.863352+0.000489661\n",
      "[132]\ttrain-auc:0.864457+0.000295658\ttest-auc:0.863378+0.000484981\n",
      "[133]\ttrain-auc:0.864499+0.000317864\ttest-auc:0.863417+0.000462085\n",
      "[134]\ttrain-auc:0.864516+0.00031248\ttest-auc:0.863431+0.000460813\n",
      "[135]\ttrain-auc:0.864544+0.000303481\ttest-auc:0.863457+0.000462369\n",
      "[136]\ttrain-auc:0.864591+0.000328423\ttest-auc:0.8635+0.000451407\n",
      "[137]\ttrain-auc:0.864634+0.000340861\ttest-auc:0.863538+0.000440249\n",
      "[138]\ttrain-auc:0.864675+0.00034339\ttest-auc:0.863574+0.000431754\n",
      "[139]\ttrain-auc:0.864708+0.0003329\ttest-auc:0.863604+0.000452334\n",
      "[140]\ttrain-auc:0.86472+0.000328275\ttest-auc:0.863617+0.000454291\n",
      "[141]\ttrain-auc:0.864763+0.000325782\ttest-auc:0.863655+0.000459056\n",
      "[142]\ttrain-auc:0.864797+0.000339253\ttest-auc:0.863683+0.000449326\n",
      "[143]\ttrain-auc:0.86483+0.000339343\ttest-auc:0.863711+0.000450899\n",
      "[144]\ttrain-auc:0.864848+0.00034548\ttest-auc:0.863727+0.000449953\n",
      "[145]\ttrain-auc:0.864873+0.000338341\ttest-auc:0.86375+0.000458988\n",
      "[146]\ttrain-auc:0.864915+0.000351373\ttest-auc:0.863786+0.000442663\n",
      "[147]\ttrain-auc:0.864933+0.000347527\ttest-auc:0.863803+0.000442904\n",
      "[148]\ttrain-auc:0.864974+0.000343788\ttest-auc:0.863839+0.000444636\n",
      "[149]\ttrain-auc:0.865014+0.00034392\ttest-auc:0.863874+0.000444498\n"
     ]
    },
    {
     "ename": "KeyboardInterrupt",
     "evalue": "",
     "output_type": "error",
     "traceback": [
      "\u001b[0;31m---------------------------------------------------------------------------\u001b[0m",
      "\u001b[0;31mKeyboardInterrupt\u001b[0m                         Traceback (most recent call last)",
      "\u001b[0;32m<timed exec>\u001b[0m in \u001b[0;36m<module>\u001b[0;34m\u001b[0m\n",
      "\u001b[0;32m~/.conda/envs/bactrack/lib/python3.6/site-packages/xgboost/training.py\u001b[0m in \u001b[0;36mcv\u001b[0;34m(params, dtrain, num_boost_round, nfold, stratified, folds, metrics, obj, feval, maximize, early_stopping_rounds, fpreproc, as_pandas, verbose_eval, show_stdv, seed, callbacks, shuffle)\u001b[0m\n\u001b[1;32m    443\u001b[0m                            evaluation_result_list=None))\n\u001b[1;32m    444\u001b[0m         \u001b[0;32mfor\u001b[0m \u001b[0mfold\u001b[0m \u001b[0;32min\u001b[0m \u001b[0mcvfolds\u001b[0m\u001b[0;34m:\u001b[0m\u001b[0;34m\u001b[0m\u001b[0;34m\u001b[0m\u001b[0m\n\u001b[0;32m--> 445\u001b[0;31m             \u001b[0mfold\u001b[0m\u001b[0;34m.\u001b[0m\u001b[0mupdate\u001b[0m\u001b[0;34m(\u001b[0m\u001b[0mi\u001b[0m\u001b[0;34m,\u001b[0m \u001b[0mobj\u001b[0m\u001b[0;34m)\u001b[0m\u001b[0;34m\u001b[0m\u001b[0;34m\u001b[0m\u001b[0m\n\u001b[0m\u001b[1;32m    446\u001b[0m         \u001b[0mres\u001b[0m \u001b[0;34m=\u001b[0m \u001b[0maggcv\u001b[0m\u001b[0;34m(\u001b[0m\u001b[0;34m[\u001b[0m\u001b[0mf\u001b[0m\u001b[0;34m.\u001b[0m\u001b[0meval\u001b[0m\u001b[0;34m(\u001b[0m\u001b[0mi\u001b[0m\u001b[0;34m,\u001b[0m \u001b[0mfeval\u001b[0m\u001b[0;34m)\u001b[0m \u001b[0;32mfor\u001b[0m \u001b[0mf\u001b[0m \u001b[0;32min\u001b[0m \u001b[0mcvfolds\u001b[0m\u001b[0;34m]\u001b[0m\u001b[0;34m)\u001b[0m\u001b[0;34m\u001b[0m\u001b[0;34m\u001b[0m\u001b[0m\n\u001b[1;32m    447\u001b[0m \u001b[0;34m\u001b[0m\u001b[0m\n",
      "\u001b[0;32m~/.conda/envs/bactrack/lib/python3.6/site-packages/xgboost/training.py\u001b[0m in \u001b[0;36mupdate\u001b[0;34m(self, iteration, fobj)\u001b[0m\n\u001b[1;32m    228\u001b[0m     \u001b[0;32mdef\u001b[0m \u001b[0mupdate\u001b[0m\u001b[0;34m(\u001b[0m\u001b[0mself\u001b[0m\u001b[0;34m,\u001b[0m \u001b[0miteration\u001b[0m\u001b[0;34m,\u001b[0m \u001b[0mfobj\u001b[0m\u001b[0;34m)\u001b[0m\u001b[0;34m:\u001b[0m\u001b[0;34m\u001b[0m\u001b[0;34m\u001b[0m\u001b[0m\n\u001b[1;32m    229\u001b[0m         \u001b[0;34m\"\"\"\"Update the boosters for one iteration\"\"\"\u001b[0m\u001b[0;34m\u001b[0m\u001b[0;34m\u001b[0m\u001b[0m\n\u001b[0;32m--> 230\u001b[0;31m         \u001b[0mself\u001b[0m\u001b[0;34m.\u001b[0m\u001b[0mbst\u001b[0m\u001b[0;34m.\u001b[0m\u001b[0mupdate\u001b[0m\u001b[0;34m(\u001b[0m\u001b[0mself\u001b[0m\u001b[0;34m.\u001b[0m\u001b[0mdtrain\u001b[0m\u001b[0;34m,\u001b[0m \u001b[0miteration\u001b[0m\u001b[0;34m,\u001b[0m \u001b[0mfobj\u001b[0m\u001b[0;34m)\u001b[0m\u001b[0;34m\u001b[0m\u001b[0;34m\u001b[0m\u001b[0m\n\u001b[0m\u001b[1;32m    231\u001b[0m \u001b[0;34m\u001b[0m\u001b[0m\n\u001b[1;32m    232\u001b[0m     \u001b[0;32mdef\u001b[0m \u001b[0meval\u001b[0m\u001b[0;34m(\u001b[0m\u001b[0mself\u001b[0m\u001b[0;34m,\u001b[0m \u001b[0miteration\u001b[0m\u001b[0;34m,\u001b[0m \u001b[0mfeval\u001b[0m\u001b[0;34m)\u001b[0m\u001b[0;34m:\u001b[0m\u001b[0;34m\u001b[0m\u001b[0;34m\u001b[0m\u001b[0m\n",
      "\u001b[0;32m~/.conda/envs/bactrack/lib/python3.6/site-packages/xgboost/core.py\u001b[0m in \u001b[0;36mupdate\u001b[0;34m(self, dtrain, iteration, fobj)\u001b[0m\n\u001b[1;32m   1108\u001b[0m         \u001b[0;32mif\u001b[0m \u001b[0mfobj\u001b[0m \u001b[0;32mis\u001b[0m \u001b[0;32mNone\u001b[0m\u001b[0;34m:\u001b[0m\u001b[0;34m\u001b[0m\u001b[0;34m\u001b[0m\u001b[0m\n\u001b[1;32m   1109\u001b[0m             _check_call(_LIB.XGBoosterUpdateOneIter(self.handle, ctypes.c_int(iteration),\n\u001b[0;32m-> 1110\u001b[0;31m                                                     dtrain.handle))\n\u001b[0m\u001b[1;32m   1111\u001b[0m         \u001b[0;32melse\u001b[0m\u001b[0;34m:\u001b[0m\u001b[0;34m\u001b[0m\u001b[0;34m\u001b[0m\u001b[0m\n\u001b[1;32m   1112\u001b[0m             \u001b[0mpred\u001b[0m \u001b[0;34m=\u001b[0m \u001b[0mself\u001b[0m\u001b[0;34m.\u001b[0m\u001b[0mpredict\u001b[0m\u001b[0;34m(\u001b[0m\u001b[0mdtrain\u001b[0m\u001b[0;34m)\u001b[0m\u001b[0;34m\u001b[0m\u001b[0;34m\u001b[0m\u001b[0m\n",
      "\u001b[0;31mKeyboardInterrupt\u001b[0m: "
     ]
    }
   ],
   "source": [
    "%%time\n",
    "\n",
    "# EVALUATE LEARNING RATE AND MAX_DEPTH TOGETHER\n",
    "# For learning_rate=1 & max_depth=6 --> optimal number of trees=30\n",
    "boosting_params['learning_rate']= .01\n",
    "boosting_params['max_depth']= 6\n",
    "boosting_params['nthread']=-1\n",
    "boosting_params['num_boost_round']= 500\n",
    "boosting_params['verbose']=2\n",
    "# watchlist = [(partitions['ddev'], 'dev'), (partitions['dtrain'], 'train')]\n",
    "# boosting_params['evals']=watchlist\n",
    "\n",
    "print ('Boosting Params...\\n')\n",
    "for k, p in boosting_params.items():\n",
    "    print (k,p)\n",
    "print ('\\n')\n",
    "\n",
    "cvresult = xgb.cv(boosting_params, partitions['dtrain'], num_boost_round=boosting_params['num_boost_round'], \\\n",
    "                 nfold=3, early_stopping_rounds=10, verbose_eval=True, \\\n",
    "                 seed=7, metrics='auc')# metrics=['auc','mae','map']\n",
    "\n",
    "best_n_estimators = cvresult.shape[0]\n",
    "print ('\\nThe optimal number of trees is {}\\n'.format(best_n_estimators))\n",
    "# optimal trees was 52 with learning rate of 1 and early_stopping=10"
   ]
  },
  {
   "cell_type": "code",
   "execution_count": 47,
   "metadata": {},
   "outputs": [
    {
     "ename": "NameError",
     "evalue": "name 'cvresult' is not defined",
     "output_type": "error",
     "traceback": [
      "\u001b[0;31m---------------------------------------------------------------------------\u001b[0m",
      "\u001b[0;31mNameError\u001b[0m                                 Traceback (most recent call last)",
      "\u001b[0;32m<ipython-input-47-7edca07389e1>\u001b[0m in \u001b[0;36m<module>\u001b[0;34m\u001b[0m\n\u001b[0;32m----> 1\u001b[0;31m \u001b[0mbest_idx\u001b[0m \u001b[0;34m=\u001b[0m \u001b[0mnp\u001b[0m\u001b[0;34m.\u001b[0m\u001b[0mwhere\u001b[0m\u001b[0;34m(\u001b[0m\u001b[0mcvresult\u001b[0m\u001b[0;34m.\u001b[0m\u001b[0miloc\u001b[0m\u001b[0;34m[\u001b[0m\u001b[0;34m:\u001b[0m\u001b[0;34m,\u001b[0m\u001b[0;36m2\u001b[0m\u001b[0;34m]\u001b[0m\u001b[0;34m==\u001b[0m\u001b[0mcvresult\u001b[0m\u001b[0;34m.\u001b[0m\u001b[0miloc\u001b[0m\u001b[0;34m[\u001b[0m\u001b[0;34m:\u001b[0m\u001b[0;34m,\u001b[0m\u001b[0;36m2\u001b[0m\u001b[0;34m]\u001b[0m\u001b[0;34m.\u001b[0m\u001b[0mmax\u001b[0m\u001b[0;34m(\u001b[0m\u001b[0;34m)\u001b[0m\u001b[0;34m)\u001b[0m\u001b[0;34m[\u001b[0m\u001b[0;36m0\u001b[0m\u001b[0;34m]\u001b[0m\u001b[0;34m[\u001b[0m\u001b[0;36m0\u001b[0m\u001b[0;34m]\u001b[0m\u001b[0;34m\u001b[0m\u001b[0;34m\u001b[0m\u001b[0m\n\u001b[0m\u001b[1;32m      2\u001b[0m \u001b[0mprint\u001b[0m \u001b[0;34m(\u001b[0m\u001b[0;34m'Best AUC in test set: {:0.4f} with {} trees or n_estimators'\u001b[0m\u001b[0;34m.\u001b[0m\u001b[0mformat\u001b[0m\u001b[0;34m(\u001b[0m\u001b[0mcvresult\u001b[0m\u001b[0;34m.\u001b[0m\u001b[0miloc\u001b[0m\u001b[0;34m[\u001b[0m\u001b[0mbest_idx\u001b[0m\u001b[0;34m,\u001b[0m\u001b[0;36m2\u001b[0m\u001b[0;34m]\u001b[0m\u001b[0;34m,\u001b[0m \u001b[0mbest_idx\u001b[0m\u001b[0;34m+\u001b[0m\u001b[0;36m1\u001b[0m\u001b[0;34m)\u001b[0m\u001b[0;34m)\u001b[0m\u001b[0;34m\u001b[0m\u001b[0;34m\u001b[0m\u001b[0m\n",
      "\u001b[0;31mNameError\u001b[0m: name 'cvresult' is not defined"
     ]
    }
   ],
   "source": [
    "best_idx = np.where(cvresult.iloc[:,2]==cvresult.iloc[:,2].max())[0][0]\n",
    "print ('Best AUC in test set: {:0.4f} with {} trees or n_estimators'.format(cvresult.iloc[best_idx,2], best_idx+1))"
   ]
  },
  {
   "cell_type": "markdown",
   "metadata": {},
   "source": [
    "### Reset the number of Estimators (Trees) to match CV outcome"
   ]
  },
  {
   "cell_type": "code",
   "execution_count": null,
   "metadata": {},
   "outputs": [],
   "source": [
    "boosting_params['num_boost_round']=best_n_estimators\n",
    "gs_params['num_boost_round']=best_n_estimators\n",
    "\n",
    "print (boosting_params)\n",
    "today = dt.date.today()\n",
    "print (today)"
   ]
  },
  {
   "cell_type": "markdown",
   "metadata": {},
   "source": [
    "# Grid Search"
   ]
  },
  {
   "cell_type": "code",
   "execution_count": null,
   "metadata": {},
   "outputs": [],
   "source": [
    "# %%time\n",
    "\n",
    "param_test1 = {\n",
    " 'max_depth': list(np.arange(5, 8, 1)),\n",
    " 'min_child_weight': list(np.arange(1, 21, 10))#[ 1  6 11 16 21]\n",
    "}# 'alpha': [0, 1, 3]\n",
    "\n",
    "boosting_params['learning_rate']= .3\n",
    "boosting_params['num_boost_round']= 80\n",
    "boosting_params['pos_scale_weight']= get_balance_weight(partitions['y_train'])\n",
    "\n",
    "# Prints out in tmux terminal (not sure why...)\n",
    "gs_params = get_gs_params(boosting_params)\n",
    "print ('\\n\\nGrid Search parameters...\\n','-'*20,'\\n')\n",
    "for k, gsp in gs_params.items():\n",
    "    print (k, gsp)\n",
    "print ('\\n\\n')\n",
    "print (param_test1)"
   ]
  },
  {
   "cell_type": "code",
   "execution_count": null,
   "metadata": {},
   "outputs": [],
   "source": [
    "%%time\n",
    "\n",
    "# # Send logging to a file\n",
    "today = dt.date.today()\n",
    "#sys.stdout = open('xgboost_output_{}.txt'.format(today), 'w')\n",
    "\n",
    "# May get an Unpickling Error/ Broken Process if using custom score with multiprocessing/n_jobs # scoring='roc_auc', \n",
    "gsearch1 = GridSearchCV(estimator = XGBClassifier(gs_params), \\\n",
    "                        param_grid = param_test1, \\\n",
    "                       verbose=3, \\\n",
    "                        n_jobs=1, iid=False, cv=3, refit=True)#return_train_score=True,"
   ]
  },
  {
   "cell_type": "code",
   "execution_count": null,
   "metadata": {},
   "outputs": [],
   "source": [
    "%env LOKY_PICKLER='cloudpickle' \n",
    "import multiprocessing\n",
    "#multiprocessing.set_start_method('forkserver', force=True)\n",
    "\n",
    "try:\n",
    "    multiprocessing.set_start_method('spawn')\n",
    "except RuntimeError:\n",
    "    pass"
   ]
  },
  {
   "cell_type": "code",
   "execution_count": null,
   "metadata": {},
   "outputs": [],
   "source": [
    "gsearch1.fit(partitions['X_train'], partitions['y_train'], eval_metric='auc', verbose=True, \\\n",
    "            eval_set=[(partitions['X_dev'], partitions['y_dev'])], early_stopping_rounds=10)\n",
    "# # Logging output to file\n",
    "#sys.stdout = sys.__stdout__"
   ]
  },
  {
   "cell_type": "code",
   "execution_count": null,
   "metadata": {},
   "outputs": [],
   "source": [
    "# PRINT BEST VALUES\n",
    "# Note: The best score from GridSearchCV is biased. :( If you gridsearch best params, you will overfit in terms of AUC\n",
    "print ('Best Hyperparameters: ', gsearch1.best_params_)\n",
    "print ('Best Score: {:02f}'.format(gsearch1.best_score_))\n",
    "print ('Best Estimator: ',gsearch1.best_estimator_)"
   ]
  },
  {
   "cell_type": "markdown",
   "metadata": {},
   "source": [
    "### Reset Parameters to Best Values (from GridSearch)"
   ]
  },
  {
   "cell_type": "code",
   "execution_count": null,
   "metadata": {},
   "outputs": [],
   "source": [
    "new_params = list(gsearch1.best_params_.keys())\n",
    "for k, v in gsearch1.best_params_.items():\n",
    "    print (k,v)\n",
    "    boosting_params[k]=v  "
   ]
  },
  {
   "cell_type": "code",
   "execution_count": null,
   "metadata": {},
   "outputs": [],
   "source": [
    "print (boosting_params)\n",
    "print (DEFAULT_BOOSTING_PARAMS)"
   ]
  },
  {
   "cell_type": "code",
   "execution_count": null,
   "metadata": {},
   "outputs": [],
   "source": [
    "#pd.DataFrame(gsearch1.cv_results_).head(3)"
   ]
  },
  {
   "cell_type": "markdown",
   "metadata": {},
   "source": [
    "### Add Regularization"
   ]
  },
  {
   "cell_type": "code",
   "execution_count": null,
   "metadata": {},
   "outputs": [],
   "source": [
    "# boosting_params['alpha']=1\n",
    "# boosting_params['lambda']=10\n",
    "# print (boosting_params)"
   ]
  },
  {
   "cell_type": "markdown",
   "metadata": {},
   "source": [
    "# RUN FINAL MODEL"
   ]
  },
  {
   "cell_type": "code",
   "execution_count": 28,
   "metadata": {},
   "outputs": [
    {
     "name": "stdout",
     "output_type": "stream",
     "text": [
      "\n",
      "201528 positive cases and 479756 negative cases\n",
      "Scale Weight for balanced classes would be: 2.38\n",
      "\n",
      "Resetting positive scale weight from 2.38 to 2.38...\n",
      "\n",
      "Boosting Params...\n",
      "\n",
      "silent 1\n",
      "learning_rate 0.03\n",
      "max_depth 8\n",
      "min_child_weight 1\n",
      "subsample 0.8\n",
      "colsample_bytree 0.8\n",
      "objective binary:logistic\n",
      "num_boost_round 500\n",
      "random_state 7\n",
      "lambda 1\n",
      "alpha 0\n",
      "gamma 0\n",
      "scale_pos_weight 2.38\n",
      "nthread -1\n",
      "verbose 2\n",
      "evals None\n",
      "\n",
      "\n",
      "[0]\tdev-error:0.259815\ttrain-error:0.259062\n",
      "[1]\tdev-error:0.249006\ttrain-error:0.248864\n",
      "[2]\tdev-error:0.251359\ttrain-error:0.251377\n",
      "[3]\tdev-error:0.257719\ttrain-error:0.257004\n",
      "[4]\tdev-error:0.253958\ttrain-error:0.253599\n",
      "[5]\tdev-error:0.249047\ttrain-error:0.248516\n",
      "[6]\tdev-error:0.249129\ttrain-error:0.248181\n",
      "[7]\tdev-error:0.2488\ttrain-error:0.247947\n",
      "[8]\tdev-error:0.249191\ttrain-error:0.248585\n",
      "[9]\tdev-error:0.249314\ttrain-error:0.248645\n",
      "[10]\tdev-error:0.25028\ttrain-error:0.249257\n",
      "[11]\tdev-error:0.249602\ttrain-error:0.248585\n",
      "[12]\tdev-error:0.249294\ttrain-error:0.248372\n",
      "[13]\tdev-error:0.248523\ttrain-error:0.247309\n",
      "[14]\tdev-error:0.249777\ttrain-error:0.248441\n",
      "[15]\tdev-error:0.249057\ttrain-error:0.24766\n",
      "[16]\tdev-error:0.248369\ttrain-error:0.246876\n",
      "[17]\tdev-error:0.248451\ttrain-error:0.246762\n",
      "[18]\tdev-error:0.247742\ttrain-error:0.246242\n",
      "[19]\tdev-error:0.247896\ttrain-error:0.246419\n",
      "[20]\tdev-error:0.247403\ttrain-error:0.245864\n",
      "[21]\tdev-error:0.249088\ttrain-error:0.247151\n",
      "[22]\tdev-error:0.24842\ttrain-error:0.246441\n",
      "[23]\tdev-error:0.248133\ttrain-error:0.246135\n",
      "[24]\tdev-error:0.2473\ttrain-error:0.24547\n",
      "[25]\tdev-error:0.24805\ttrain-error:0.245865\n",
      "[26]\tdev-error:0.248174\ttrain-error:0.245792\n",
      "[27]\tdev-error:0.248163\ttrain-error:0.245655\n",
      "[28]\tdev-error:0.247742\ttrain-error:0.245404\n",
      "[29]\tdev-error:0.247341\ttrain-error:0.245051\n",
      "[30]\tdev-error:0.247064\ttrain-error:0.244801\n",
      "[31]\tdev-error:0.246951\ttrain-error:0.24459\n",
      "[32]\tdev-error:0.246489\ttrain-error:0.244101\n",
      "[33]\tdev-error:0.246006\ttrain-error:0.24366\n",
      "[34]\tdev-error:0.246252\ttrain-error:0.243779\n",
      "[35]\tdev-error:0.246211\ttrain-error:0.243822\n",
      "[36]\tdev-error:0.246016\ttrain-error:0.243713\n",
      "[37]\tdev-error:0.245728\ttrain-error:0.243446\n",
      "[38]\tdev-error:0.245718\ttrain-error:0.243407\n",
      "[39]\tdev-error:0.24543\ttrain-error:0.24331\n",
      "[40]\tdev-error:0.245317\ttrain-error:0.243114\n",
      "[41]\tdev-error:0.245091\ttrain-error:0.24284\n",
      "[42]\tdev-error:0.244793\ttrain-error:0.24267\n",
      "[43]\tdev-error:0.244947\ttrain-error:0.242612\n",
      "[44]\tdev-error:0.244855\ttrain-error:0.242588\n",
      "[45]\tdev-error:0.244773\ttrain-error:0.242454\n",
      "[46]\tdev-error:0.244855\ttrain-error:0.242452\n",
      "[47]\tdev-error:0.244978\ttrain-error:0.242372\n",
      "[48]\tdev-error:0.244526\ttrain-error:0.242212\n",
      "[49]\tdev-error:0.244516\ttrain-error:0.242083\n",
      "[50]\tdev-error:0.244557\ttrain-error:0.242122\n",
      "[51]\tdev-error:0.244465\ttrain-error:0.241943\n",
      "[52]\tdev-error:0.244187\ttrain-error:0.241818\n",
      "[53]\tdev-error:0.243992\ttrain-error:0.241783\n",
      "[54]\tdev-error:0.244023\ttrain-error:0.241707\n",
      "[55]\tdev-error:0.243992\ttrain-error:0.241724\n",
      "[56]\tdev-error:0.24391\ttrain-error:0.241776\n",
      "[57]\tdev-error:0.24393\ttrain-error:0.24167\n",
      "[58]\tdev-error:0.243879\ttrain-error:0.241563\n",
      "[59]\tdev-error:0.243704\ttrain-error:0.241384\n",
      "[60]\tdev-error:0.243992\ttrain-error:0.241495\n",
      "[61]\tdev-error:0.243961\ttrain-error:0.241362\n",
      "[62]\tdev-error:0.243889\ttrain-error:0.241372\n",
      "[63]\tdev-error:0.243766\ttrain-error:0.241234\n",
      "[64]\tdev-error:0.243714\ttrain-error:0.241174\n",
      "[65]\tdev-error:0.243704\ttrain-error:0.241249\n",
      "[66]\tdev-error:0.243406\ttrain-error:0.241083\n",
      "[67]\tdev-error:0.243478\ttrain-error:0.241058\n",
      "[68]\tdev-error:0.243355\ttrain-error:0.24096\n",
      "[69]\tdev-error:0.24317\ttrain-error:0.240817\n",
      "[70]\tdev-error:0.243057\ttrain-error:0.240622\n",
      "[71]\tdev-error:0.242934\ttrain-error:0.240562\n",
      "[72]\tdev-error:0.242934\ttrain-error:0.240558\n",
      "[73]\tdev-error:0.242821\ttrain-error:0.240464\n",
      "[74]\tdev-error:0.242625\ttrain-error:0.240312\n",
      "[75]\tdev-error:0.242492\ttrain-error:0.240285\n",
      "[76]\tdev-error:0.242399\ttrain-error:0.240227\n",
      "[77]\tdev-error:0.24243\ttrain-error:0.240186\n",
      "[78]\tdev-error:0.242327\ttrain-error:0.24012\n",
      "[79]\tdev-error:0.242327\ttrain-error:0.240035\n",
      "[80]\tdev-error:0.242235\ttrain-error:0.239972\n",
      "[81]\tdev-error:0.242184\ttrain-error:0.239953\n",
      "[82]\tdev-error:0.242266\ttrain-error:0.23986\n",
      "[83]\tdev-error:0.242122\ttrain-error:0.239758\n",
      "[84]\tdev-error:0.24205\ttrain-error:0.23968\n",
      "[85]\tdev-error:0.241886\ttrain-error:0.239496\n",
      "[86]\tdev-error:0.241845\ttrain-error:0.239436\n",
      "[87]\tdev-error:0.24169\ttrain-error:0.239351\n",
      "[88]\tdev-error:0.24167\ttrain-error:0.239267\n",
      "[89]\tdev-error:0.241588\ttrain-error:0.239303\n",
      "[90]\tdev-error:0.241434\ttrain-error:0.239169\n",
      "[91]\tdev-error:0.241444\ttrain-error:0.239109\n",
      "[92]\tdev-error:0.241475\ttrain-error:0.239059\n",
      "[93]\tdev-error:0.241403\ttrain-error:0.238919\n",
      "[94]\tdev-error:0.241392\ttrain-error:0.238856\n",
      "[95]\tdev-error:0.241228\ttrain-error:0.238745\n",
      "[96]\tdev-error:0.241033\ttrain-error:0.238646\n",
      "[97]\tdev-error:0.240971\ttrain-error:0.238576\n",
      "[98]\tdev-error:0.240827\ttrain-error:0.238466\n",
      "[99]\tdev-error:0.240776\ttrain-error:0.238385\n",
      "[100]\tdev-error:0.240838\ttrain-error:0.238259\n",
      "[101]\tdev-error:0.240622\ttrain-error:0.238137\n",
      "[102]\tdev-error:0.240437\ttrain-error:0.237891\n",
      "[103]\tdev-error:0.240283\ttrain-error:0.23777\n",
      "[104]\tdev-error:0.240427\ttrain-error:0.237682\n",
      "[105]\tdev-error:0.240314\ttrain-error:0.23761\n",
      "[106]\tdev-error:0.240365\ttrain-error:0.237559\n",
      "[107]\tdev-error:0.240211\ttrain-error:0.237452\n",
      "[108]\tdev-error:0.240098\ttrain-error:0.237409\n",
      "[109]\tdev-error:0.239933\ttrain-error:0.237305\n",
      "[110]\tdev-error:0.239831\ttrain-error:0.237239\n",
      "[111]\tdev-error:0.239862\ttrain-error:0.23707\n",
      "[112]\tdev-error:0.239625\ttrain-error:0.237023\n",
      "[113]\tdev-error:0.239492\ttrain-error:0.237023\n",
      "[114]\tdev-error:0.23942\ttrain-error:0.236879\n",
      "[115]\tdev-error:0.239492\ttrain-error:0.2368\n",
      "[116]\tdev-error:0.239543\ttrain-error:0.236719\n",
      "[117]\tdev-error:0.239451\ttrain-error:0.236687\n",
      "[118]\tdev-error:0.239502\ttrain-error:0.236646\n",
      "[119]\tdev-error:0.23943\ttrain-error:0.236446\n",
      "[120]\tdev-error:0.239358\ttrain-error:0.236405\n",
      "[121]\tdev-error:0.239348\ttrain-error:0.236266\n",
      "[122]\tdev-error:0.239194\ttrain-error:0.236158\n",
      "[123]\tdev-error:0.239142\ttrain-error:0.236059\n",
      "[124]\tdev-error:0.239122\ttrain-error:0.235979\n",
      "[125]\tdev-error:0.238927\ttrain-error:0.235861\n",
      "[126]\tdev-error:0.238834\ttrain-error:0.235833\n",
      "[127]\tdev-error:0.238978\ttrain-error:0.23577\n",
      "[128]\tdev-error:0.238783\ttrain-error:0.235733\n",
      "[129]\tdev-error:0.23869\ttrain-error:0.235709\n",
      "[130]\tdev-error:0.238526\ttrain-error:0.235595\n",
      "[131]\tdev-error:0.238485\ttrain-error:0.23548\n",
      "[132]\tdev-error:0.238495\ttrain-error:0.235414\n",
      "[133]\tdev-error:0.238444\ttrain-error:0.235337\n",
      "[134]\tdev-error:0.238485\ttrain-error:0.235272\n",
      "[135]\tdev-error:0.238577\ttrain-error:0.235212\n",
      "[136]\tdev-error:0.238331\ttrain-error:0.235156\n",
      "[137]\tdev-error:0.23831\ttrain-error:0.235084\n",
      "[138]\tdev-error:0.238238\ttrain-error:0.235043\n",
      "[139]\tdev-error:0.238269\ttrain-error:0.23499\n",
      "[140]\tdev-error:0.238341\ttrain-error:0.234858\n",
      "[141]\tdev-error:0.238166\ttrain-error:0.234729\n",
      "[142]\tdev-error:0.238176\ttrain-error:0.234666\n",
      "[143]\tdev-error:0.238176\ttrain-error:0.234675\n",
      "[144]\tdev-error:0.23793\ttrain-error:0.234522\n",
      "[145]\tdev-error:0.23793\ttrain-error:0.234475\n",
      "[146]\tdev-error:0.23792\ttrain-error:0.234397\n",
      "[147]\tdev-error:0.237981\ttrain-error:0.234322\n",
      "[148]\tdev-error:0.237961\ttrain-error:0.234266\n",
      "[149]\tdev-error:0.237899\ttrain-error:0.234221\n",
      "[150]\tdev-error:0.237622\ttrain-error:0.234073\n",
      "[151]\tdev-error:0.237457\ttrain-error:0.233926\n",
      "[152]\tdev-error:0.237416\ttrain-error:0.23377\n",
      "[153]\tdev-error:0.237385\ttrain-error:0.23364\n",
      "[154]\tdev-error:0.237385\ttrain-error:0.233615\n",
      "[155]\tdev-error:0.237211\ttrain-error:0.233449\n",
      "[156]\tdev-error:0.237262\ttrain-error:0.233377\n",
      "[157]\tdev-error:0.237211\ttrain-error:0.233205\n",
      "[158]\tdev-error:0.237211\ttrain-error:0.233144\n",
      "[159]\tdev-error:0.23718\ttrain-error:0.232988\n",
      "[160]\tdev-error:0.237139\ttrain-error:0.232844\n",
      "[161]\tdev-error:0.237098\ttrain-error:0.232783\n",
      "[162]\tdev-error:0.237026\ttrain-error:0.232615\n",
      "[163]\tdev-error:0.236943\ttrain-error:0.232584\n",
      "[164]\tdev-error:0.236851\ttrain-error:0.232433\n",
      "[165]\tdev-error:0.23682\ttrain-error:0.232297\n",
      "[166]\tdev-error:0.236717\ttrain-error:0.232235\n",
      "[167]\tdev-error:0.236471\ttrain-error:0.232101\n",
      "[168]\tdev-error:0.236306\ttrain-error:0.231917\n",
      "[169]\tdev-error:0.236235\ttrain-error:0.231806\n",
      "[170]\tdev-error:0.236265\ttrain-error:0.231714\n",
      "[171]\tdev-error:0.236235\ttrain-error:0.231564\n",
      "[172]\tdev-error:0.236286\ttrain-error:0.23147\n"
     ]
    },
    {
     "name": "stdout",
     "output_type": "stream",
     "text": [
      "[173]\tdev-error:0.23605\ttrain-error:0.231379\n",
      "[174]\tdev-error:0.236091\ttrain-error:0.231299\n",
      "[175]\tdev-error:0.236101\ttrain-error:0.23114\n",
      "[176]\tdev-error:0.23605\ttrain-error:0.231092\n",
      "[177]\tdev-error:0.236039\ttrain-error:0.230979\n",
      "[178]\tdev-error:0.235885\ttrain-error:0.230876\n",
      "[179]\tdev-error:0.235906\ttrain-error:0.230783\n",
      "[180]\tdev-error:0.235782\ttrain-error:0.230644\n",
      "[181]\tdev-error:0.235608\ttrain-error:0.230528\n",
      "[182]\tdev-error:0.235556\ttrain-error:0.230431\n",
      "[183]\tdev-error:0.235526\ttrain-error:0.230362\n",
      "[184]\tdev-error:0.235536\ttrain-error:0.230271\n",
      "[185]\tdev-error:0.2353\ttrain-error:0.230143\n",
      "[186]\tdev-error:0.2353\ttrain-error:0.230082\n",
      "[187]\tdev-error:0.23532\ttrain-error:0.229995\n",
      "[188]\tdev-error:0.235279\ttrain-error:0.229881\n",
      "[189]\tdev-error:0.235351\ttrain-error:0.229782\n",
      "[190]\tdev-error:0.235269\ttrain-error:0.229669\n",
      "[191]\tdev-error:0.235176\ttrain-error:0.229605\n",
      "[192]\tdev-error:0.235145\ttrain-error:0.229543\n",
      "[193]\tdev-error:0.235043\ttrain-error:0.229386\n",
      "[194]\tdev-error:0.23493\ttrain-error:0.229229\n",
      "[195]\tdev-error:0.234889\ttrain-error:0.229156\n",
      "[196]\tdev-error:0.234683\ttrain-error:0.229063\n",
      "[197]\tdev-error:0.234683\ttrain-error:0.228963\n",
      "[198]\tdev-error:0.234642\ttrain-error:0.228846\n",
      "[199]\tdev-error:0.234591\ttrain-error:0.228863\n",
      "[200]\tdev-error:0.23457\ttrain-error:0.228758\n",
      "[201]\tdev-error:0.234426\ttrain-error:0.22863\n",
      "[202]\tdev-error:0.234354\ttrain-error:0.228527\n",
      "[203]\tdev-error:0.234323\ttrain-error:0.228414\n",
      "[204]\tdev-error:0.23418\ttrain-error:0.228263\n",
      "[205]\tdev-error:0.234149\ttrain-error:0.22819\n",
      "[206]\tdev-error:0.2342\ttrain-error:0.228128\n",
      "[207]\tdev-error:0.234056\ttrain-error:0.227983\n",
      "[208]\tdev-error:0.23421\ttrain-error:0.227977\n",
      "[209]\tdev-error:0.234252\ttrain-error:0.227915\n",
      "[210]\tdev-error:0.23418\ttrain-error:0.227865\n",
      "[211]\tdev-error:0.234118\ttrain-error:0.227749\n",
      "[212]\tdev-error:0.234128\ttrain-error:0.227652\n",
      "[213]\tdev-error:0.233984\ttrain-error:0.227526\n",
      "[214]\tdev-error:0.233882\ttrain-error:0.227498\n",
      "[215]\tdev-error:0.233789\ttrain-error:0.227448\n",
      "[216]\tdev-error:0.233656\ttrain-error:0.227313\n",
      "[217]\tdev-error:0.233666\ttrain-error:0.227261\n",
      "[218]\tdev-error:0.233676\ttrain-error:0.227128\n",
      "[219]\tdev-error:0.233604\ttrain-error:0.227026\n",
      "[220]\tdev-error:0.233615\ttrain-error:0.226949\n",
      "[221]\tdev-error:0.233584\ttrain-error:0.22691\n",
      "[222]\tdev-error:0.23343\ttrain-error:0.226795\n",
      "[223]\tdev-error:0.233409\ttrain-error:0.226741\n",
      "[224]\tdev-error:0.233368\ttrain-error:0.226604\n",
      "[225]\tdev-error:0.233183\ttrain-error:0.226534\n",
      "[226]\tdev-error:0.233132\ttrain-error:0.226456\n",
      "[227]\tdev-error:0.233173\ttrain-error:0.226389\n",
      "[228]\tdev-error:0.23306\ttrain-error:0.226276\n",
      "[229]\tdev-error:0.233008\ttrain-error:0.226166\n",
      "[230]\tdev-error:0.233029\ttrain-error:0.226083\n",
      "[231]\tdev-error:0.23307\ttrain-error:0.225938\n",
      "[232]\tdev-error:0.233019\ttrain-error:0.225878\n",
      "[233]\tdev-error:0.232957\ttrain-error:0.225775\n",
      "[234]\tdev-error:0.232885\ttrain-error:0.225721\n",
      "[235]\tdev-error:0.232854\ttrain-error:0.225669\n",
      "[236]\tdev-error:0.232885\ttrain-error:0.225599\n",
      "[237]\tdev-error:0.232864\ttrain-error:0.225543\n",
      "[238]\tdev-error:0.232813\ttrain-error:0.225455\n",
      "[239]\tdev-error:0.232731\ttrain-error:0.225357\n",
      "[240]\tdev-error:0.232731\ttrain-error:0.225251\n",
      "[241]\tdev-error:0.232567\ttrain-error:0.225217\n",
      "[242]\tdev-error:0.232474\ttrain-error:0.225143\n",
      "[243]\tdev-error:0.232361\ttrain-error:0.225066\n",
      "[244]\tdev-error:0.232258\ttrain-error:0.224984\n",
      "[245]\tdev-error:0.232289\ttrain-error:0.224899\n",
      "[246]\tdev-error:0.232248\ttrain-error:0.224922\n",
      "[247]\tdev-error:0.232258\ttrain-error:0.22489\n",
      "[248]\tdev-error:0.232258\ttrain-error:0.224836\n",
      "[249]\tdev-error:0.232258\ttrain-error:0.22479\n",
      "[250]\tdev-error:0.232238\ttrain-error:0.224708\n",
      "[251]\tdev-error:0.232176\ttrain-error:0.224639\n",
      "[252]\tdev-error:0.232125\ttrain-error:0.224564\n",
      "[253]\tdev-error:0.232001\ttrain-error:0.224514\n",
      "[254]\tdev-error:0.231919\ttrain-error:0.224335\n",
      "[255]\tdev-error:0.231888\ttrain-error:0.224288\n",
      "[256]\tdev-error:0.23195\ttrain-error:0.22424\n",
      "[257]\tdev-error:0.231909\ttrain-error:0.224206\n",
      "[258]\tdev-error:0.23195\ttrain-error:0.224084\n",
      "[259]\tdev-error:0.23195\ttrain-error:0.224028\n",
      "[260]\tdev-error:0.231878\ttrain-error:0.223939\n",
      "[261]\tdev-error:0.231775\ttrain-error:0.223876\n",
      "[262]\tdev-error:0.231734\ttrain-error:0.223802\n",
      "[263]\tdev-error:0.231847\ttrain-error:0.22376\n",
      "[264]\tdev-error:0.231745\ttrain-error:0.223689\n",
      "[265]\tdev-error:0.231734\ttrain-error:0.223566\n",
      "[266]\tdev-error:0.231632\ttrain-error:0.223509\n",
      "[267]\tdev-error:0.231518\ttrain-error:0.223478\n",
      "[268]\tdev-error:0.231426\ttrain-error:0.223365\n",
      "[269]\tdev-error:0.231385\ttrain-error:0.223333\n",
      "[270]\tdev-error:0.231344\ttrain-error:0.223236\n",
      "[271]\tdev-error:0.231313\ttrain-error:0.22317\n",
      "[272]\tdev-error:0.231262\ttrain-error:0.223076\n",
      "[273]\tdev-error:0.23121\ttrain-error:0.223038\n",
      "[274]\tdev-error:0.2312\ttrain-error:0.222929\n",
      "[275]\tdev-error:0.231179\ttrain-error:0.222828\n",
      "[276]\tdev-error:0.231169\ttrain-error:0.22274\n",
      "[277]\tdev-error:0.231149\ttrain-error:0.222696\n",
      "[278]\tdev-error:0.231231\ttrain-error:0.222678\n",
      "[279]\tdev-error:0.23119\ttrain-error:0.222656\n",
      "[280]\tdev-error:0.231066\ttrain-error:0.222531\n",
      "[281]\tdev-error:0.231138\ttrain-error:0.2225\n",
      "[282]\tdev-error:0.231056\ttrain-error:0.222421\n",
      "[283]\tdev-error:0.231015\ttrain-error:0.22236\n",
      "[284]\tdev-error:0.230984\ttrain-error:0.22231\n",
      "[285]\tdev-error:0.23083\ttrain-error:0.222229\n",
      "[286]\tdev-error:0.230717\ttrain-error:0.222153\n",
      "[287]\tdev-error:0.230686\ttrain-error:0.222044\n",
      "[288]\tdev-error:0.230655\ttrain-error:0.222004\n",
      "[289]\tdev-error:0.230584\ttrain-error:0.221935\n",
      "[290]\tdev-error:0.230553\ttrain-error:0.2219\n",
      "[291]\tdev-error:0.230584\ttrain-error:0.221872\n",
      "[292]\tdev-error:0.230491\ttrain-error:0.22179\n",
      "[293]\tdev-error:0.230553\ttrain-error:0.221692\n",
      "[294]\tdev-error:0.230553\ttrain-error:0.221574\n",
      "[295]\tdev-error:0.230327\ttrain-error:0.221476\n",
      "[296]\tdev-error:0.230399\ttrain-error:0.221439\n",
      "[297]\tdev-error:0.23044\ttrain-error:0.221335\n",
      "[298]\tdev-error:0.230409\ttrain-error:0.221257\n",
      "[299]\tdev-error:0.230255\ttrain-error:0.221206\n",
      "[300]\tdev-error:0.230286\ttrain-error:0.221152\n",
      "[301]\tdev-error:0.230193\ttrain-error:0.221096\n",
      "[302]\tdev-error:0.230121\ttrain-error:0.220977\n",
      "[303]\tdev-error:0.230152\ttrain-error:0.22098\n",
      "[304]\tdev-error:0.230008\ttrain-error:0.220912\n",
      "[305]\tdev-error:0.229946\ttrain-error:0.22083\n",
      "[306]\tdev-error:0.229885\ttrain-error:0.220785\n",
      "[307]\tdev-error:0.229895\ttrain-error:0.220692\n",
      "[308]\tdev-error:0.229977\ttrain-error:0.220639\n",
      "[309]\tdev-error:0.229885\ttrain-error:0.220535\n",
      "[310]\tdev-error:0.229936\ttrain-error:0.220443\n",
      "[311]\tdev-error:0.229936\ttrain-error:0.220371\n",
      "[312]\tdev-error:0.229792\ttrain-error:0.220284\n",
      "[313]\tdev-error:0.229566\ttrain-error:0.220192\n",
      "[314]\tdev-error:0.229607\ttrain-error:0.220161\n",
      "[315]\tdev-error:0.229597\ttrain-error:0.220095\n",
      "[316]\tdev-error:0.229535\ttrain-error:0.220011\n",
      "[317]\tdev-error:0.229546\ttrain-error:0.219995\n",
      "[318]\tdev-error:0.229535\ttrain-error:0.219899\n",
      "[319]\tdev-error:0.229546\ttrain-error:0.219804\n",
      "[320]\tdev-error:0.229546\ttrain-error:0.219773\n",
      "[321]\tdev-error:0.229535\ttrain-error:0.219687\n",
      "[322]\tdev-error:0.229556\ttrain-error:0.219654\n",
      "[323]\tdev-error:0.229464\ttrain-error:0.219609\n",
      "[324]\tdev-error:0.229464\ttrain-error:0.219588\n",
      "[325]\tdev-error:0.229474\ttrain-error:0.219541\n",
      "[326]\tdev-error:0.229494\ttrain-error:0.219496\n",
      "[327]\tdev-error:0.229484\ttrain-error:0.219475\n",
      "[328]\tdev-error:0.229464\ttrain-error:0.219442\n",
      "[329]\tdev-error:0.229515\ttrain-error:0.219329\n",
      "[330]\tdev-error:0.229505\ttrain-error:0.219245\n",
      "[331]\tdev-error:0.229474\ttrain-error:0.219179\n",
      "[332]\tdev-error:0.229402\ttrain-error:0.219111\n",
      "[333]\tdev-error:0.22932\ttrain-error:0.219033\n",
      "[334]\tdev-error:0.22932\ttrain-error:0.218985\n",
      "[335]\tdev-error:0.22932\ttrain-error:0.218857\n",
      "[336]\tdev-error:0.229309\ttrain-error:0.218778\n",
      "[337]\tdev-error:0.229361\ttrain-error:0.218715\n",
      "[338]\tdev-error:0.229402\ttrain-error:0.218642\n",
      "[339]\tdev-error:0.229381\ttrain-error:0.218559\n",
      "[340]\tdev-error:0.229186\ttrain-error:0.218493\n",
      "[341]\tdev-error:0.229186\ttrain-error:0.218455\n",
      "[342]\tdev-error:0.229176\ttrain-error:0.218389\n",
      "[343]\tdev-error:0.229104\ttrain-error:0.218357\n",
      "[344]\tdev-error:0.229022\ttrain-error:0.218286\n",
      "[345]\tdev-error:0.229063\ttrain-error:0.218166\n",
      "[346]\tdev-error:0.229053\ttrain-error:0.21816\n",
      "[347]\tdev-error:0.229011\ttrain-error:0.218131\n",
      "[348]\tdev-error:0.229053\ttrain-error:0.218119\n",
      "[349]\tdev-error:0.228991\ttrain-error:0.218016\n",
      "[350]\tdev-error:0.228888\ttrain-error:0.217978\n",
      "[351]\tdev-error:0.228816\ttrain-error:0.217912\n",
      "[352]\tdev-error:0.228868\ttrain-error:0.217874\n"
     ]
    },
    {
     "name": "stdout",
     "output_type": "stream",
     "text": [
      "[353]\tdev-error:0.22894\ttrain-error:0.217768\n",
      "[354]\tdev-error:0.22896\ttrain-error:0.217758\n",
      "[355]\tdev-error:0.228847\ttrain-error:0.217683\n",
      "[356]\tdev-error:0.228837\ttrain-error:0.217608\n",
      "[357]\tdev-error:0.228734\ttrain-error:0.217572\n",
      "[358]\tdev-error:0.228755\ttrain-error:0.2175\n",
      "[359]\tdev-error:0.228868\ttrain-error:0.217398\n",
      "[360]\tdev-error:0.228816\ttrain-error:0.217388\n",
      "[361]\tdev-error:0.228744\ttrain-error:0.21731\n",
      "[362]\tdev-error:0.228683\ttrain-error:0.217194\n",
      "[363]\tdev-error:0.228652\ttrain-error:0.217153\n",
      "[364]\tdev-error:0.22857\ttrain-error:0.217099\n",
      "[365]\tdev-error:0.228559\ttrain-error:0.217017\n",
      "[366]\tdev-error:0.22857\ttrain-error:0.216986\n",
      "[367]\tdev-error:0.22858\ttrain-error:0.216987\n",
      "[368]\tdev-error:0.22858\ttrain-error:0.21693\n",
      "[369]\tdev-error:0.228539\ttrain-error:0.216908\n",
      "[370]\tdev-error:0.228621\ttrain-error:0.216843\n",
      "[371]\tdev-error:0.2286\ttrain-error:0.216816\n",
      "[372]\tdev-error:0.22859\ttrain-error:0.216722\n",
      "[373]\tdev-error:0.228446\ttrain-error:0.216695\n",
      "[374]\tdev-error:0.228405\ttrain-error:0.216663\n",
      "[375]\tdev-error:0.228446\ttrain-error:0.2166\n",
      "[376]\tdev-error:0.228364\ttrain-error:0.216519\n",
      "[377]\tdev-error:0.228344\ttrain-error:0.216501\n",
      "[378]\tdev-error:0.228251\ttrain-error:0.216452\n",
      "[379]\tdev-error:0.228189\ttrain-error:0.216413\n",
      "[380]\tdev-error:0.228148\ttrain-error:0.216378\n",
      "[381]\tdev-error:0.228148\ttrain-error:0.216327\n",
      "[382]\tdev-error:0.228066\ttrain-error:0.216195\n",
      "[383]\tdev-error:0.228118\ttrain-error:0.21606\n",
      "[384]\tdev-error:0.228179\ttrain-error:0.215972\n",
      "[385]\tdev-error:0.228107\ttrain-error:0.2159\n",
      "[386]\tdev-error:0.228118\ttrain-error:0.215872\n",
      "[387]\tdev-error:0.228107\ttrain-error:0.215822\n",
      "[388]\tdev-error:0.228076\ttrain-error:0.21576\n",
      "[389]\tdev-error:0.228076\ttrain-error:0.215726\n",
      "[390]\tdev-error:0.227994\ttrain-error:0.215603\n",
      "[391]\tdev-error:0.227933\ttrain-error:0.215589\n",
      "[392]\tdev-error:0.227943\ttrain-error:0.21552\n",
      "[393]\tdev-error:0.227943\ttrain-error:0.215478\n",
      "[394]\tdev-error:0.227861\ttrain-error:0.215343\n",
      "[395]\tdev-error:0.22782\ttrain-error:0.215266\n",
      "[396]\tdev-error:0.227779\ttrain-error:0.215141\n",
      "[397]\tdev-error:0.227779\ttrain-error:0.215091\n",
      "[398]\tdev-error:0.227727\ttrain-error:0.215031\n",
      "[399]\tdev-error:0.227686\ttrain-error:0.214971\n",
      "[400]\tdev-error:0.227645\ttrain-error:0.214865\n",
      "[401]\tdev-error:0.22747\ttrain-error:0.214816\n",
      "[402]\tdev-error:0.227491\ttrain-error:0.21479\n",
      "[403]\tdev-error:0.227501\ttrain-error:0.214759\n",
      "[404]\tdev-error:0.227522\ttrain-error:0.21473\n",
      "[405]\tdev-error:0.227481\ttrain-error:0.214742\n",
      "[406]\tdev-error:0.227439\ttrain-error:0.214645\n",
      "[407]\tdev-error:0.227573\ttrain-error:0.214582\n",
      "[408]\tdev-error:0.227501\ttrain-error:0.214571\n",
      "[409]\tdev-error:0.227501\ttrain-error:0.214517\n",
      "[410]\tdev-error:0.227398\ttrain-error:0.214439\n",
      "[411]\tdev-error:0.227409\ttrain-error:0.214375\n",
      "[412]\tdev-error:0.227378\ttrain-error:0.214338\n",
      "[413]\tdev-error:0.227398\ttrain-error:0.214287\n",
      "[414]\tdev-error:0.227439\ttrain-error:0.214245\n",
      "[415]\tdev-error:0.22745\ttrain-error:0.214235\n",
      "[416]\tdev-error:0.22746\ttrain-error:0.214193\n",
      "[417]\tdev-error:0.22745\ttrain-error:0.214112\n",
      "[418]\tdev-error:0.227378\ttrain-error:0.214036\n",
      "[419]\tdev-error:0.227398\ttrain-error:0.214036\n",
      "[420]\tdev-error:0.227306\ttrain-error:0.214012\n",
      "[421]\tdev-error:0.227368\ttrain-error:0.213914\n",
      "[422]\tdev-error:0.227357\ttrain-error:0.21384\n",
      "[423]\tdev-error:0.227347\ttrain-error:0.21381\n",
      "[424]\tdev-error:0.227162\ttrain-error:0.213739\n",
      "[425]\tdev-error:0.227121\ttrain-error:0.213652\n",
      "[426]\tdev-error:0.227203\ttrain-error:0.213613\n",
      "[427]\tdev-error:0.227213\ttrain-error:0.213581\n",
      "[428]\tdev-error:0.22707\ttrain-error:0.213457\n",
      "[429]\tdev-error:0.227039\ttrain-error:0.213379\n",
      "[430]\tdev-error:0.226998\ttrain-error:0.213321\n",
      "[431]\tdev-error:0.227028\ttrain-error:0.213261\n",
      "[432]\tdev-error:0.227039\ttrain-error:0.213224\n",
      "[433]\tdev-error:0.226844\ttrain-error:0.213178\n",
      "[434]\tdev-error:0.226864\ttrain-error:0.213118\n",
      "[435]\tdev-error:0.226823\ttrain-error:0.213121\n",
      "[436]\tdev-error:0.22671\ttrain-error:0.213068\n",
      "[437]\tdev-error:0.2267\ttrain-error:0.21299\n",
      "[438]\tdev-error:0.226628\ttrain-error:0.212927\n",
      "[439]\tdev-error:0.226669\ttrain-error:0.212858\n",
      "[440]\tdev-error:0.226772\ttrain-error:0.212784\n",
      "[441]\tdev-error:0.226628\ttrain-error:0.21269\n",
      "[442]\tdev-error:0.226648\ttrain-error:0.212679\n",
      "[443]\tdev-error:0.22672\ttrain-error:0.212613\n",
      "[444]\tdev-error:0.226669\ttrain-error:0.212587\n",
      "[445]\tdev-error:0.226751\ttrain-error:0.212578\n",
      "[446]\tdev-error:0.2267\ttrain-error:0.212506\n",
      "[447]\tdev-error:0.226628\ttrain-error:0.212469\n",
      "[448]\tdev-error:0.226659\ttrain-error:0.212373\n",
      "[449]\tdev-error:0.226607\ttrain-error:0.21228\n",
      "[450]\tdev-error:0.226535\ttrain-error:0.212199\n",
      "[451]\tdev-error:0.226361\ttrain-error:0.212075\n",
      "[452]\tdev-error:0.226258\ttrain-error:0.212042\n",
      "[453]\tdev-error:0.226278\ttrain-error:0.212019\n",
      "[454]\tdev-error:0.226309\ttrain-error:0.211953\n",
      "[455]\tdev-error:0.226402\ttrain-error:0.211937\n",
      "[456]\tdev-error:0.22633\ttrain-error:0.211891\n",
      "[457]\tdev-error:0.226309\ttrain-error:0.211853\n",
      "[458]\tdev-error:0.22633\ttrain-error:0.211815\n",
      "[459]\tdev-error:0.22632\ttrain-error:0.211772\n",
      "[460]\tdev-error:0.226237\ttrain-error:0.211722\n",
      "[461]\tdev-error:0.226217\ttrain-error:0.211703\n",
      "[462]\tdev-error:0.226309\ttrain-error:0.211624\n",
      "[463]\tdev-error:0.22635\ttrain-error:0.21162\n",
      "[464]\tdev-error:0.226422\ttrain-error:0.211617\n",
      "[465]\tdev-error:0.226433\ttrain-error:0.211612\n",
      "[466]\tdev-error:0.22632\ttrain-error:0.211558\n",
      "[467]\tdev-error:0.226289\ttrain-error:0.211448\n",
      "[468]\tdev-error:0.226248\ttrain-error:0.211424\n",
      "[469]\tdev-error:0.226227\ttrain-error:0.211393\n",
      "[470]\tdev-error:0.22595\ttrain-error:0.211278\n",
      "[471]\tdev-error:0.22595\ttrain-error:0.21122\n",
      "[472]\tdev-error:0.226042\ttrain-error:0.211187\n",
      "[473]\tdev-error:0.22598\ttrain-error:0.211154\n",
      "[474]\tdev-error:0.225867\ttrain-error:0.211123\n",
      "[475]\tdev-error:0.225867\ttrain-error:0.211103\n",
      "[476]\tdev-error:0.225847\ttrain-error:0.211031\n",
      "[477]\tdev-error:0.225806\ttrain-error:0.211029\n",
      "[478]\tdev-error:0.225898\ttrain-error:0.211021\n",
      "[479]\tdev-error:0.225878\ttrain-error:0.210956\n",
      "[480]\tdev-error:0.225837\ttrain-error:0.210875\n",
      "[481]\tdev-error:0.225724\ttrain-error:0.210778\n",
      "[482]\tdev-error:0.225682\ttrain-error:0.210777\n",
      "[483]\tdev-error:0.225703\ttrain-error:0.21074\n",
      "[484]\tdev-error:0.225611\ttrain-error:0.210626\n",
      "[485]\tdev-error:0.22558\ttrain-error:0.21061\n",
      "[486]\tdev-error:0.225569\ttrain-error:0.21056\n",
      "[487]\tdev-error:0.225549\ttrain-error:0.210519\n",
      "[488]\tdev-error:0.225477\ttrain-error:0.210516\n",
      "[489]\tdev-error:0.225467\ttrain-error:0.210483\n",
      "[490]\tdev-error:0.225477\ttrain-error:0.210453\n",
      "[491]\tdev-error:0.225641\ttrain-error:0.210391\n",
      "[492]\tdev-error:0.225569\ttrain-error:0.210319\n",
      "[493]\tdev-error:0.225621\ttrain-error:0.210282\n",
      "[494]\tdev-error:0.225652\ttrain-error:0.210259\n",
      "[495]\tdev-error:0.2256\ttrain-error:0.210194\n",
      "[496]\tdev-error:0.225611\ttrain-error:0.210125\n",
      "[497]\tdev-error:0.225631\ttrain-error:0.210109\n",
      "[498]\tdev-error:0.225734\ttrain-error:0.210061\n",
      "[499]\tdev-error:0.225734\ttrain-error:0.209983\n",
      "\n",
      " {'silent': 1, 'learning_rate': 0.03, 'max_depth': 8, 'min_child_weight': 1, 'subsample': 0.8, 'colsample_bytree': 0.8, 'objective': 'binary:logistic', 'num_boost_round': 500, 'random_state': 7, 'lambda': 1, 'alpha': 0, 'gamma': 0, 'scale_pos_weight': 2.38, 'nthread': -1, 'verbose': 2, 'evals': None}\n"
     ]
    }
   ],
   "source": [
    "# Fit Model - evaluates in the test set\n",
    "boosting_params['learning_rate']= .03\n",
    "boosting_params['max_depth']=8\n",
    "boosting_params['nthread']=-1\n",
    "boosting_params['num_boost_round']= 500\n",
    "boosting_params['verbose']=2\n",
    "balance_classes(boosting_params, partitions)\n",
    "\n",
    "\n",
    "print ('Boosting Params...\\n')\n",
    "for k, p in boosting_params.items():\n",
    "    print (k,p)\n",
    "print ('\\n')\n",
    "\n",
    "# error readout corresponds to 1-accuracy\n",
    "model= fit_model(partitions['dtrain'], partitions['ddev'], boosting_params)\n",
    "print ('\\n', boosting_params)"
   ]
  },
  {
   "cell_type": "code",
   "execution_count": 30,
   "metadata": {},
   "outputs": [
    {
     "name": "stdout",
     "output_type": "stream",
     "text": [
      "Accuracy: 77.43%\n",
      "ROC AUC: 88.16%\n",
      "Normalized confusion matrix\n",
      "\n",
      "[[0.74637491 0.25362509]\n",
      " [0.15927927 0.84072073]]\n"
     ]
    },
    {
     "data": {
      "image/png": "[encoded data removed]",
      "text/plain": [
       "<Figure size 360x360 with 2 Axes>"
      ]
     },
     "metadata": {
      "needs_background": "light"
     },
     "output_type": "display_data"
    },
    {
     "name": "stdout",
     "output_type": "stream",
     "text": [
      "              precision    recall  f1-score   support\n",
      "\n",
      "    bac <.08       0.92      0.75      0.82    137100\n",
      "   bac >=.08       0.58      0.84      0.69     57553\n",
      "\n",
      "   micro avg       0.77      0.77      0.77    194653\n",
      "   macro avg       0.75      0.79      0.76    194653\n",
      "weighted avg       0.82      0.77      0.78    194653\n",
      " \n",
      "\n"
     ]
    }
   ],
   "source": [
    "# Make Predictions in the TEST set\n",
    "y_pred, y_proba = predict(model, partitions['dtest'])\n",
    "accuracy, roc_auc = evaluate_model(partitions['y_test'], y_pred, y_proba)\n",
    "\n",
    "# Plot Confusion Matrix\n",
    "target_names = ['bac <.08', 'bac >=.08']\n",
    "full_report(figure_params, partitions['y_test'], y_pred, target_names)"
   ]
  },
  {
   "cell_type": "markdown",
   "metadata": {},
   "source": [
    "### ROC-AUC\n",
    "--- https://www.kaggle.com/jeremy123w/xgboost-with-roc-curve\n",
    "--- # # http://scikit-learn.org/stable/auto_examples/model_selection/plot_roc_crossval.html#sphx-glr-auto-examples-model-selection-plot-roc-crossval-py"
   ]
  },
  {
   "cell_type": "code",
   "execution_count": 33,
   "metadata": {},
   "outputs": [
    {
     "data": {
      "image/png": "[encoded data removed]",
      "text/plain": [
       "<Figure size 360x360 with 1 Axes>"
      ]
     },
     "metadata": {
      "needs_background": "light"
     },
     "output_type": "display_data"
    }
   ],
   "source": [
    "plot_ROC(partitions['y_test'], y_proba)"
   ]
  },
  {
   "cell_type": "markdown",
   "metadata": {},
   "source": [
    "## Feature Importances"
   ]
  },
  {
   "cell_type": "code",
   "execution_count": 43,
   "metadata": {},
   "outputs": [
    {
     "data": {
      "image/png": "[encoded data removed]",
      "text/plain": [
       "<Figure size 1008x1296 with 1 Axes>"
      ]
     },
     "metadata": {
      "needs_background": "light"
     },
     "output_type": "display_data"
    },
    {
     "data": {
      "text/plain": [
       "<Figure size 1008x1296 with 0 Axes>"
      ]
     },
     "metadata": {},
     "output_type": "display_data"
    }
   ],
   "source": [
    "graph_importances(model) "
   ]
  },
  {
   "cell_type": "markdown",
   "metadata": {},
   "source": [
    "# Save MODEL object - pickle"
   ]
  },
  {
   "cell_type": "code",
   "execution_count": 45,
   "metadata": {},
   "outputs": [],
   "source": [
    "import pickle\n",
    "pickle.dump(model, open(\"bac_final.pickle.dat\", \"wb\"))"
   ]
  },
  {
   "cell_type": "code",
   "execution_count": null,
   "metadata": {},
   "outputs": [],
   "source": [
    "print (DEFAULT_BOOSTING_PARAMS)\n",
    "print (boosting_params)"
   ]
  },
  {
   "cell_type": "code",
   "execution_count": null,
   "metadata": {},
   "outputs": [],
   "source": [
    "# ### Try to save to Kirstin's local\n",
    "\n",
    "# LOCAL_FIGURE_FOLDER = '/Users/KAschbacher/Desktop/eheart/analysis/BAC/figures/server'\n",
    "# plt.savefig('/'.join([LOCAL_FIGURE_FOLDER,'feature_importance_{}.png'.format(TODAY)]), \\\n",
    "#             bbox_inches='tight')"
   ]
  }
 ],
 "metadata": {
  "kernelspec": {
   "display_name": "Python 3",
   "language": "python",
   "name": "python3"
  },
  "language_info": {
   "codemirror_mode": {
    "name": "ipython",
    "version": 3
   },
   "file_extension": ".py",
   "mimetype": "text/x-python",
   "name": "python",
   "nbconvert_exporter": "python",
   "pygments_lexer": "ipython3",
   "version": "3.7.1"
  }
 },
 "nbformat": 4,
 "nbformat_minor": 2
}
