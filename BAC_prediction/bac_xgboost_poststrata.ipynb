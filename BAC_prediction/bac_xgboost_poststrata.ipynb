{
 "cells": [
  {
   "cell_type": "markdown",
   "metadata": {},
   "source": [
    "# XGBoost for BACtrack Data"
   ]
  },
  {
   "cell_type": "code",
   "execution_count": 43,
   "metadata": {},
   "outputs": [],
   "source": [
    "import os\n",
    "import logging\n",
    "import datetime as dt\n",
    "import pandas as pd\n",
    "import numpy as np\n",
    "import h5py\n",
    "import itertools\n",
    "import sys\n",
    "import cloudpickle\n",
    "\n",
    "import pyarrow as pa\n",
    "import pyarrow.parquet as pq\n",
    "\n",
    "# Might need to go before xgboost imports\n",
    "import importlib\n",
    "import warnings\n",
    "warnings.filterwarnings(\"ignore\", category=DeprecationWarning)\n",
    "\n",
    "import xgboost as xgb\n",
    "from sklearn.metrics import accuracy_score, average_precision_score, roc_auc_score, auc, roc_curve, \\\n",
    "    confusion_matrix, classification_report\n",
    "from xgboost.sklearn import XGBClassifier\n",
    "from sklearn.model_selection import GridSearchCV\n",
    "\n",
    "import matplotlib.pyplot as plt\n",
    "%matplotlib inline\n",
    "%config Application.log_level=\"INFO\""
   ]
  },
  {
   "cell_type": "code",
   "execution_count": 44,
   "metadata": {},
   "outputs": [
    {
     "name": "stdout",
     "output_type": "stream",
     "text": [
      "2019-06-10 13:52:44,469 | INFO : Hello world!\n"
     ]
    }
   ],
   "source": [
    "logging.basicConfig(format='%(asctime)s | %(levelname)s : %(message)s',\n",
    "                     level=logging.INFO, stream=sys.stdout)\n",
    "\n",
    "logging.info('Hello world!')"
   ]
  },
  {
   "cell_type": "markdown",
   "metadata": {},
   "source": [
    "#### GLOBAL VARIABLES AND SETTINGS"
   ]
  },
  {
   "cell_type": "code",
   "execution_count": 45,
   "metadata": {},
   "outputs": [],
   "source": [
    "# Secure-copy updated data to server: \n",
    "# scp $LOCAL_PATH kaschbacher@tisoncluster.ucsf.edu:$SERVER_PATH"
   ]
  },
  {
   "cell_type": "code",
   "execution_count": 78,
   "metadata": {},
   "outputs": [],
   "source": [
    "DATA_FOLDER = 'data'\n",
    "FIGURE_FOLDER = 'figures'\n",
    "#FILENAME = 'bac_2018-11-27.h5'\n",
    "FILENAME = 'bac_2019-06-10.parquet'\n",
    "PATH = '/'.join([DATA_FOLDER, FILENAME])\n",
    "TODAY = str(dt.date.today())\n",
    "MISSING_VALUE = np.nan"
   ]
  },
  {
   "cell_type": "code",
   "execution_count": 107,
   "metadata": {},
   "outputs": [],
   "source": [
    "SEED = 11\n",
    "TRAIN_P = .70\n",
    "DEV_P = .10\n",
    "TEST_P = 1 - TRAIN_P - DEV_P\n",
    "split_percents = [TRAIN_P, DEV_P, TEST_P]"
   ]
  },
  {
   "cell_type": "code",
   "execution_count": 108,
   "metadata": {},
   "outputs": [],
   "source": [
    "DEFAULT_BOOSTING_PARAMS = {\n",
    "    'silent':1,\n",
    "    'learning_rate':.3,\n",
    "    'max_depth':6,\n",
    "    'min_child_weight':1,# default=1, larger=more conservative; building process will give up partitioning \n",
    "    'subsample':0.80,\n",
    "    'colsample_bytree':0.80,\n",
    "    'objective':'binary:logistic',#'objective':'binary:logistic' or 'reg:linear'\n",
    "    'num_boost_round': 10,\n",
    "    #'eval_metric':'auc',\n",
    "    'random_state':7,\n",
    "    'lambda':1,# default=1, L2 (ridge); higher values = more conservative\n",
    "    'alpha':0,# default=0, L1 (lasso); higher values = more conservative\n",
    "    'gamma':0,# [default=0, alias: min_split_loss] - Larger=more conservative. Minimum loss reduction required to make a further partition on a leaf node of the tree\n",
    "    'scale_pos_weight':1# default=1, reset later based on class distribution\n",
    "}"
   ]
  },
  {
   "cell_type": "code",
   "execution_count": 109,
   "metadata": {},
   "outputs": [],
   "source": [
    "# Starts with defaults, but can change\n",
    "boosting_params = DEFAULT_BOOSTING_PARAMS"
   ]
  },
  {
   "cell_type": "code",
   "execution_count": 110,
   "metadata": {},
   "outputs": [],
   "source": [
    "# Set Parameters for Grid Search\n",
    "def get_gs_params(params):\n",
    "    gs_params = {\n",
    "        'learning_rate': params['learning_rate'], \n",
    "        'num_boost_round': params['num_boost_round'],\n",
    "        #'n_estimators': best_n_estimators, \n",
    "        'max_depth': params['max_depth'],\n",
    "        'min_child_weight': params['min_child_weight'], \n",
    "        'gamma': params['gamma'], \n",
    "        'subsample': params['subsample'], \n",
    "        'colsample_bytree': params['colsample_bytree'], \n",
    "        'return_train_score': True,\n",
    "        'objective': 'binary:logistic', \n",
    "        #'n_jobs': 4,# -1 --> make use of all the cores in your system; but supposedly could also slow things \n",
    "        'scale_pos_weight':params['scale_pos_weight'], \n",
    "        'seed':7\n",
    "    }\n",
    "    return gs_params"
   ]
  },
  {
   "cell_type": "code",
   "execution_count": 111,
   "metadata": {},
   "outputs": [],
   "source": [
    "figure_params = {\n",
    "    'figure.figsize':(5,5),\n",
    "    'figure.titlesize':20,\n",
    "    'xtick.labelsize': 13,\n",
    "    'ytick.labelsize': 13,\n",
    "    'axes.labelsize': 18\n",
    "}"
   ]
  },
  {
   "cell_type": "markdown",
   "metadata": {},
   "source": [
    "#### Load Data"
   ]
  },
  {
   "cell_type": "code",
   "execution_count": 112,
   "metadata": {},
   "outputs": [],
   "source": [
    "def load_data(path):\n",
    "    df = pq.read_table(path, use_threads=4).to_pandas()\n",
    "    names = df.columns.tolist()\n",
    "    data = df.values\n",
    "    return names, data"
   ]
  },
  {
   "cell_type": "markdown",
   "metadata": {},
   "source": [
    "#### Randomly Shuffle the rows\n",
    "--- so that there is no systematic association of date with train/val/test"
   ]
  },
  {
   "cell_type": "code",
   "execution_count": 113,
   "metadata": {},
   "outputs": [],
   "source": [
    "def shuffle_rows(data, SEED):\n",
    "    # shuffles rows of an np-array, w/ seed, order will always be replicable\n",
    "    np.random.seed(seed=SEED)\n",
    "    np.random.shuffle(data)\n",
    "    return data"
   ]
  },
  {
   "cell_type": "markdown",
   "metadata": {},
   "source": [
    "#### Option to partition by observation --> train/dev/test"
   ]
  },
  {
   "cell_type": "code",
   "execution_count": 114,
   "metadata": {},
   "outputs": [],
   "source": [
    "def partition_by_observation(split_percents, data, idx_uid):\n",
    "    train_per, dev_per, test_per = split_percents\n",
    "    m = data.shape[0]\n",
    "    train, dev, test = np.split(data, [int(m*train_per), int(m*(train_per+dev_per))]) \n",
    "    print ('train shape: {}, dev shape: {}, test shape: {}'.format(train.shape, dev.shape, test.shape))\n",
    "    assert train.shape[0] + dev.shape[0] + test.shape[0] == data.shape[0]\n",
    "    \n",
    "    # Assumes y or target outcome is the first column, and that all other columns will be included in X\n",
    "    # Omit user_id in column 1\n",
    "    if idx_uid!=1: print ('Error: Expected user id in column 1, in function partition by observation')\n",
    "    partitions = {}\n",
    "    partitions['X_train'] = train[:,2:]\n",
    "    partitions['y_train'] = train[:,0]\n",
    "    partitions['X_dev'] = dev[:,2:]\n",
    "    partitions['y_dev'] = dev[:,0]\n",
    "    partitions['X_test'] = test[:,2:]\n",
    "    partitions['y_test'] = test[:,0]\n",
    "    \n",
    "    return partitions"
   ]
  },
  {
   "cell_type": "markdown",
   "metadata": {},
   "source": [
    "#### Option to Partition by User\n",
    "<p> -- dev and test set will not share any users with train set. No learning possible about individual users </p>"
   ]
  },
  {
   "cell_type": "code",
   "execution_count": 115,
   "metadata": {},
   "outputs": [],
   "source": [
    "def get_unique_uids(data):\n",
    "    # Get unique user ids\n",
    "    user_ids = np.unique(data[:,1])\n",
    "    print ('Number of unique users: {}'.format(user_ids.shape[0]))\n",
    "    #np.random.shuffle(user_ids)# Not needed because I already shuffled observations\n",
    "    return user_ids"
   ]
  },
  {
   "cell_type": "code",
   "execution_count": 116,
   "metadata": {},
   "outputs": [],
   "source": [
    "def partition_users(users, split_percents):\n",
    "    train_per, dev_per, test_per = split_percents\n",
    "    s = len(users)\n",
    "    arys = np.split(users, [int(train_per*s), int((train_per+dev_per)*s)])\n",
    "    return arys[0], arys[1], arys[2]"
   ]
  },
  {
   "cell_type": "code",
   "execution_count": 117,
   "metadata": {},
   "outputs": [],
   "source": [
    "def get_idx(uuids, idx_uid):\n",
    "    # given a list of user ids, find the indices in the data np-ary that represent observations from these users\n",
    "    idx = []\n",
    "    for ui in uuids:\n",
    "        temp = np.where(data[:, idx_uid]==ui)[0]\n",
    "        idx = np.append(idx, temp, axis=0).astype(int)\n",
    "    return idx"
   ]
  },
  {
   "cell_type": "code",
   "execution_count": 118,
   "metadata": {},
   "outputs": [],
   "source": [
    "def partition_by_user(split_percents, data, idx_uid):\n",
    "    # Get arrays of user_ids that partition up the train, dev, test\n",
    "    uuids = get_unique_uids(data)# returns a randomly shuffled array of unique user ids\n",
    "    train_ui, dev_ui, test_ui = partition_users(uuids, split_percents)\n",
    "    assert len(uuids) == train_ui.shape[0] + dev_ui.shape[0] + test_ui.shape[0]\n",
    "\n",
    "    # Get the indices for the observations belonging to a given set of user_ids\n",
    "\n",
    "    partitions={}\n",
    "    segments = {'train': train_ui, 'dev': dev_ui, 'test': test_ui}\n",
    "    for k, uuids in segments.items():\n",
    "        print ('Running segment: {}...'.format(k))\n",
    "        %time\n",
    "        idx = get_idx(uuids, idx_uid)\n",
    "        idx = np.sort(idx)\n",
    "        partitions['X_'+k]=data[idx, 2:]\n",
    "        partitions['y_'+k]=data[idx, 0]\n",
    "    print ('train shape: {}, dev shape: {}, test shape: {}'.format(partitions['X_train'].shape, partitions['X_dev'].shape, partitions['X_test'].shape))\n",
    "        \n",
    "    return partitions"
   ]
  },
  {
   "cell_type": "markdown",
   "metadata": {},
   "source": [
    "#### Package Data Matrices for XGBoost"
   ]
  },
  {
   "cell_type": "code",
   "execution_count": 119,
   "metadata": {},
   "outputs": [],
   "source": [
    "def package_data (partitions, names, idx_uid):\n",
    "    # Assign data - (Note: must dropna first, otherwise missing=-999 throws an error because NaNs also still exist)\n",
    "    print (\"\\nSetting up data-matrices for Gradient Boosted Classification Tree with Outcome: {}...\\n\".format(names[0]))\n",
    "\n",
    "    names = [str(name) for name in names]# convert from byte to string\n",
    "    del names[idx_uid]# Omit user_id at idx, 1\n",
    "    partitions['names']=names\n",
    "    partitions['dtrain'] = xgb.DMatrix(data=partitions['X_train'], label=partitions['y_train'], \n",
    "                                       feature_names=names[1:], missing=MISSING_VALUE)\n",
    "    partitions['ddev'] = xgb.DMatrix(data=partitions['X_dev'], label=partitions['y_dev'], \n",
    "                                     feature_names=names[1:], missing=MISSING_VALUE)\n",
    "    partitions['dtest'] = xgb.DMatrix(data=partitions['X_test'], label=partitions['y_test'], \n",
    "                                      feature_names=names[1:], missing=MISSING_VALUE)\n",
    "    \n",
    "    return partitions"
   ]
  },
  {
   "cell_type": "markdown",
   "metadata": {},
   "source": [
    "#### Balance Classes"
   ]
  },
  {
   "cell_type": "code",
   "execution_count": 120,
   "metadata": {},
   "outputs": [],
   "source": [
    "def get_balance_weight(y_train):\n",
    "\n",
    "    pos = np.sum(y_train, axis=0, dtype=int)\n",
    "    neg = y_train.shape[0]-pos\n",
    "    print ('\\n{} positive cases and {} negative cases'.format(pos, neg))\n",
    "\n",
    "    scale_pos_weight = round(neg/pos, 2)# 2.38 for the BACtrack dataset\n",
    "    print ('Scale Weight for balanced classes would be: {}'.format(scale_pos_weight))\n",
    "    return scale_pos_weight"
   ]
  },
  {
   "cell_type": "markdown",
   "metadata": {},
   "source": [
    "#### Training/Fitting the Model\n",
    "--- fit vs train -- https://datascience.stackexchange.com/questions/17282/xgbregressor-vs-xgboost-train-huge-speed-difference"
   ]
  },
  {
   "cell_type": "code",
   "execution_count": 121,
   "metadata": {},
   "outputs": [],
   "source": [
    "def fit_model(dtrain, ddev, boosting_params):\n",
    "    # # Training a Model\n",
    "    # # -- xgboost.train will ignore parameter n_estimators, while xgboost.XGBRegressor accepts. \n",
    "    # # -- In xgboost.train, boosting iterations (i.e. n_estimators) is controlled by num_boost_round(default: 10)\n",
    "    # # -- the learning_rate (eta) and num_boost_rounds are instrisincally connected.  \n",
    "    # # -- Slower learning rates will typically require more rounds\n",
    "\n",
    "    # if num_boost_round not explicitly given as kwarg, it will be overridden by default of 10, which can be seen in eval printing\n",
    "    watchlist = [(ddev, 'dev'), (dtrain, 'train')]\n",
    "    %time\n",
    "    model = xgb.train(params=boosting_params, dtrain=dtrain, evals=watchlist, verbose_eval=True,\n",
    "                      num_boost_round=boosting_params['num_boost_round'])# try predictor='gpu_predictor'\n",
    "    return model"
   ]
  },
  {
   "cell_type": "markdown",
   "metadata": {},
   "source": [
    "#### Make & Evaluate Model Predictions"
   ]
  },
  {
   "cell_type": "code",
   "execution_count": 122,
   "metadata": {},
   "outputs": [],
   "source": [
    "def predict(model, d_true):\n",
    "    # d_true is the xgboost prepared dataset corresponding to test or dev (per needs); includes X and y and names\n",
    "    y_proba = model.predict(d_true)\n",
    "    y_pred = [round(value) for value in y_proba]# Use to get 0 vs 1?\n",
    "    return y_pred, y_proba"
   ]
  },
  {
   "cell_type": "code",
   "execution_count": 123,
   "metadata": {},
   "outputs": [],
   "source": [
    "def evaluate_model(y_true, y_pred, y_proba):\n",
    "    accuracy = accuracy_score(y_true, y_pred)\n",
    "    roc_auc = roc_auc_score(y_true, y_proba, average='micro', max_fpr=None)#sample_weight=scale_pos_weight, \n",
    "    print ('Accuracy: {:02.2f}%'.format(accuracy*100.))\n",
    "    print ('ROC AUC: {:02.2f}%'.format(roc_auc*100.))\n",
    "    return accuracy, roc_auc"
   ]
  },
  {
   "cell_type": "markdown",
   "metadata": {},
   "source": [
    "#### Confusion Matrix"
   ]
  },
  {
   "cell_type": "code",
   "execution_count": 124,
   "metadata": {},
   "outputs": [],
   "source": [
    "def plot_confusion_matrix(cm, classes,\n",
    "                          normalize=False,\n",
    "                          title='Confusion matrix',\n",
    "                          cmap=plt.cm.Blues):\n",
    "    \"\"\"\n",
    "    This function prints and plots the confusion matrix.\n",
    "    Normalization can be applied by setting `normalize=True`.\n",
    "    \"\"\"\n",
    "    if normalize:\n",
    "        cm = cm.astype('float') / cm.sum(axis=1)[:, np.newaxis]\n",
    "        print(\"Normalized confusion matrix\\n\")\n",
    "    else:\n",
    "        print('Confusion matrix, without normalization')\n",
    "\n",
    "    print(cm)\n",
    "\n",
    "    plt.imshow(cm, interpolation='nearest', cmap=cmap)\n",
    "    plt.title(title)\n",
    "    plt.colorbar()\n",
    "    tick_marks = np.arange(len(classes))\n",
    "    plt.xticks(tick_marks, classes, rotation=45)\n",
    "    plt.yticks(tick_marks, classes)\n",
    "\n",
    "    fmt = '.2f' if normalize else 'd'\n",
    "    thresh = cm.max() / 2.\n",
    "    for i, j in itertools.product(range(cm.shape[0]), range(cm.shape[1])):\n",
    "        plt.text(j, i, format(cm[i, j], fmt),\n",
    "                 horizontalalignment=\"center\",\n",
    "                 color=\"white\" if cm[i, j] > thresh else \"black\")\n",
    "\n",
    "    plt.tight_layout()\n",
    "    plt.ylabel('Actual')\n",
    "    plt.xlabel('Predicted')"
   ]
  },
  {
   "cell_type": "markdown",
   "metadata": {},
   "source": [
    "#### Full Report (w/ Confusion Matrix)"
   ]
  },
  {
   "cell_type": "code",
   "execution_count": 125,
   "metadata": {},
   "outputs": [],
   "source": [
    "def full_report(figure_params, y_test, y_pred, target_names):\n",
    "    \n",
    "    # # Plot Confusion Matrix for Classification - http://scikit-learn.org/stable/modules/model_evaluation.html\n",
    "    plt.rcParams.update(figure_params)\n",
    "\n",
    "    cnf_matrix = confusion_matrix(y_test, y_pred)\n",
    "    tn, fp, fn, tp = confusion_matrix(y_test, y_pred).ravel()\n",
    "\n",
    "    fig = plt.figure()\n",
    "    plot_confusion_matrix(cnf_matrix, ['low BAC','high BAC'], normalize=True)\n",
    "    plt.title('Confusion Matrix', fontsize=16)\n",
    "    plt.show()\n",
    "    fig.savefig('/'.join( \\\n",
    "        [FIGURE_FOLDER,'/cm/Normalized_Confusion_Matrix_BAC_Classification_{}.png'.format(TODAY)]), \\\n",
    "        bbox_inches='tight')\n",
    "\n",
    "    # Classification Report\n",
    "    #print ('\\nAccuracy: {:02.2f}%\\n'.format(accuracy*100.))\n",
    "    print (classification_report(y_test, y_pred, target_names=target_names),'\\n')"
   ]
  },
  {
   "cell_type": "markdown",
   "metadata": {},
   "source": [
    "### Plot ROC"
   ]
  },
  {
   "cell_type": "code",
   "execution_count": 126,
   "metadata": {},
   "outputs": [],
   "source": [
    "def plot_ROC(y_test, y_pred_proba):\n",
    "    # y_test can also be y_dev, depending on context\n",
    "    \n",
    "    fpr = dict()\n",
    "    tpr = dict()\n",
    "    roc_auc = dict()\n",
    "\n",
    "    # Calculate x and y for ROC-curve\n",
    "    fpr, tpr, _ = roc_curve(y_test, y_pred_proba)\n",
    "    roc_auc = auc(fpr, tpr)\n",
    "    #print (fpr.shape, tpr.shape, roc_auc)# DEBUG\n",
    "\n",
    "    #Plot of a ROC curve for a specific class\n",
    "    plt.rcParams.update(figure_params)\n",
    "    plt.figure()\n",
    "    plt.plot(fpr, tpr, color='darkorange',\n",
    "             lw=2, label='ROC curve (area = {:0.2f})'.format(roc_auc))\n",
    "    plt.plot([0, 1], [0, 1], color='navy', lw=2, linestyle='--')\n",
    "    plt.xlim([0.0, 1.0])\n",
    "    plt.ylim([0.0, 1.05])\n",
    "    plt.xlabel('False Positive Rate')\n",
    "    plt.ylabel('True Positive Rate')\n",
    "    plt.title('Receiver operating characteristic')\n",
    "    plt.legend(loc=\"lower right\")\n",
    "    plt.show()"
   ]
  },
  {
   "cell_type": "markdown",
   "metadata": {},
   "source": [
    "### Built-in Feature Importance Graph:  \n",
    "--- importance_type='weight' matches above.  'cover' provides quite different results, which may be of interest to report in paper."
   ]
  },
  {
   "cell_type": "code",
   "execution_count": 127,
   "metadata": {},
   "outputs": [],
   "source": [
    "def graph_importances(model):  \n",
    "    \n",
    "    # -- http://xgboost.readthedocs.io/en/latest/python/python_api.html\n",
    "    # weight” is the number of times a feature appears in a tree “gain” is the average gain of splits which use the feature...\n",
    "    # “cover” is the average coverage of splits which use the feature, where coverage is defined as the number of samples affected by the split\n",
    "    plt.rcParams['figure.figsize']=(14,18)\n",
    "    xgb.plot_importance(model, importance_type='weight')\n",
    "    plt.title('Feature Importance (Weight)', fontsize=20)\n",
    "    plt.show()\n",
    "    plt.savefig('/'.join([FIGURE_FOLDER,'fi/feature_importance_{}.png'.format(TODAY)]), \\\n",
    "                bbox_inches='tight')   "
   ]
  },
  {
   "cell_type": "markdown",
   "metadata": {},
   "source": [
    "### MAIN"
   ]
  },
  {
   "cell_type": "code",
   "execution_count": 128,
   "metadata": {},
   "outputs": [
    {
     "name": "stderr",
     "output_type": "stream",
     "text": [
      "/home/kaschbacher/.conda/envs/bactrack/lib/python3.6/site-packages/pyarrow/pandas_compat.py:708: FutureWarning: .labels was deprecated in version 0.24.0. Use .codes instead.\n",
      "  labels = getattr(columns, 'labels', None) or [\n",
      "/home/kaschbacher/.conda/envs/bactrack/lib/python3.6/site-packages/pyarrow/pandas_compat.py:735: FutureWarning: the 'labels' keyword is deprecated, use 'codes' instead\n",
      "  return pd.MultiIndex(levels=new_levels, labels=labels, names=columns.names)\n",
      "/home/kaschbacher/.conda/envs/bactrack/lib/python3.6/site-packages/pyarrow/pandas_compat.py:752: FutureWarning: .labels was deprecated in version 0.24.0. Use .codes instead.\n",
      "  labels, = index.labels\n"
     ]
    },
    {
     "name": "stdout",
     "output_type": "stream",
     "text": [
      "(973264, 90) \n",
      "\n",
      "['bac_clinical', 'user_id', 'bac_guess']\n",
      "CPU times: user 8.92 s, sys: 7.99 s, total: 16.9 s\n",
      "Wall time: 3 s\n"
     ]
    }
   ],
   "source": [
    "%%time\n",
    "# Load Data\n",
    "names, data = load_data(PATH)\n",
    "print (data.shape, '\\n')# QA\n",
    "print (names[:3])# Ensure that bac_clinical (or the outcome) is the first column!"
   ]
  },
  {
   "cell_type": "markdown",
   "metadata": {},
   "source": [
    "#### Prepare Data"
   ]
  },
  {
   "cell_type": "code",
   "execution_count": 129,
   "metadata": {},
   "outputs": [
    {
     "name": "stdout",
     "output_type": "stream",
     "text": [
      "CPU times: user 4.68 s, sys: 144 ms, total: 4.83 s\n",
      "Wall time: 3.27 s\n"
     ]
    },
    {
     "data": {
      "text/plain": [
       "array([[0.00000000e+00, 7.11200000e+03, 0.00000000e+00, ...,\n",
       "        2.50000000e+01, 1.90000000e+00, 1.00000000e+00],\n",
       "       [0.00000000e+00, 1.04970000e+04, 3.99999991e-02, ...,\n",
       "                   nan,            nan,            nan],\n",
       "       [0.00000000e+00, 2.43700000e+03, 2.99999993e-02, ...,\n",
       "                   nan,            nan,            nan],\n",
       "       ...,\n",
       "       [1.00000000e+00, 3.11940000e+04, 9.00000036e-02, ...,\n",
       "        4.80000000e+02, 5.40000000e+00, 1.00000000e+00],\n",
       "       [0.00000000e+00, 2.02670000e+04, 1.99999996e-02, ...,\n",
       "        3.80000000e+01, 1.30000000e+00, 1.00000000e+00],\n",
       "       [1.00000000e+00, 1.10320000e+04, 0.00000000e+00, ...,\n",
       "        9.00000000e+00, 9.00000000e-01, 1.00000000e+00]])"
      ]
     },
     "execution_count": 129,
     "metadata": {},
     "output_type": "execute_result"
    }
   ],
   "source": [
    "%%time\n",
    "# Partition randomly\n",
    "shuffle_rows(data, SEED)"
   ]
  },
  {
   "cell_type": "markdown",
   "metadata": {},
   "source": [
    "#### Partition data in 1 of 2 ways - (by randomly assigning either observations or users to the train/dev/test)"
   ]
  },
  {
   "cell_type": "markdown",
   "metadata": {},
   "source": [
    "### Balancing the Classes/ Determining Class Weights"
   ]
  },
  {
   "cell_type": "code",
   "execution_count": 130,
   "metadata": {},
   "outputs": [],
   "source": [
    "def balance_classes(params, partitions):\n",
    "    prior_scale_pos_weight = params['scale_pos_weight']\n",
    "    # Reset scale weight in boosting params and in the grid search params both\n",
    "    params['scale_pos_weight'] = get_balance_weight(partitions['y_train'])\n",
    "    print ('\\nResetting positive scale weight from {} to {}...\\n'.format(prior_scale_pos_weight, params['scale_pos_weight']))\n",
    "    return params"
   ]
  },
  {
   "cell_type": "code",
   "execution_count": 131,
   "metadata": {},
   "outputs": [],
   "source": [
    "def print_parameters(param_type, params):\n",
    "    print ('\\n\\n{} parameters...\\n'.format(param_type),'-'*20,'\\n')\n",
    "    for k, p in params.items():\n",
    "        print (k, p)\n",
    "    print ('\\n\\n')"
   ]
  },
  {
   "cell_type": "markdown",
   "metadata": {},
   "source": [
    "## Default Model for Comparison"
   ]
  },
  {
   "cell_type": "code",
   "execution_count": 155,
   "metadata": {},
   "outputs": [],
   "source": [
    "def base_model_wwo_balancing(boosting_params, partitions):\n",
    "    \n",
    "    def set_params_to_default(params):\n",
    "        # QA code - ensure correct state of params\n",
    "        # Assumption is that boosting_params starts out at the default, and then can be altered throughout the tuning process\n",
    "        if params != DEFAULT_BOOSTING_PARAMS:\n",
    "            print ('Resetting boosting params to be equal to DEFAULT\\n')\n",
    "            params = DEFAULT_BOOSTING_PARAMS\n",
    "        # Assumes we start with no scale weighting, and compare that to weighting inversely to case prevalence in the training set\n",
    "        if params['scale_pos_weight'] != 1:\n",
    "            print ('Converting the scale weight for boosting params back to 1 for the first run...\\n')\n",
    "            params['scale_pos_weight'] = 1\n",
    "        print_parameters('Default boosting parameters', params)\n",
    "        return params\n",
    "    \n",
    "    \n",
    "    boosting_params = set_params_to_default(boosting_params)\n",
    "    \n",
    "    # Fit & Evaluate model twice: 1) Unbalanced, 2) Balanced\n",
    "    for i in range(0,2):\n",
    "        if i>0: \n",
    "            print ('-'*60,'\\n')\n",
    "            boosting_params = balance_classes(boosting_params, partitions)\n",
    "            \n",
    "        # Fit Model\n",
    "        print ('Run {}, Scale weight = {:0.2f}'.format(i, boosting_params['scale_pos_weight']))\n",
    "        model= fit_model(partitions['dtrain'], partitions['ddev'], boosting_params)\n",
    "\n",
    "        # Predict/ Evaluate in Dev set\n",
    "        y_true = partitions['y_dev']; d_true = partitions['ddev']\n",
    "        y_pred, y_proba = predict(model, d_true)\n",
    "        accuracy, roc = evaluate_model(y_true, y_pred, y_proba)\n",
    "\n",
    "        # Get Results & Figures\n",
    "        plot_ROC(y_true, y_proba)\n",
    "        full_report(figure_params, y_true, y_pred, ['bac <.08', 'bac >=.08'])\n",
    "        #graph_importances(model) \n",
    "        "
   ]
  },
  {
   "cell_type": "markdown",
   "metadata": {},
   "source": [
    "### First, partition by randomly assigned users"
   ]
  },
  {
   "cell_type": "code",
   "execution_count": 136,
   "metadata": {},
   "outputs": [
    {
     "name": "stdout",
     "output_type": "stream",
     "text": [
      "Number of unique users: 33460\n",
      "Running segment: train...\n",
      "CPU times: user 596 µs, sys: 49 µs, total: 645 µs\n",
      "Wall time: 55.3 µs\n",
      "Running segment: dev...\n",
      "CPU times: user 11 µs, sys: 0 ns, total: 11 µs\n",
      "Wall time: 23.6 µs\n",
      "Running segment: test...\n",
      "CPU times: user 9 µs, sys: 1e+03 ns, total: 10 µs\n",
      "Wall time: 17.9 µs\n",
      "train shape: (893983, 88), dev shape: (37710, 88), test shape: (41571, 88)\n",
      "\n",
      "Setting up data-matrices for Gradient Boosted Classification Tree with Outcome: bac_clinical...\n",
      "\n",
      "Converting the scale weight for boosting params back to 1 for the first run...\n",
      "\n",
      "\n",
      "\n",
      "Default Boosting parameters parameters...\n",
      " -------------------- \n",
      "\n",
      "silent 1\n",
      "learning_rate 0.3\n",
      "max_depth 6\n",
      "min_child_weight 1\n",
      "subsample 0.8\n",
      "colsample_bytree 0.8\n",
      "objective binary:logistic\n",
      "num_boost_round 10\n",
      "random_state 7\n",
      "lambda 1\n",
      "alpha 0\n",
      "gamma 0\n",
      "scale_pos_weight 1\n",
      "\n",
      "\n",
      "\n",
      "Run 0, Scale weight = 1.00\n",
      "CPU times: user 10 µs, sys: 0 ns, total: 10 µs\n",
      "Wall time: 21.9 µs\n",
      "[0]\tdev-error:0.302917\ttrain-error:0.202914\n",
      "[1]\tdev-error:0.301962\ttrain-error:0.200591\n",
      "[2]\tdev-error:0.298356\ttrain-error:0.199639\n",
      "[3]\tdev-error:0.298038\ttrain-error:0.198959\n",
      "[4]\tdev-error:0.2952\ttrain-error:0.197421\n",
      "[5]\tdev-error:0.295041\ttrain-error:0.197157\n",
      "[6]\tdev-error:0.294033\ttrain-error:0.196088\n",
      "[7]\tdev-error:0.294086\ttrain-error:0.195626\n",
      "[8]\tdev-error:0.292973\ttrain-error:0.19523\n",
      "[9]\tdev-error:0.292522\ttrain-error:0.194721\n",
      "Accuracy: 70.75%\n",
      "ROC AUC: 77.02%\n"
     ]
    },
    {
     "data": {
      "image/png": "[encoded data removed]",
      "text/plain": [
       "<Figure size 360x360 with 1 Axes>"
      ]
     },
     "metadata": {
      "needs_background": "light"
     },
     "output_type": "display_data"
    },
    {
     "name": "stdout",
     "output_type": "stream",
     "text": [
      "Normalized confusion matrix\n",
      "\n",
      "[[0.74673732 0.25326268]\n",
      " [0.33870037 0.66129963]]\n"
     ]
    },
    {
     "data": {
      "image/png": "[encoded data removed]",
      "text/plain": [
       "<Figure size 360x360 with 2 Axes>"
      ]
     },
     "metadata": {
      "needs_background": "light"
     },
     "output_type": "display_data"
    },
    {
     "name": "stdout",
     "output_type": "stream",
     "text": [
      "              precision    recall  f1-score   support\n",
      "\n",
      "    bac <.08       0.72      0.75      0.73     20382\n",
      "   bac >=.08       0.69      0.66      0.68     17328\n",
      "\n",
      "   micro avg       0.71      0.71      0.71     37710\n",
      "   macro avg       0.71      0.70      0.70     37710\n",
      "weighted avg       0.71      0.71      0.71     37710\n",
      " \n",
      "\n",
      "------------------------------------------------------------ \n",
      "\n",
      "\n",
      "250229 positive cases and 643754 negative cases\n",
      "Scale Weight for balanced classes would be: 2.57\n",
      "\n",
      "Resetting positive scale weight from 1 to 2.57...\n",
      "\n",
      "Run 1, Scale weight = 2.57\n",
      "CPU times: user 10 µs, sys: 0 ns, total: 10 µs\n",
      "Wall time: 19.6 µs\n",
      "[0]\tdev-error:0.359056\ttrain-error:0.259386\n",
      "[1]\tdev-error:0.364254\ttrain-error:0.256203\n",
      "[2]\tdev-error:0.363538\ttrain-error:0.251916\n",
      "[3]\tdev-error:0.361283\ttrain-error:0.250715\n",
      "[4]\tdev-error:0.362371\ttrain-error:0.250742\n",
      "[5]\tdev-error:0.360249\ttrain-error:0.248001\n",
      "[6]\tdev-error:0.360355\ttrain-error:0.245849\n",
      "[7]\tdev-error:0.362132\ttrain-error:0.246004\n",
      "[8]\tdev-error:0.359852\ttrain-error:0.243321\n",
      "[9]\tdev-error:0.355821\ttrain-error:0.240836\n",
      "Accuracy: 64.42%\n",
      "ROC AUC: 77.04%\n"
     ]
    },
    {
     "data": {
      "image/png": "[encoded data removed]",
      "text/plain": [
       "<Figure size 360x360 with 1 Axes>"
      ]
     },
     "metadata": {
      "needs_background": "light"
     },
     "output_type": "display_data"
    },
    {
     "name": "stdout",
     "output_type": "stream",
     "text": [
      "Normalized confusion matrix\n",
      "\n",
      "[[0.44956334 0.55043666]\n",
      " [0.12690443 0.87309557]]\n"
     ]
    },
    {
     "data": {
      "image/png": "[encoded data removed]",
      "text/plain": [
       "<Figure size 360x360 with 2 Axes>"
      ]
     },
     "metadata": {
      "needs_background": "light"
     },
     "output_type": "display_data"
    },
    {
     "name": "stdout",
     "output_type": "stream",
     "text": [
      "              precision    recall  f1-score   support\n",
      "\n",
      "    bac <.08       0.81      0.45      0.58     20382\n",
      "   bac >=.08       0.57      0.87      0.69     17328\n",
      "\n",
      "   micro avg       0.64      0.64      0.64     37710\n",
      "   macro avg       0.69      0.66      0.64     37710\n",
      "weighted avg       0.70      0.64      0.63     37710\n",
      " \n",
      "\n"
     ]
    }
   ],
   "source": [
    "# Confirm what column user_id is in\n",
    "idx_uid = 1\n",
    "assert names[idx_uid]=='user_id'\n",
    "\n",
    "partitions = partition_by_user(split_percents, data, idx_uid)\n",
    "partitions = package_data(partitions, names, idx_uid)# Package data for XGboost (dtrain, dtest, etc)\n",
    "base_model_wwo_balancing(boosting_params, partitions)"
   ]
  },
  {
   "cell_type": "markdown",
   "metadata": {},
   "source": [
    "### Contrast results, which partition randomly assigned observations\n",
    "-- i.e., the same user can have some observations in the training set and the dev set or test set"
   ]
  },
  {
   "cell_type": "code",
   "execution_count": 137,
   "metadata": {},
   "outputs": [
    {
     "name": "stdout",
     "output_type": "stream",
     "text": [
      "train shape: (681284, 90), dev shape: (97327, 90), test shape: (194653, 90)\n",
      "\n",
      "Setting up data-matrices for Gradient Boosted Classification Tree with Outcome: bac_clinical...\n",
      "\n",
      "Converting the scale weight for boosting params back to 1 for the first run...\n",
      "\n",
      "\n",
      "\n",
      "Default Boosting parameters parameters...\n",
      " -------------------- \n",
      "\n",
      "silent 1\n",
      "learning_rate 0.3\n",
      "max_depth 6\n",
      "min_child_weight 1\n",
      "subsample 0.8\n",
      "colsample_bytree 0.8\n",
      "objective binary:logistic\n",
      "num_boost_round 10\n",
      "random_state 7\n",
      "lambda 1\n",
      "alpha 0\n",
      "gamma 0\n",
      "scale_pos_weight 1\n",
      "\n",
      "\n",
      "\n",
      "Run 0, Scale weight = 1.00\n",
      "CPU times: user 8 µs, sys: 0 ns, total: 8 µs\n",
      "Wall time: 19.6 µs\n",
      "[0]\tdev-error:0.21251\ttrain-error:0.212923\n",
      "[1]\tdev-error:0.209017\ttrain-error:0.208572\n",
      "[2]\tdev-error:0.207846\ttrain-error:0.207152\n",
      "[3]\tdev-error:0.207404\ttrain-error:0.206516\n",
      "[4]\tdev-error:0.206202\ttrain-error:0.205575\n",
      "[5]\tdev-error:0.205791\ttrain-error:0.204567\n",
      "[6]\tdev-error:0.205832\ttrain-error:0.204203\n",
      "[7]\tdev-error:0.205441\ttrain-error:0.203733\n",
      "[8]\tdev-error:0.205503\ttrain-error:0.203517\n",
      "[9]\tdev-error:0.20426\ttrain-error:0.202521\n",
      "Accuracy: 79.57%\n",
      "ROC AUC: 86.68%\n"
     ]
    },
    {
     "data": {
      "image/png": "[encoded data removed]",
      "text/plain": [
       "<Figure size 360x360 with 1 Axes>"
      ]
     },
     "metadata": {
      "needs_background": "light"
     },
     "output_type": "display_data"
    },
    {
     "name": "stdout",
     "output_type": "stream",
     "text": [
      "Normalized confusion matrix\n",
      "\n",
      "[[0.89973364 0.10026636]\n",
      " [0.44929135 0.55070865]]\n"
     ]
    },
    {
     "data": {
      "image/png": "[encoded data removed]",
      "text/plain": [
       "<Figure size 360x360 with 2 Axes>"
      ]
     },
     "metadata": {
      "needs_background": "light"
     },
     "output_type": "display_data"
    },
    {
     "name": "stdout",
     "output_type": "stream",
     "text": [
      "              precision    recall  f1-score   support\n",
      "\n",
      "    bac <.08       0.83      0.90      0.86     68328\n",
      "   bac >=.08       0.70      0.55      0.62     28999\n",
      "\n",
      "   micro avg       0.80      0.80      0.80     97327\n",
      "   macro avg       0.76      0.73      0.74     97327\n",
      "weighted avg       0.79      0.80      0.79     97327\n",
      " \n",
      "\n",
      "------------------------------------------------------------ \n",
      "\n",
      "\n",
      "201610 positive cases and 479674 negative cases\n",
      "Scale Weight for balanced classes would be: 2.38\n",
      "\n",
      "Resetting positive scale weight from 1 to 2.38...\n",
      "\n",
      "Run 1, Scale weight = 2.38\n",
      "CPU times: user 13 µs, sys: 1e+03 ns, total: 14 µs\n",
      "Wall time: 27.7 µs\n",
      "[0]\tdev-error:0.264572\ttrain-error:0.265995\n",
      "[1]\tdev-error:0.256691\ttrain-error:0.258265\n",
      "[2]\tdev-error:0.255315\ttrain-error:0.256839\n",
      "[3]\tdev-error:0.24877\ttrain-error:0.249849\n",
      "[4]\tdev-error:0.250968\ttrain-error:0.253113\n",
      "[5]\tdev-error:0.249283\ttrain-error:0.251209\n",
      "[6]\tdev-error:0.249088\ttrain-error:0.250034\n",
      "[7]\tdev-error:0.249848\ttrain-error:0.251251\n",
      "[8]\tdev-error:0.246715\ttrain-error:0.24861\n",
      "[9]\tdev-error:0.245245\ttrain-error:0.247085\n",
      "Accuracy: 75.48%\n",
      "ROC AUC: 86.68%\n"
     ]
    },
    {
     "data": {
      "image/png": "[encoded data removed]",
      "text/plain": [
       "<Figure size 360x360 with 1 Axes>"
      ]
     },
     "metadata": {
      "needs_background": "light"
     },
     "output_type": "display_data"
    },
    {
     "name": "stdout",
     "output_type": "stream",
     "text": [
      "Normalized confusion matrix\n",
      "\n",
      "[[0.71910491 0.28089509]\n",
      " [0.16124694 0.83875306]]\n"
     ]
    },
    {
     "data": {
      "image/png": "[encoded data removed]",
      "text/plain": [
       "<Figure size 360x360 with 2 Axes>"
      ]
     },
     "metadata": {
      "needs_background": "light"
     },
     "output_type": "display_data"
    },
    {
     "name": "stdout",
     "output_type": "stream",
     "text": [
      "              precision    recall  f1-score   support\n",
      "\n",
      "    bac <.08       0.91      0.72      0.80     68328\n",
      "   bac >=.08       0.56      0.84      0.67     28999\n",
      "\n",
      "   micro avg       0.75      0.75      0.75     97327\n",
      "   macro avg       0.74      0.78      0.74     97327\n",
      "weighted avg       0.81      0.75      0.76     97327\n",
      " \n",
      "\n"
     ]
    }
   ],
   "source": [
    "partitions = partition_by_observation(split_percents, data, idx_uid)\n",
    "partitions = package_data(partitions, names, idx_uid)# Package data for XGboost (dtrain, dtest, etc)\n",
    "base_model_wwo_balancing(boosting_params, partitions) "
   ]
  },
  {
   "cell_type": "markdown",
   "metadata": {},
   "source": [
    "### Use Cross-Validated XGBoost to determine the optimal number of trees"
   ]
  },
  {
   "cell_type": "code",
   "execution_count": null,
   "metadata": {},
   "outputs": [
    {
     "name": "stdout",
     "output_type": "stream",
     "text": [
      "Boosting Params...\n",
      "\n",
      "silent 1\n",
      "learning_rate 0.01\n",
      "max_depth 6\n",
      "min_child_weight 1\n",
      "subsample 0.8\n",
      "colsample_bytree 0.8\n",
      "objective binary:logistic\n",
      "num_boost_round 500\n",
      "random_state 7\n",
      "lambda 1\n",
      "alpha 0\n",
      "gamma 0\n",
      "scale_pos_weight 2.38\n",
      "nthread -1\n",
      "verbose 2\n",
      "\n",
      "\n",
      "[0]\ttrain-auc:0.772994+0.037124\ttest-auc:0.771706+0.0371879\n",
      "[1]\ttrain-auc:0.819818+0.0263424\ttest-auc:0.818489+0.0273702\n",
      "[2]\ttrain-auc:0.828171+0.0138876\ttest-auc:0.826641+0.0151953\n",
      "[3]\ttrain-auc:0.839313+0.0154673\ttest-auc:0.837861+0.0167109\n",
      "[4]\ttrain-auc:0.847945+0.00682214\ttest-auc:0.846621+0.00806562\n",
      "[5]\ttrain-auc:0.853443+0.00311309\ttest-auc:0.852199+0.00438251\n",
      "[6]\ttrain-auc:0.85617+0.00183356\ttest-auc:0.85503+0.00303119\n",
      "[7]\ttrain-auc:0.856147+0.00260438\ttest-auc:0.854887+0.00386835\n",
      "[8]\ttrain-auc:0.857728+0.00107896\ttest-auc:0.856534+0.00229472\n",
      "[9]\ttrain-auc:0.858368+0.000725998\ttest-auc:0.857174+0.001492\n",
      "[10]\ttrain-auc:0.858468+0.00118734\ttest-auc:0.857278+0.00133642\n",
      "[11]\ttrain-auc:0.858584+0.00178273\ttest-auc:0.857408+0.00179603\n",
      "[12]\ttrain-auc:0.858339+0.00244957\ttest-auc:0.857149+0.00236446\n",
      "[13]\ttrain-auc:0.858158+0.00277349\ttest-auc:0.856954+0.00265753\n",
      "[14]\ttrain-auc:0.858284+0.00283556\ttest-auc:0.857066+0.00283269\n",
      "[15]\ttrain-auc:0.858815+0.00209251\ttest-auc:0.857616+0.00200284\n",
      "[16]\ttrain-auc:0.859143+0.00166261\ttest-auc:0.857977+0.00156587\n",
      "[17]\ttrain-auc:0.859494+0.001346\ttest-auc:0.858314+0.00121191\n",
      "[18]\ttrain-auc:0.85975+0.00113942\ttest-auc:0.858603+0.000925088\n",
      "[19]\ttrain-auc:0.859914+0.000970733\ttest-auc:0.858786+0.000746774\n",
      "[20]\ttrain-auc:0.860093+0.000787046\ttest-auc:0.858976+0.000692656\n",
      "[21]\ttrain-auc:0.860311+0.000645136\ttest-auc:0.8592+0.000826837\n",
      "[22]\ttrain-auc:0.860408+0.000548575\ttest-auc:0.859318+0.000886015\n",
      "[23]\ttrain-auc:0.860361+0.000768319\ttest-auc:0.859269+0.00098431\n",
      "[24]\ttrain-auc:0.860473+0.000720409\ttest-auc:0.859384+0.000896709\n",
      "[25]\ttrain-auc:0.860536+0.000669456\ttest-auc:0.859449+0.000846939\n",
      "[26]\ttrain-auc:0.86047+0.000749137\ttest-auc:0.859373+0.000859344\n",
      "[27]\ttrain-auc:0.860615+0.0006925\ttest-auc:0.859528+0.000911007\n",
      "[28]\ttrain-auc:0.860717+0.000624328\ttest-auc:0.859644+0.000942313\n",
      "[29]\ttrain-auc:0.860776+0.000653832\ttest-auc:0.859686+0.000869821\n",
      "[30]\ttrain-auc:0.860815+0.000788088\ttest-auc:0.859723+0.00100526\n",
      "[31]\ttrain-auc:0.860941+0.00064856\ttest-auc:0.859852+0.000933065\n",
      "[32]\ttrain-auc:0.861006+0.000593581\ttest-auc:0.859932+0.000964265\n",
      "[33]\ttrain-auc:0.86105+0.00053946\ttest-auc:0.859981+0.000990979\n",
      "[34]\ttrain-auc:0.861204+0.000465143\ttest-auc:0.860128+0.00100358\n",
      "[35]\ttrain-auc:0.861305+0.000514173\ttest-auc:0.86024+0.000954673\n",
      "[36]\ttrain-auc:0.861382+0.000440766\ttest-auc:0.860321+0.000989394\n",
      "[37]\ttrain-auc:0.861345+0.000514697\ttest-auc:0.860283+0.00100938\n",
      "[38]\ttrain-auc:0.861395+0.000494265\ttest-auc:0.860336+0.00101018\n",
      "[39]\ttrain-auc:0.861518+0.000434605\ttest-auc:0.860465+0.000970675\n",
      "[40]\ttrain-auc:0.861631+0.000407349\ttest-auc:0.860576+0.000948594\n",
      "[41]\ttrain-auc:0.861617+0.000412893\ttest-auc:0.860552+0.000973703\n",
      "[42]\ttrain-auc:0.861657+0.000428778\ttest-auc:0.860596+0.0010588\n",
      "[43]\ttrain-auc:0.861705+0.000413473\ttest-auc:0.860653+0.00109579\n",
      "[44]\ttrain-auc:0.86175+0.000391139\ttest-auc:0.860717+0.00115559\n",
      "[45]\ttrain-auc:0.861779+0.000303362\ttest-auc:0.860743+0.001165\n",
      "[46]\ttrain-auc:0.861799+0.000293058\ttest-auc:0.860768+0.00118432\n",
      "[47]\ttrain-auc:0.861843+0.000282522\ttest-auc:0.860828+0.00124003\n",
      "[48]\ttrain-auc:0.861897+0.000254267\ttest-auc:0.86088+0.00118455\n",
      "[49]\ttrain-auc:0.861896+0.000318574\ttest-auc:0.860869+0.00116352\n",
      "[50]\ttrain-auc:0.861885+0.000331486\ttest-auc:0.860853+0.00118352\n",
      "[51]\ttrain-auc:0.861899+0.000342423\ttest-auc:0.860853+0.00119751\n",
      "[52]\ttrain-auc:0.861987+0.000369233\ttest-auc:0.860948+0.00116875\n",
      "[53]\ttrain-auc:0.861997+0.000374559\ttest-auc:0.860952+0.00117572\n",
      "[54]\ttrain-auc:0.862086+0.000380304\ttest-auc:0.861035+0.00120926\n",
      "[55]\ttrain-auc:0.862111+0.000347671\ttest-auc:0.861067+0.00120394\n",
      "[56]\ttrain-auc:0.862134+0.000392737\ttest-auc:0.861085+0.00122446\n",
      "[57]\ttrain-auc:0.862163+0.000363095\ttest-auc:0.861095+0.0011913\n",
      "[58]\ttrain-auc:0.862187+0.000334697\ttest-auc:0.861111+0.00120567\n",
      "[59]\ttrain-auc:0.862274+0.000366527\ttest-auc:0.861197+0.0011816\n",
      "[60]\ttrain-auc:0.862323+0.000353373\ttest-auc:0.861248+0.00117497\n",
      "[61]\ttrain-auc:0.86234+0.000342451\ttest-auc:0.861272+0.00117538\n",
      "[62]\ttrain-auc:0.86234+0.000375533\ttest-auc:0.861269+0.00117282\n",
      "[63]\ttrain-auc:0.862389+0.000365824\ttest-auc:0.861318+0.00120614\n",
      "[64]\ttrain-auc:0.862389+0.000399422\ttest-auc:0.861314+0.00120389\n",
      "[65]\ttrain-auc:0.862424+0.000383529\ttest-auc:0.861345+0.00120215\n",
      "[66]\ttrain-auc:0.86249+0.000394877\ttest-auc:0.86141+0.00116243\n",
      "[67]\ttrain-auc:0.862503+0.000369952\ttest-auc:0.86142+0.00114432\n",
      "[68]\ttrain-auc:0.862565+0.000336806\ttest-auc:0.861485+0.00112037\n",
      "[69]\ttrain-auc:0.862641+0.000359595\ttest-auc:0.861564+0.00112328\n",
      "[70]\ttrain-auc:0.862688+0.000374772\ttest-auc:0.861609+0.00110244\n",
      "[71]\ttrain-auc:0.862706+0.000344253\ttest-auc:0.861616+0.0010886\n",
      "[72]\ttrain-auc:0.862715+0.000348357\ttest-auc:0.861617+0.00110486\n",
      "[73]\ttrain-auc:0.862734+0.00037509\ttest-auc:0.861632+0.00111946\n",
      "[74]\ttrain-auc:0.862764+0.000367753\ttest-auc:0.861659+0.00111534\n",
      "[75]\ttrain-auc:0.862793+0.000365773\ttest-auc:0.861684+0.00114314\n",
      "[76]\ttrain-auc:0.862835+0.000331627\ttest-auc:0.861725+0.00114385\n",
      "[77]\ttrain-auc:0.862878+0.000323483\ttest-auc:0.861775+0.00117763\n",
      "[78]\ttrain-auc:0.862937+0.000326993\ttest-auc:0.861826+0.00115235\n",
      "[79]\ttrain-auc:0.86297+0.000308434\ttest-auc:0.861859+0.00116277\n",
      "[80]\ttrain-auc:0.86302+0.000316582\ttest-auc:0.861907+0.00114104\n",
      "[81]\ttrain-auc:0.863056+0.000355701\ttest-auc:0.861935+0.00111661\n",
      "[82]\ttrain-auc:0.863083+0.000388717\ttest-auc:0.861955+0.00108888\n",
      "[83]\ttrain-auc:0.863127+0.000365116\ttest-auc:0.862004+0.00111901\n",
      "[84]\ttrain-auc:0.863162+0.000341831\ttest-auc:0.862042+0.00113999\n",
      "[85]\ttrain-auc:0.863179+0.000330613\ttest-auc:0.862061+0.0011485\n",
      "[86]\ttrain-auc:0.86321+0.000333253\ttest-auc:0.862088+0.00114217\n",
      "[87]\ttrain-auc:0.863261+0.000352508\ttest-auc:0.862144+0.00114449\n",
      "[88]\ttrain-auc:0.86328+0.000372173\ttest-auc:0.86216+0.00113534\n",
      "[89]\ttrain-auc:0.863335+0.000364846\ttest-auc:0.862204+0.00114516\n",
      "[90]\ttrain-auc:0.863372+0.000327781\ttest-auc:0.86224+0.00114817\n",
      "[91]\ttrain-auc:0.863381+0.000326299\ttest-auc:0.862242+0.00115695\n",
      "[92]\ttrain-auc:0.863404+0.000352814\ttest-auc:0.86226+0.00113222\n",
      "[93]\ttrain-auc:0.863436+0.000342884\ttest-auc:0.86229+0.00114297\n",
      "[94]\ttrain-auc:0.86347+0.000321755\ttest-auc:0.862325+0.00115222\n",
      "[95]\ttrain-auc:0.863504+0.000333867\ttest-auc:0.862357+0.00112944\n",
      "[96]\ttrain-auc:0.863523+0.000361624\ttest-auc:0.862376+0.00111194\n",
      "[97]\ttrain-auc:0.863545+0.00038313\ttest-auc:0.862389+0.00110799\n",
      "[98]\ttrain-auc:0.863567+0.000372981\ttest-auc:0.862409+0.00111097\n",
      "[99]\ttrain-auc:0.8636+0.000351185\ttest-auc:0.862444+0.0011076\n",
      "[100]\ttrain-auc:0.86361+0.00035642\ttest-auc:0.862449+0.0011122\n",
      "[101]\ttrain-auc:0.86364+0.000368264\ttest-auc:0.862477+0.00109391\n",
      "[102]\ttrain-auc:0.863665+0.000348843\ttest-auc:0.862505+0.00109101\n",
      "[103]\ttrain-auc:0.863688+0.00033803\ttest-auc:0.86253+0.0011043\n",
      "[104]\ttrain-auc:0.863708+0.000338395\ttest-auc:0.862545+0.00112245\n",
      "[105]\ttrain-auc:0.863746+0.000333136\ttest-auc:0.86258+0.00110651\n",
      "[106]\ttrain-auc:0.863753+0.000335585\ttest-auc:0.862586+0.00110288\n",
      "[107]\ttrain-auc:0.863778+0.000341401\ttest-auc:0.862611+0.0010894\n",
      "[108]\ttrain-auc:0.863783+0.000352747\ttest-auc:0.862611+0.0010826\n",
      "[109]\ttrain-auc:0.86379+0.000352332\ttest-auc:0.862614+0.00108035\n",
      "[110]\ttrain-auc:0.863831+0.000322495\ttest-auc:0.862653+0.00108489\n",
      "[111]\ttrain-auc:0.863864+0.000319278\ttest-auc:0.862683+0.00107508\n",
      "[112]\ttrain-auc:0.863928+0.000303758\ttest-auc:0.862743+0.0010811\n",
      "[113]\ttrain-auc:0.863929+0.000302075\ttest-auc:0.862741+0.00108322\n",
      "[114]\ttrain-auc:0.863967+0.000304237\ttest-auc:0.862779+0.00107043\n",
      "[115]\ttrain-auc:0.863986+0.000289888\ttest-auc:0.862798+0.00107032\n",
      "[116]\ttrain-auc:0.864+0.000284434\ttest-auc:0.862812+0.00106884\n",
      "[117]\ttrain-auc:0.864018+0.000277386\ttest-auc:0.862826+0.00106708\n",
      "[118]\ttrain-auc:0.864031+0.000276201\ttest-auc:0.862829+0.00106866\n",
      "[119]\ttrain-auc:0.864062+0.000251993\ttest-auc:0.862862+0.00107894\n",
      "[120]\ttrain-auc:0.864116+0.000256391\ttest-auc:0.862913+0.00108351\n",
      "[121]\ttrain-auc:0.864146+0.000247933\ttest-auc:0.862942+0.00110173\n",
      "[122]\ttrain-auc:0.864184+0.000256125\ttest-auc:0.862982+0.00110042\n",
      "[123]\ttrain-auc:0.864227+0.000253775\ttest-auc:0.863024+0.00111236\n"
     ]
    },
    {
     "name": "stdout",
     "output_type": "stream",
     "text": [
      "[124]\ttrain-auc:0.864249+0.000251529\ttest-auc:0.863044+0.00111514\n",
      "[125]\ttrain-auc:0.864277+0.000245081\ttest-auc:0.863072+0.0011302\n",
      "[126]\ttrain-auc:0.864294+0.000240642\ttest-auc:0.863087+0.00112867\n",
      "[127]\ttrain-auc:0.864325+0.000248597\ttest-auc:0.863111+0.00111501\n",
      "[128]\ttrain-auc:0.864372+0.000249164\ttest-auc:0.863158+0.00111272\n",
      "[129]\ttrain-auc:0.864407+0.0002251\ttest-auc:0.86319+0.00111961\n",
      "[130]\ttrain-auc:0.864442+0.000228888\ttest-auc:0.863226+0.00112817\n",
      "[131]\ttrain-auc:0.864478+0.000233829\ttest-auc:0.863257+0.00112911\n",
      "[132]\ttrain-auc:0.864505+0.000213558\ttest-auc:0.86328+0.0011338\n",
      "[133]\ttrain-auc:0.864543+0.000226188\ttest-auc:0.863314+0.00111861\n",
      "[134]\ttrain-auc:0.864581+0.000218956\ttest-auc:0.863346+0.00112139\n",
      "[135]\ttrain-auc:0.864611+0.000211591\ttest-auc:0.863374+0.0011279\n",
      "[136]\ttrain-auc:0.864629+0.000217575\ttest-auc:0.863388+0.00112135\n",
      "[137]\ttrain-auc:0.864662+0.000207815\ttest-auc:0.863419+0.00112877\n",
      "[138]\ttrain-auc:0.86468+0.000209993\ttest-auc:0.863437+0.00112131\n"
     ]
    }
   ],
   "source": [
    "%%time\n",
    "\n",
    "# EVALUATE LEARNING RATE AND MAX_DEPTH TOGETHER\n",
    "# For learning_rate=1 & max_depth=6 --> optimal number of trees=30\n",
    "boosting_params['learning_rate']= .01\n",
    "boosting_params['max_depth']= 6\n",
    "boosting_params['nthread']=-1\n",
    "boosting_params['num_boost_round']= 500\n",
    "boosting_params['verbose']=2\n",
    "# watchlist = [(partitions['ddev'], 'dev'), (partitions['dtrain'], 'train')]\n",
    "# boosting_params['evals']=watchlist\n",
    "\n",
    "print_parameters('Boosting Params', boosting_params)\n",
    "\n",
    "cvresult = xgb.cv(boosting_params, partitions['dtrain'], num_boost_round=boosting_params['num_boost_round'], \\\n",
    "                 nfold=3, early_stopping_rounds=10, verbose_eval=True, \\\n",
    "                 seed=7, metrics='auc')# metrics=['auc','mae','map']\n",
    "\n",
    "best_n_estimators = cvresult.shape[0]\n",
    "print ('\\nThe optimal number of trees is {}\\n'.format(best_n_estimators))\n",
    "# optimal trees was 52 with learning rate of 1 and early_stopping=10"
   ]
  },
  {
   "cell_type": "code",
   "execution_count": 157,
   "metadata": {},
   "outputs": [],
   "source": [
    "best_idx = np.where(cvresult.iloc[:,2]==cvresult.iloc[:,2].max())[0][0]\n",
    "print ('Best AUC in test set: {:0.4f} with {} trees or n_estimators'.format(cvresult.iloc[best_idx,2], best_idx+1))"
   ]
  },
  {
   "cell_type": "markdown",
   "metadata": {},
   "source": [
    "### Reset the number of Estimators (Trees) to match CV outcome"
   ]
  },
  {
   "cell_type": "code",
   "execution_count": null,
   "metadata": {},
   "outputs": [],
   "source": [
    "boosting_params['num_boost_round']=best_n_estimators\n",
    "gs_params = get_gs_params(boosting_params)\n",
    "gs_params['num_boost_round']=best_n_estimators\n",
    "\n",
    "print (boosting_params)\n",
    "today = dt.date.today()\n",
    "print (today)"
   ]
  },
  {
   "cell_type": "markdown",
   "metadata": {},
   "source": [
    "# Grid Search\n",
    "<p> -- Still having problems with this breaking, multi-threading not working correctly. Needs more debugging at fit(). Research backends"
   ]
  },
  {
   "cell_type": "code",
   "execution_count": null,
   "metadata": {},
   "outputs": [],
   "source": [
    "# %%time\n",
    "\n",
    "param_test1 = {\n",
    " 'max_depth': list(np.arange(5, 8, 1)),\n",
    " 'min_child_weight': list(np.arange(1, 21, 10))#[ 1  6 11 16 21]\n",
    "}# 'alpha': [0, 1, 3]\n",
    "\n",
    "boosting_params['learning_rate']= .3\n",
    "boosting_params['num_boost_round']= 80\n",
    "boosting_params['pos_scale_weight']= get_balance_weight(partitions['y_train'])\n",
    "\n",
    "# Prints out in tmux terminal (not sure why...)\n",
    "gs_params = get_gs_params(boosting_params)\n",
    "\n",
    "print_parameters('Grid Search parameters', gs_params)\n",
    "print (param_test1)"
   ]
  },
  {
   "cell_type": "code",
   "execution_count": null,
   "metadata": {},
   "outputs": [],
   "source": [
    "%%time\n",
    "\n",
    "# # Send logging to a file\n",
    "today = dt.date.today()\n",
    "#sys.stdout = open('xgboost_output_{}.txt'.format(today), 'w')\n",
    "\n",
    "# May get an Unpickling Error/ Broken Process if using custom score with multiprocessing/n_jobs # scoring='roc_auc', \n",
    "gsearch1 = GridSearchCV(estimator = XGBClassifier(gs_params), \\\n",
    "                        param_grid = param_test1, \\\n",
    "                       verbose=3, \\\n",
    "                        n_jobs=1, iid=False, cv=3, refit=True)#return_train_score=True,"
   ]
  },
  {
   "cell_type": "code",
   "execution_count": null,
   "metadata": {},
   "outputs": [],
   "source": [
    "%env LOKY_PICKLER='cloudpickle' \n",
    "import multiprocessing\n",
    "#multiprocessing.set_start_method('forkserver', force=True)\n",
    "\n",
    "try:\n",
    "    multiprocessing.set_start_method('spawn')\n",
    "except RuntimeError:\n",
    "    pass"
   ]
  },
  {
   "cell_type": "code",
   "execution_count": null,
   "metadata": {},
   "outputs": [],
   "source": [
    "gsearch1.fit(partitions['X_train'], partitions['y_train'], eval_metric='auc', verbose=True, \\\n",
    "            eval_set=[(partitions['X_dev'], partitions['y_dev'])], early_stopping_rounds=10)\n",
    "# Logging output to file\n",
    "sys.stdout = sys.__stdout__\n",
    "\n",
    "# Note Excessive Memory usage may be occurring with n_jobs=-1. LokyBackend launches 48 concurrent workers. \n",
    "# Error: \"semaphore_tracker: process died unexpectedly\"\n",
    "# XGBoost documentation recommends to not use more threads than physical cores. (actually I found this not in the documentation itself, so not sure if this is true)\n",
    "# free -g --> 210GB\n",
    "# lscpu --> 12 cores, 2 threads per socket.  Try n_jobs=12. (this still crashes)"
   ]
  },
  {
   "cell_type": "code",
   "execution_count": null,
   "metadata": {},
   "outputs": [],
   "source": [
    "# PRINT BEST VALUES\n",
    "# Note: The best score from GridSearchCV is biased. :( If you gridsearch best params, you will overfit in terms of AUC\n",
    "print ('Best Hyperparameters: ', gsearch1.best_params_)\n",
    "print ('Best Score: {:02f}'.format(gsearch1.best_score_))\n",
    "print ('Best Estimator: ',gsearch1.best_estimator_)"
   ]
  },
  {
   "cell_type": "markdown",
   "metadata": {},
   "source": [
    "### Reset Parameters to Best Values (from GridSearch)"
   ]
  },
  {
   "cell_type": "code",
   "execution_count": null,
   "metadata": {},
   "outputs": [],
   "source": [
    "new_params = list(gsearch1.best_params_.keys())\n",
    "for k, v in gsearch1.best_params_.items():\n",
    "    print (k,v)\n",
    "    boosting_params[k]=v  "
   ]
  },
  {
   "cell_type": "code",
   "execution_count": null,
   "metadata": {},
   "outputs": [],
   "source": [
    "print (boosting_params)\n",
    "print (DEFAULT_BOOSTING_PARAMS)"
   ]
  },
  {
   "cell_type": "code",
   "execution_count": null,
   "metadata": {},
   "outputs": [],
   "source": [
    "#pd.DataFrame(gsearch1.cv_results_).head(3)"
   ]
  },
  {
   "cell_type": "markdown",
   "metadata": {},
   "source": [
    "### Add Regularization"
   ]
  },
  {
   "cell_type": "code",
   "execution_count": null,
   "metadata": {},
   "outputs": [],
   "source": [
    "# boosting_params['alpha']=1\n",
    "# boosting_params['lambda']=10\n",
    "# print (boosting_params)"
   ]
  },
  {
   "cell_type": "markdown",
   "metadata": {},
   "source": [
    "# RUN FINAL MODEL"
   ]
  },
  {
   "cell_type": "code",
   "execution_count": null,
   "metadata": {},
   "outputs": [],
   "source": [
    "# Fit Model - evaluates in the test set\n",
    "boosting_params['learning_rate']= .03\n",
    "boosting_params['max_depth']=8\n",
    "boosting_params['nthread']=-1\n",
    "boosting_params['num_boost_round']= 500\n",
    "boosting_params['verbose']=2\n",
    "balance_classes(boosting_params, partitions)\n",
    "\n",
    "\n",
    "print ('Boosting Params...\\n')\n",
    "for k, p in boosting_params.items():\n",
    "    print (k,p)\n",
    "print ('\\n')\n",
    "\n",
    "# error readout corresponds to 1-accuracy\n",
    "model= fit_model(partitions['dtrain'], partitions['ddev'], boosting_params)\n",
    "print ('\\n', boosting_params)"
   ]
  },
  {
   "cell_type": "code",
   "execution_count": null,
   "metadata": {},
   "outputs": [],
   "source": [
    "# Make Predictions in the TEST set\n",
    "y_pred, y_proba = predict(model, partitions['dtest'])\n",
    "accuracy, roc_auc = evaluate_model(partitions['y_test'], y_pred, y_proba)\n",
    "\n",
    "# Plot Confusion Matrix\n",
    "target_names = ['bac <.08', 'bac >=.08']\n",
    "full_report(figure_params, partitions['y_test'], y_pred, target_names)"
   ]
  },
  {
   "cell_type": "markdown",
   "metadata": {},
   "source": [
    "### ROC-AUC\n",
    "--- https://www.kaggle.com/jeremy123w/xgboost-with-roc-curve\n",
    "--- # # http://scikit-learn.org/stable/auto_examples/model_selection/plot_roc_crossval.html#sphx-glr-auto-examples-model-selection-plot-roc-crossval-py"
   ]
  },
  {
   "cell_type": "code",
   "execution_count": null,
   "metadata": {},
   "outputs": [],
   "source": [
    "plot_ROC(partitions['y_test'], y_proba)"
   ]
  },
  {
   "cell_type": "markdown",
   "metadata": {},
   "source": [
    "## Feature Importances"
   ]
  },
  {
   "cell_type": "code",
   "execution_count": null,
   "metadata": {},
   "outputs": [],
   "source": [
    "graph_importances(model) "
   ]
  },
  {
   "cell_type": "markdown",
   "metadata": {},
   "source": [
    "# Save MODEL object - pickle"
   ]
  },
  {
   "cell_type": "code",
   "execution_count": null,
   "metadata": {},
   "outputs": [],
   "source": [
    "# import pickle\n",
    "# pickle.dump(model, open(\"bac_final.pickle.dat\", \"wb\"))"
   ]
  },
  {
   "cell_type": "code",
   "execution_count": null,
   "metadata": {},
   "outputs": [],
   "source": [
    "print (DEFAULT_BOOSTING_PARAMS)\n",
    "print (boosting_params)"
   ]
  },
  {
   "cell_type": "code",
   "execution_count": null,
   "metadata": {},
   "outputs": [],
   "source": [
    "# ### Try to save to Kirstin's local\n",
    "\n",
    "# LOCAL_FIGURE_FOLDER = '/Users/KAschbacher/Desktop/eheart/analysis/BAC/figures/server'\n",
    "# plt.savefig('/'.join([LOCAL_FIGURE_FOLDER,'feature_importance_{}.png'.format(TODAY)]), \\\n",
    "#             bbox_inches='tight')"
   ]
  }
 ],
 "metadata": {
  "kernelspec": {
   "display_name": "Python 3",
   "language": "python",
   "name": "python3"
  },
  "language_info": {
   "codemirror_mode": {
    "name": "ipython",
    "version": 3
   },
   "file_extension": ".py",
   "mimetype": "text/x-python",
   "name": "python",
   "nbconvert_exporter": "python",
   "pygments_lexer": "ipython3",
   "version": "3.6.8"
  }
 },
 "nbformat": 4,
 "nbformat_minor": 2
}
