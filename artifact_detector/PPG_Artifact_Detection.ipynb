{
 "cells": [
  {
   "cell_type": "markdown",
   "metadata": {},
   "source": [
    "## Objective:  Identify PPG waveforms with artifacts based on these labeled data\n",
    "-- Author:  Kirstin Aschbacher; Date:  April 2019"
   ]
  },
  {
   "cell_type": "markdown",
   "metadata": {},
   "source": [
    "### About the Data\n",
    "-- There are 1001 PPG waveforms, acquired from users of a commercially available App that uses the smartphone camers to acquire the PPG signals. Roughly 1 in 10 were hand-labeled as artifacts by visual inspection by a trained cardiologist (note: some signals labeled non-artifacts still have visual anomalies). The signals already underwent some preprocessing to eliminate baseline wander.\n",
    "-- The data are given in NPY arrays: (if you load it as data, then data[0] will give you the PPG examples)\n",
    "-- ''N' means normal - no artifact, 'H' means artifact\n",
    "### About the Request\n",
    "-- Find a heuristic or a *simple* model that uses FFT-derived frequency components to identify the artifacts\n",
    "-- The resultant solution will be subsequently applied to evaluate whether cleaning a large dataset improves the fit of a different model applied to that dataset.  In other words, it evaluates whether cleaning up noise improves that model's performance."
   ]
  },
  {
   "cell_type": "code",
   "execution_count": 1,
   "metadata": {},
   "outputs": [],
   "source": [
    "from __future__ import division, print_function\n",
    "import numpy as np\n",
    "import pandas as pd\n",
    "import datetime as dt\n",
    "import os\n",
    "import sys\n",
    "import logging\n",
    "import itertools\n",
    "import matplotlib.pyplot as plt\n",
    "import seaborn as sns\n",
    "\n",
    "np.set_printoptions(suppress=True, precision=6, linewidth=500)\n",
    "%matplotlib inline"
   ]
  },
  {
   "cell_type": "markdown",
   "metadata": {},
   "source": [
    "# Pipeline Overview"
   ]
  },
  {
   "cell_type": "code",
   "execution_count": 2,
   "metadata": {},
   "outputs": [],
   "source": [
    "# 0. Load data, visualize\n",
    "# 1. Make power spectra (PS) scores (using FFT)\n",
    "# 2. Visualize the differences in PS btw artifact vs non-artifact to provide intuition into discriminability\n",
    "# 3. Feature Engineering: create additional features representing combinations of PS\n",
    "# 4. Fit Logistic Regression Models, and select \"best model\" based on the single feature with maximal {recall, precision} in a hold-out test set\n",
    "# 5. Contrast whether a LogReg that uses lasso to select amongst multiple features can perform better"
   ]
  },
  {
   "cell_type": "markdown",
   "metadata": {},
   "source": [
    "### Load Data"
   ]
  },
  {
   "cell_type": "code",
   "execution_count": 3,
   "metadata": {},
   "outputs": [
    {
     "name": "stdout",
     "output_type": "stream",
     "text": [
      "(1001,) <class 'numpy.ndarray'> (2048,) <class 'numpy.ndarray'>\n",
      "CPU times: user 61.3 ms, sys: 29 ms, total: 90.3 ms\n",
      "Wall time: 109 ms\n"
     ]
    }
   ],
   "source": [
    "%%time\n",
    "DATA_FILE = '../data/ppg_artifacts_labelled.npy'# Location of data\n",
    "data = np.load(DATA_FILE, encoding='bytes')\n",
    "print (data[0].shape, type(data[0]), data[0][0].shape, type(data[0][0]))"
   ]
  },
  {
   "cell_type": "markdown",
   "metadata": {},
   "source": [
    "### Plot PPG data from one randomly selected user"
   ]
  },
  {
   "cell_type": "code",
   "execution_count": 4,
   "metadata": {},
   "outputs": [],
   "source": [
    "# myid = np.random.choice( np.arange(len(data[0])) )# randomly select a user\n",
    "# plt.plot(data[0][myid])\n",
    "# print (myid, data[1][myid], data[0][myid].shape)"
   ]
  },
  {
   "cell_type": "markdown",
   "metadata": {},
   "source": [
    "<h3> Example PPG waveform</h3>\n",
    "<img src=\"example_nonArtifact_PPG.jpeg\">"
   ]
  },
  {
   "cell_type": "markdown",
   "metadata": {},
   "source": [
    "### 1. Define function to make Power Spectra Scores"
   ]
  },
  {
   "cell_type": "code",
   "execution_count": 5,
   "metadata": {},
   "outputs": [],
   "source": [
    "# This function calculates the power spectrum of an input signal  \n",
    "# It returns the first 9 frequency components normalized to the fundemental frequency (total n_components=10)\n",
    "# Thanks to my collaborator Zahra Karbaschi, PhD for consultation on the fft portion of this function\n",
    "\n",
    "def get_power_spectrum(signal, sampling_freq, n_components):\n",
    "    \n",
    "    # Instantiate empty vectors\n",
    "    freq_vec = np.zeros(n_components) #vector of freq ratios\n",
    "    tmpvec = np.zeros((1, len(freq_vec)))\n",
    "    \n",
    "    # Define mathematical quantities\n",
    "    assert sampling_freq>0 \n",
    "    cycle_dur = 1.0/sampling_freq # Duration of one cycle in seconds. For example, 1/120Hz --> 0.00833 sec\n",
    "    n_samples = signal.shape[0] # Number of samples in time domain\n",
    "    signal_dur = n_samples*cycle_dur# Length of signal in sec\n",
    "    pad = 0.5 #we \"integrate\" in the frequency domain around peaks by +/- 0.5 Hz\n",
    "    epsilon = int(pad*signal_dur) #epsilon as a number of indices away from 1 Hz\n",
    "    \n",
    "    # Compute Power of spectral components; determine HR index\n",
    "    ps = abs(np.fft.fft(signal))**2 #power spec\n",
    "    heartRate_i = np.argmax(ps[epsilon:int(n_samples/2)]) + epsilon #index of the max peak, the HR (@ 1Hz)\n",
    "\n",
    "    for i in range(1, n_components+1): #for each peak\n",
    "        for j in range((i*heartRate_i)-epsilon, (i*heartRate_i)+epsilon): #integrate from over the peaks within +/- 0.5 Hz \n",
    "            freq_vec[i-1] += ps[j]\n",
    "            \n",
    "    assert freq_vec[0]!=0# Prevent divide by zero error. Although, first peak corresponds to HR, which should not be 0\n",
    "    freq_vec /= freq_vec[0] #normalize all spectral components based on the first peak\n",
    "    tmpvec[0] = freq_vec\n",
    "    \n",
    "    return tmpvec"
   ]
  },
  {
   "cell_type": "markdown",
   "metadata": {},
   "source": [
    "### Implement Function"
   ]
  },
  {
   "cell_type": "code",
   "execution_count": 6,
   "metadata": {},
   "outputs": [],
   "source": [
    "# Initialize Variables\n",
    "n_components = 10# Number of power spectral components to extract\n",
    "sampling_freq = 120# Sampling frequency of the signals in Hz\n",
    "\n",
    "n_signals = data[0].shape[0]\n",
    "power_spectra = np.zeros((n_signals, n_components))# shape=(n_signals, n_components)\n",
    "signal = np.zeros((data[0][0].shape[0],))# a vector the length of one signal\n",
    "\n",
    "# Loop over each user's data\n",
    "for id in range(0, n_signals):\n",
    "    signal = data[0][id]# np.array obj, shape (2048,)\n",
    "    if signal.shape[0]>0:\n",
    "        power_spectra[id] = get_power_spectrum(signal, sampling_freq, n_components)"
   ]
  },
  {
   "cell_type": "markdown",
   "metadata": {},
   "source": [
    "### 2. Visualize how Artifacts and Non-Artifacts differ on the Power Spectral Components"
   ]
  },
  {
   "cell_type": "code",
   "execution_count": 33,
   "metadata": {},
   "outputs": [],
   "source": [
    "def get_group_labels(data):\n",
    "    # Make a new column vector of true labels that is numeric (0=non-artifact, 1=artifact)\n",
    "    # ''N' means normal - no artifact, 'H' means artifact; \n",
    "    temp = [int(label[0].decode()=='H') for label in data[1]]\n",
    "    labels = np.asarray(temp)\n",
    "    return labels"
   ]
  },
  {
   "cell_type": "code",
   "execution_count": 34,
   "metadata": {},
   "outputs": [],
   "source": [
    "def get_indices(artifacts):\n",
    "    # Find indices of the artifacts\n",
    "    print ('Total number of artifacts: {} and non-artifacts: {}'.format (np.sum(artifacts), len(artifacts)-np.sum(artifacts)))\n",
    "    art_idx = list(np.where(artifacts==1))[0]\n",
    "    ctr_idx = [i for i in range(0, artifacts.shape[0]) if i not in art_idx]\n",
    "    return [art_idx, ctr_idx]"
   ]
  },
  {
   "cell_type": "code",
   "execution_count": 30,
   "metadata": {},
   "outputs": [],
   "source": [
    "def group_stats(ps, groups):\n",
    "    # Find the avg ps scores for artifacts and non-artifacts. These SEM are not pooled, they are by group\n",
    "    assert (len(groups[0])>0) & (len(groups[1])>0)# Prevent divide by zero\n",
    "    g0_mean = np.mean(ps[groups[0],:], axis=0)\n",
    "    g1_mean = np.mean(ps[groups[1],:], axis=0)\n",
    "    g0_sem = np.std(ps[groups[0],:], axis=0) / np.sqrt( len(groups[0]) )\n",
    "    g1_sem = np.std(ps[groups[1],:], axis=0) / np.sqrt( len(groups[1]) )\n",
    "    return [g0_mean, g1_mean], [g0_sem, g1_sem]"
   ]
  },
  {
   "cell_type": "code",
   "execution_count": 37,
   "metadata": {},
   "outputs": [],
   "source": [
    "def plot_groups(means, sems):\n",
    "    # Plot the average scores by artifact group, to see whether there's an obvious difference\n",
    "    art_m, ctr_m = means\n",
    "    art_err, ctr_err = sems\n",
    "    \n",
    "    plt.errorbar(x=np.arange(len(art_m)), y=art_m, yerr=art_err, color='r')\n",
    "    plt.errorbar(x=np.arange(len(ctr_m)), y=ctr_m, yerr=ctr_err, color='b')\n",
    "    \n",
    "    plt.xlabel('Spectral Component')\n",
    "    plt.ylabel('Normalized Power')\n",
    "    plt.legend(['Artifacts','Non-artifacts'])\n",
    "    plt.title('Normalized PPG Power Spectra (FFT) by Artifact Group', fontsize=14)\n",
    "    plt.show()"
   ]
  },
  {
   "cell_type": "markdown",
   "metadata": {},
   "source": [
    "### Implement Functions Above\n",
    "-- Note: From this graph, we observe that the two groups ought to be discriminable using standard statistics\n",
    "-- because, for the first several components, the error bars do not come close to overlapping\n",
    "-- We also observe that components 1-5 are likely of greatest value for discimination"
   ]
  },
  {
   "cell_type": "code",
   "execution_count": 38,
   "metadata": {},
   "outputs": [
    {
     "name": "stdout",
     "output_type": "stream",
     "text": [
      "Total number of artifacts: 98 and non-artifacts: 903\n"
     ]
    },
    {
     "data": {
      "image/png": "[encoded data removed]",
      "text/plain": [
       "<Figure size 432x288 with 1 Axes>"
      ]
     },
     "metadata": {
      "needs_background": "light"
     },
     "output_type": "display_data"
    }
   ],
   "source": [
    "labels = get_group_labels(data)\n",
    "groups = get_indices(labels)# returns a list of indices for artifacts and non-art: [art_idx, ctr_idx]\n",
    "means, sems = group_stats(power_spectra, groups)# returns the means and sems on ps for the groups\n",
    "\n",
    "art_means = means[0]\n",
    "art_sems = sems[0]\n",
    "\n",
    "plot_groups(means, sems)"
   ]
  },
  {
   "cell_type": "markdown",
   "metadata": {},
   "source": [
    "### 4. Create the Feature Matrix\n",
    "<p>A. Get all combinations of power spectra indices</p>\n",
    "<p>B. Compute sums across each combination</p>\n",
    "<p>C. Create modifications of sums --> any, sqrt, **2</p>\n",
    "<p>D. Stack all the features into one master matrix</p>"
   ]
  },
  {
   "cell_type": "code",
   "execution_count": 13,
   "metadata": {},
   "outputs": [],
   "source": [
    "# Given a set of power spectra (excluding the 1st or 0-indexed ps, to which others are normalized...)\n",
    "# Generate all the possible combinations of the indices for those ps, and sum over those\n",
    "# For example, given 4 ps... we would find 4C2, 4C3, and 4C4 total combinations."
   ]
  },
  {
   "cell_type": "code",
   "execution_count": 14,
   "metadata": {},
   "outputs": [],
   "source": [
    "def get_combinations(arr):\n",
    "    n = arr.shape[1]# Number of power spectra that we applied thresholds to, and want to include in this exercise\n",
    "    idx_list = np.arange(0, n)# A list of the indices we can choose from\n",
    "    idx_comb = []# A list of all the combinations of indices we will use to make sums\n",
    "\n",
    "    # First build idx_comb, by looping over the k in nCk (i.e., the number of items we choose)\n",
    "    for k in range(2, n+1):\n",
    "        temp = list(itertools.combinations(idx_list, k))\n",
    "        idx_comb.extend(temp)\n",
    "    return idx_comb"
   ]
  },
  {
   "cell_type": "code",
   "execution_count": 15,
   "metadata": {},
   "outputs": [],
   "source": [
    "def get_sums(arr, idx_comb):\n",
    "    # Create sums using combination list\n",
    "    sums = np.zeros((arr.shape[0], len(idx_comb)))\n",
    "    # Loop over combinations and compute sum\n",
    "    for i, c in enumerate(idx_comb):\n",
    "        sums[:, i] = arr[:, list(c)].sum(axis=1)\n",
    "    return sums"
   ]
  },
  {
   "cell_type": "code",
   "execution_count": 16,
   "metadata": {},
   "outputs": [],
   "source": [
    "def stack_sums(sums):\n",
    "    stack = {'sums': sums}\n",
    "    # Create any, sqrt, sq\n",
    "    stack['anyy'] = (sums>0).astype(int)\n",
    "    stack['sqrtt'] = np.sqrt(sums)# should be no negative values in sums...\n",
    "    stack['sq'] = sums**2\n",
    "    return stack"
   ]
  },
  {
   "cell_type": "code",
   "execution_count": 17,
   "metadata": {},
   "outputs": [],
   "source": [
    "def make_feature_arr(arr, stack):\n",
    "    \n",
    "    # Set Variables\n",
    "    f0 = arr.shape[1]# number of power spectra in arr\n",
    "    f1 = stack['sums'].shape[1]# number of combinations\n",
    "    print ( 'Number of features in original array: {}'.format(f0) )\n",
    "    stacks = ['sums', 'anyy', 'sqrtt', 'sq']\n",
    "    features = np.zeros( (stack['sums'].shape[0], f0 + (4*f1)) )\n",
    "    \n",
    "    # Stack up final features array\n",
    "    features[:, :f0] = arr\n",
    "    for i in range(0,4):\n",
    "        features[:, f0+(f1*i): f0+(f1*(i+1))] = stack[stacks[i]]\n",
    "    print ( 'Number of features in final features array: {}, after adding 4*n_comb: sums, any, sqrt, sq'.format(features.shape[1]) )\n",
    "    return features"
   ]
  },
  {
   "cell_type": "markdown",
   "metadata": {},
   "source": [
    "#### Get the feature matrix --> apply functions above"
   ]
  },
  {
   "cell_type": "code",
   "execution_count": 18,
   "metadata": {},
   "outputs": [
    {
     "name": "stdout",
     "output_type": "stream",
     "text": [
      "Number of combinations: 57\n",
      "Number of features in original array: 6\n",
      "Number of features in final features array: 234, after adding 4*n_comb: sums, any, sqrt, sq\n",
      "(1001, 234)\n",
      "(1001, 57) (1001, 57)\n"
     ]
    }
   ],
   "source": [
    "def get_features(arr):\n",
    "\n",
    "    # Get combination list\n",
    "    idx_comb = get_combinations(arr)\n",
    "    print ('Number of combinations: {}'.format(len(idx_comb)))\n",
    "\n",
    "    # Create sums using combination list\n",
    "    sums = get_sums(arr, idx_comb)\n",
    "    stack = stack_sums(sums)\n",
    "\n",
    "    # Stack up final features array\n",
    "    return make_feature_arr(arr, stack), idx_comb, stack\n",
    "\n",
    "ps = power_spectra[:, 1:7]# Just use a subset of the power_spectra\n",
    "features, idx_comb, stack = get_features(ps)\n",
    "total_cols = ps.shape[1]+4*len(idx_comb)# How total n_features is derived\n",
    "assert total_cols==features.shape[1]\n",
    "\n",
    "print (features.shape)\n",
    "print (stack['sums'].shape, stack['sqrtt'].shape)"
   ]
  },
  {
   "cell_type": "markdown",
   "metadata": {},
   "source": [
    "### How Correlated are the features?"
   ]
  },
  {
   "cell_type": "code",
   "execution_count": 19,
   "metadata": {},
   "outputs": [
    {
     "data": {
      "text/plain": [
       "<matplotlib.axes._subplots.AxesSubplot at 0x1a1afa4d30>"
      ]
     },
     "execution_count": 19,
     "metadata": {},
     "output_type": "execute_result"
    },
    {
     "data": {
      "image/png": "[encoded data removed]",
      "text/plain": [
       "<Figure size 432x288 with 2 Axes>"
      ]
     },
     "metadata": {
      "needs_background": "light"
     },
     "output_type": "display_data"
    }
   ],
   "source": [
    "corr = pd.DataFrame(features[:,:ps.shape[1]]).corr()# Just illustrate the original thresholded PS\n",
    "sns.heatmap(corr, annot=True)"
   ]
  },
  {
   "cell_type": "markdown",
   "metadata": {},
   "source": [
    "### 5. Logistic Regression Model"
   ]
  },
  {
   "cell_type": "code",
   "execution_count": 20,
   "metadata": {},
   "outputs": [],
   "source": [
    "from sklearn.linear_model import LogisticRegression\n",
    "from sklearn.model_selection import train_test_split\n",
    "from sklearn import metrics\n",
    "import warnings\n",
    "warnings.filterwarnings(\"ignore\")"
   ]
  },
  {
   "cell_type": "code",
   "execution_count": 21,
   "metadata": {},
   "outputs": [],
   "source": [
    "def fit_model(X_train, X_test, y_train, y_test):\n",
    "    reg = LogisticRegression(fit_intercept=True, class_weight='balanced', solver='lbfgs', \\\n",
    "                         random_state=7, verbose=0).fit(X_train, y_train) \n",
    "    return reg"
   ]
  },
  {
   "cell_type": "code",
   "execution_count": 22,
   "metadata": {},
   "outputs": [],
   "source": [
    "def summarize(scores):\n",
    "    print('Test set Accuracy: {:.02f}%, Recall: {:.02f}%, Precision: {:.02f}%, F1: {:.02f}%\\\n",
    "        '.format(100*scores[0], 100*scores[1], 100*scores[2], 100*scores[3]))"
   ]
  },
  {
   "cell_type": "code",
   "execution_count": 23,
   "metadata": {},
   "outputs": [],
   "source": [
    "def confusion_matrix(reg, X_test, y_test):\n",
    "    # Predictions -->Confusion Matrix \n",
    "    y_pred = reg.predict(X_test)\n",
    "    cm = metrics.confusion_matrix(y_test, y_pred)# true, predicted\n",
    "    \n",
    "    # Evaluate Model\n",
    "    accuracy = reg.score(X_test, y_test)\n",
    "    recall = cm[1][1]/np.sum(cm[1,:])\n",
    "    precision = cm[1][1]/np.sum(cm[:,1])\n",
    "    F1 = 2 * (precision * recall) / (precision + recall)\n",
    "    scores = [accuracy, recall, precision, F1]\n",
    "    #summarize(scores)\n",
    "    return cm, scores"
   ]
  },
  {
   "cell_type": "code",
   "execution_count": 24,
   "metadata": {},
   "outputs": [],
   "source": [
    "def plot_cm(cm, scores):\n",
    "    plt.figure(figsize=(4,4))\n",
    "    sns.heatmap(cm, annot=True, fmt=\".2f\", linewidths=.5, square = True, cmap = 'Blues_r');\n",
    "    plt.ylabel('Actual label')\n",
    "    plt.xlabel('Predicted label') \n",
    "    plt.title('Accuracy Score: {:2f}%'.format(100*scores[0]), size = 13);\n",
    "    plt.show()"
   ]
  },
  {
   "cell_type": "code",
   "execution_count": 25,
   "metadata": {},
   "outputs": [],
   "source": [
    "def plot_ROC(fpr, tpr):\n",
    "    plt.title('Receiver Operating Characteristic', fontsize=16)\n",
    "    plt.plot(fpr, tpr, 'b', label = 'AUC = %0.2f' % roc_auc)\n",
    "    plt.legend(loc = 'lower right')\n",
    "    plt.plot([0, 1], [0, 1],'r--')\n",
    "    plt.xlim([0, 1])\n",
    "    plt.ylim([0, 1])\n",
    "    plt.ylabel('True Positive Rate')\n",
    "    plt.xlabel('False Positive Rate')\n",
    "    plt.legend(fontsize=14)\n",
    "    plt.show()"
   ]
  },
  {
   "cell_type": "markdown",
   "metadata": {},
   "source": [
    "### 5. Fit Many Models: Single factor Logistsic Regression\n",
    "If we manually look at these different single predictors, and judge based on optimizing recall...\n",
    "The best recall is obtained with the first sum (i.e., the first two components are both above the threshold)"
   ]
  },
  {
   "cell_type": "code",
   "execution_count": 26,
   "metadata": {},
   "outputs": [
    {
     "name": "stdout",
     "output_type": "stream",
     "text": [
      "Shape of results:  (234, 10)\n"
     ]
    },
    {
     "data": {
      "text/html": [
       "<div>\n",
       "<style scoped>\n",
       "    .dataframe tbody tr th:only-of-type {\n",
       "        vertical-align: middle;\n",
       "    }\n",
       "\n",
       "    .dataframe tbody tr th {\n",
       "        vertical-align: top;\n",
       "    }\n",
       "\n",
       "    .dataframe thead th {\n",
       "        text-align: right;\n",
       "    }\n",
       "</style>\n",
       "<table border=\"1\" class=\"dataframe\">\n",
       "  <thead>\n",
       "    <tr style=\"text-align: right;\">\n",
       "      <th></th>\n",
       "      <th>combination</th>\n",
       "      <th>stack_type</th>\n",
       "      <th>accuracy</th>\n",
       "      <th>recall</th>\n",
       "      <th>precision</th>\n",
       "      <th>F1</th>\n",
       "      <th>tn</th>\n",
       "      <th>fn</th>\n",
       "      <th>fp</th>\n",
       "      <th>tp</th>\n",
       "    </tr>\n",
       "  </thead>\n",
       "  <tbody>\n",
       "    <tr>\n",
       "      <th>0</th>\n",
       "      <td>0</td>\n",
       "      <td>single</td>\n",
       "      <td>0.806647</td>\n",
       "      <td>0.454545</td>\n",
       "      <td>0.245902</td>\n",
       "      <td>0.319149</td>\n",
       "      <td>252</td>\n",
       "      <td>18</td>\n",
       "      <td>46</td>\n",
       "      <td>15</td>\n",
       "    </tr>\n",
       "    <tr>\n",
       "      <th>1</th>\n",
       "      <td>1</td>\n",
       "      <td>single</td>\n",
       "      <td>0.858006</td>\n",
       "      <td>0.484848</td>\n",
       "      <td>0.347826</td>\n",
       "      <td>0.405063</td>\n",
       "      <td>268</td>\n",
       "      <td>17</td>\n",
       "      <td>30</td>\n",
       "      <td>16</td>\n",
       "    </tr>\n",
       "    <tr>\n",
       "      <th>2</th>\n",
       "      <td>2</td>\n",
       "      <td>single</td>\n",
       "      <td>0.876133</td>\n",
       "      <td>0.424242</td>\n",
       "      <td>0.388889</td>\n",
       "      <td>0.405797</td>\n",
       "      <td>276</td>\n",
       "      <td>19</td>\n",
       "      <td>22</td>\n",
       "      <td>14</td>\n",
       "    </tr>\n",
       "    <tr>\n",
       "      <th>3</th>\n",
       "      <td>3</td>\n",
       "      <td>single</td>\n",
       "      <td>0.888218</td>\n",
       "      <td>0.393939</td>\n",
       "      <td>0.433333</td>\n",
       "      <td>0.412698</td>\n",
       "      <td>281</td>\n",
       "      <td>20</td>\n",
       "      <td>17</td>\n",
       "      <td>13</td>\n",
       "    </tr>\n",
       "    <tr>\n",
       "      <th>4</th>\n",
       "      <td>4</td>\n",
       "      <td>single</td>\n",
       "      <td>0.879154</td>\n",
       "      <td>0.393939</td>\n",
       "      <td>0.393939</td>\n",
       "      <td>0.393939</td>\n",
       "      <td>278</td>\n",
       "      <td>20</td>\n",
       "      <td>20</td>\n",
       "      <td>13</td>\n",
       "    </tr>\n",
       "    <tr>\n",
       "      <th>5</th>\n",
       "      <td>5</td>\n",
       "      <td>single</td>\n",
       "      <td>0.879154</td>\n",
       "      <td>0.363636</td>\n",
       "      <td>0.387097</td>\n",
       "      <td>0.375000</td>\n",
       "      <td>279</td>\n",
       "      <td>21</td>\n",
       "      <td>19</td>\n",
       "      <td>12</td>\n",
       "    </tr>\n",
       "    <tr>\n",
       "      <th>6</th>\n",
       "      <td>(0, 1)</td>\n",
       "      <td>sums</td>\n",
       "      <td>0.821752</td>\n",
       "      <td>0.484848</td>\n",
       "      <td>0.275862</td>\n",
       "      <td>0.351648</td>\n",
       "      <td>256</td>\n",
       "      <td>17</td>\n",
       "      <td>42</td>\n",
       "      <td>16</td>\n",
       "    </tr>\n",
       "    <tr>\n",
       "      <th>7</th>\n",
       "      <td>(0, 2)</td>\n",
       "      <td>sums</td>\n",
       "      <td>0.830816</td>\n",
       "      <td>0.545455</td>\n",
       "      <td>0.305085</td>\n",
       "      <td>0.391304</td>\n",
       "      <td>257</td>\n",
       "      <td>15</td>\n",
       "      <td>41</td>\n",
       "      <td>18</td>\n",
       "    </tr>\n",
       "    <tr>\n",
       "      <th>8</th>\n",
       "      <td>(0, 3)</td>\n",
       "      <td>sums</td>\n",
       "      <td>0.821752</td>\n",
       "      <td>0.515152</td>\n",
       "      <td>0.283333</td>\n",
       "      <td>0.365591</td>\n",
       "      <td>255</td>\n",
       "      <td>16</td>\n",
       "      <td>43</td>\n",
       "      <td>17</td>\n",
       "    </tr>\n",
       "    <tr>\n",
       "      <th>9</th>\n",
       "      <td>(0, 4)</td>\n",
       "      <td>sums</td>\n",
       "      <td>0.812689</td>\n",
       "      <td>0.484848</td>\n",
       "      <td>0.262295</td>\n",
       "      <td>0.340426</td>\n",
       "      <td>253</td>\n",
       "      <td>17</td>\n",
       "      <td>45</td>\n",
       "      <td>16</td>\n",
       "    </tr>\n",
       "  </tbody>\n",
       "</table>\n",
       "</div>"
      ],
      "text/plain": [
       "  combination stack_type  accuracy    recall  precision        F1   tn  fn  \\\n",
       "0           0     single  0.806647  0.454545   0.245902  0.319149  252  18   \n",
       "1           1     single  0.858006  0.484848   0.347826  0.405063  268  17   \n",
       "2           2     single  0.876133  0.424242   0.388889  0.405797  276  19   \n",
       "3           3     single  0.888218  0.393939   0.433333  0.412698  281  20   \n",
       "4           4     single  0.879154  0.393939   0.393939  0.393939  278  20   \n",
       "5           5     single  0.879154  0.363636   0.387097  0.375000  279  21   \n",
       "6      (0, 1)       sums  0.821752  0.484848   0.275862  0.351648  256  17   \n",
       "7      (0, 2)       sums  0.830816  0.545455   0.305085  0.391304  257  15   \n",
       "8      (0, 3)       sums  0.821752  0.515152   0.283333  0.365591  255  16   \n",
       "9      (0, 4)       sums  0.812689  0.484848   0.262295  0.340426  253  17   \n",
       "\n",
       "   fp  tp  \n",
       "0  46  15  \n",
       "1  30  16  \n",
       "2  22  14  \n",
       "3  17  13  \n",
       "4  20  13  \n",
       "5  19  12  \n",
       "6  42  16  \n",
       "7  41  18  \n",
       "8  43  17  \n",
       "9  45  16  "
      ]
     },
     "execution_count": 26,
     "metadata": {},
     "output_type": "execute_result"
    }
   ],
   "source": [
    "# Instantiate new arrays\n",
    "X = np.zeros((features.shape[0],1))\n",
    "y = np.zeros((features.shape[0],1))\n",
    "\n",
    "# Choose how many features to examine\n",
    "n_features = features.shape[1]\n",
    "#n_features = 50\n",
    "\n",
    "# Build results to rank\n",
    "result_headers = ['combination','stack_type','accuracy', 'recall', 'precision', 'F1', 'tn', 'fn', 'fp', 'tp']\n",
    "results = []\n",
    "n_ps = ps.shape[1]# number of single thresholded power spectra included\n",
    "n_comb = len(idx_comb)# number of combinations used to form sums, anyy, sqrt, sq\n",
    "stack_keys = list(stack.keys())\n",
    "\n",
    "# Loop over each feature, fit a logistic regression model\n",
    "for i in range(n_features):\n",
    "    # Define Features/Outcome & Partitions\n",
    "    X = features[:, i].reshape(-1, 1)# Test set Accuracy: 89.76%, Recall: 78.57%, Precision: 44.00%\n",
    "    y = labels\n",
    "    X_train, X_test, y_train, y_test = train_test_split(X, y, test_size=0.33, random_state=42)\n",
    "\n",
    "    # Evaluate\n",
    "    reg = fit_model(X_train, X_test, y_train, y_test)\n",
    "    cm, scores = confusion_matrix(reg, X_test, y_test)\n",
    "    \n",
    "    # Add Results\n",
    "    def tup_to_str(tup):\n",
    "        return ','.join([str(t) for t in tup])\n",
    "\n",
    "    # Append a string to a list, or a list to a list;  extend to add a list to another list\n",
    "    temp = []\n",
    "    if i<n_ps:\n",
    "        temp.append( tup_to_str( (','.join([str(i)]),) ) )# add single spectra to the list of combination tuples\n",
    "        #temp.append( tup_to_str( (i,) ) )# add single spectra to the list of combination tuples\n",
    "        temp.append('single')\n",
    "    else:\n",
    "        # Add the combination as a string\n",
    "        comb_idx = (i-n_ps)%n_comb# index of the correct combination. Shift left by 6 (single ps), cycle by n_combinations\n",
    "        stack_i = (i-n_ps)//n_comb# n times divides by\n",
    "        temp.append( idx_comb[comb_idx] )# add the combination tuple\n",
    "        temp.append(stack_keys[stack_i])\n",
    "        #print (idx_comb[comb_idx])# DEBUG\n",
    "\n",
    "    temp.extend(scores)\n",
    "    temp.extend(cm.flatten('F'))\n",
    "    results.append(temp)\n",
    "\n",
    "res_df = pd.DataFrame(results, columns=result_headers)\n",
    "print ('Shape of results: ', res_df.shape)\n",
    "res_df.head(10)"
   ]
  },
  {
   "cell_type": "markdown",
   "metadata": {},
   "source": [
    "### 6. Find Best Model"
   ]
  },
  {
   "cell_type": "code",
   "execution_count": 27,
   "metadata": {},
   "outputs": [
    {
     "name": "stdout",
     "output_type": "stream",
     "text": [
      "Best results for row: 132\n"
     ]
    },
    {
     "data": {
      "text/plain": [
       "array([0.118242, 0.009246, 0.026242, ..., 0.07637 , 0.082558, 0.070869])"
      ]
     },
     "metadata": {},
     "output_type": "display_data"
    },
    {
     "data": {
      "text/html": [
       "<div>\n",
       "<style scoped>\n",
       "    .dataframe tbody tr th:only-of-type {\n",
       "        vertical-align: middle;\n",
       "    }\n",
       "\n",
       "    .dataframe tbody tr th {\n",
       "        vertical-align: top;\n",
       "    }\n",
       "\n",
       "    .dataframe thead th {\n",
       "        text-align: right;\n",
       "    }\n",
       "</style>\n",
       "<table border=\"1\" class=\"dataframe\">\n",
       "  <thead>\n",
       "    <tr style=\"text-align: right;\">\n",
       "      <th></th>\n",
       "      <th>combination</th>\n",
       "      <th>stack_type</th>\n",
       "      <th>accuracy</th>\n",
       "      <th>recall</th>\n",
       "      <th>precision</th>\n",
       "      <th>F1</th>\n",
       "      <th>tn</th>\n",
       "      <th>fn</th>\n",
       "      <th>fp</th>\n",
       "      <th>tp</th>\n",
       "    </tr>\n",
       "  </thead>\n",
       "  <tbody>\n",
       "    <tr>\n",
       "      <th>132</th>\n",
       "      <td>(3, 4)</td>\n",
       "      <td>sqrtt</td>\n",
       "      <td>0.882175</td>\n",
       "      <td>0.696970</td>\n",
       "      <td>0.442308</td>\n",
       "      <td>0.541176</td>\n",
       "      <td>269</td>\n",
       "      <td>10</td>\n",
       "      <td>29</td>\n",
       "      <td>23</td>\n",
       "    </tr>\n",
       "    <tr>\n",
       "      <th>133</th>\n",
       "      <td>(3, 5)</td>\n",
       "      <td>sqrtt</td>\n",
       "      <td>0.879154</td>\n",
       "      <td>0.696970</td>\n",
       "      <td>0.433962</td>\n",
       "      <td>0.534884</td>\n",
       "      <td>268</td>\n",
       "      <td>10</td>\n",
       "      <td>30</td>\n",
       "      <td>23</td>\n",
       "    </tr>\n",
       "    <tr>\n",
       "      <th>154</th>\n",
       "      <td>(3, 4, 5)</td>\n",
       "      <td>sqrtt</td>\n",
       "      <td>0.873112</td>\n",
       "      <td>0.696970</td>\n",
       "      <td>0.418182</td>\n",
       "      <td>0.522727</td>\n",
       "      <td>266</td>\n",
       "      <td>10</td>\n",
       "      <td>32</td>\n",
       "      <td>23</td>\n",
       "    </tr>\n",
       "    <tr>\n",
       "      <th>151</th>\n",
       "      <td>(2, 3, 4)</td>\n",
       "      <td>sqrtt</td>\n",
       "      <td>0.867069</td>\n",
       "      <td>0.666667</td>\n",
       "      <td>0.400000</td>\n",
       "      <td>0.500000</td>\n",
       "      <td>265</td>\n",
       "      <td>11</td>\n",
       "      <td>33</td>\n",
       "      <td>22</td>\n",
       "    </tr>\n",
       "    <tr>\n",
       "      <th>169</th>\n",
       "      <td>(2, 3, 4, 5)</td>\n",
       "      <td>sqrtt</td>\n",
       "      <td>0.858006</td>\n",
       "      <td>0.666667</td>\n",
       "      <td>0.379310</td>\n",
       "      <td>0.483516</td>\n",
       "      <td>262</td>\n",
       "      <td>11</td>\n",
       "      <td>36</td>\n",
       "      <td>22</td>\n",
       "    </tr>\n",
       "  </tbody>\n",
       "</table>\n",
       "</div>"
      ],
      "text/plain": [
       "      combination stack_type  accuracy    recall  precision        F1   tn  \\\n",
       "132        (3, 4)      sqrtt  0.882175  0.696970   0.442308  0.541176  269   \n",
       "133        (3, 5)      sqrtt  0.879154  0.696970   0.433962  0.534884  268   \n",
       "154     (3, 4, 5)      sqrtt  0.873112  0.696970   0.418182  0.522727  266   \n",
       "151     (2, 3, 4)      sqrtt  0.867069  0.666667   0.400000  0.500000  265   \n",
       "169  (2, 3, 4, 5)      sqrtt  0.858006  0.666667   0.379310  0.483516  262   \n",
       "\n",
       "     fn  fp  tp  \n",
       "132  10  29  23  \n",
       "133  10  30  23  \n",
       "154  10  32  23  \n",
       "151  11  33  22  \n",
       "169  11  36  22  "
      ]
     },
     "execution_count": 27,
     "metadata": {},
     "output_type": "execute_result"
    }
   ],
   "source": [
    "# Find Best Result\n",
    "res_df.sort_values(['recall','precision','accuracy'], ascending=False, inplace=True)\n",
    "#res_df.sort_values(['F1','recall','precision','accuracy'], ascending=False, inplace=True)\n",
    "best_model_idx = res_df.index.tolist()[0]\n",
    "print ('Best results for row:', best_model_idx)\n",
    "display(features[:, best_model_idx])\n",
    "res_df.head(5)"
   ]
  },
  {
   "cell_type": "markdown",
   "metadata": {},
   "source": [
    "### QA Check Model Validity & Save Model Object\n",
    "-- when we input just the best_model_idx feature to the logreg, we should get the exact same results as above"
   ]
  },
  {
   "cell_type": "code",
   "execution_count": 28,
   "metadata": {},
   "outputs": [
    {
     "ename": "NameError",
     "evalue": "name 'confuse_me' is not defined",
     "output_type": "error",
     "traceback": [
      "\u001b[0;31m---------------------------------------------------------------------------\u001b[0m",
      "\u001b[0;31mNameError\u001b[0m                                 Traceback (most recent call last)",
      "\u001b[0;32m<ipython-input-28-b0adedada66d>\u001b[0m in \u001b[0;36m<module>\u001b[0;34m\u001b[0m\n\u001b[1;32m      7\u001b[0m \u001b[0;31m# Evaluate\u001b[0m\u001b[0;34m\u001b[0m\u001b[0;34m\u001b[0m\u001b[0;34m\u001b[0m\u001b[0m\n\u001b[1;32m      8\u001b[0m \u001b[0mreg\u001b[0m \u001b[0;34m=\u001b[0m \u001b[0mfit_model\u001b[0m\u001b[0;34m(\u001b[0m\u001b[0mX_train\u001b[0m\u001b[0;34m,\u001b[0m \u001b[0mX_test\u001b[0m\u001b[0;34m,\u001b[0m \u001b[0my_train\u001b[0m\u001b[0;34m,\u001b[0m \u001b[0my_test\u001b[0m\u001b[0;34m)\u001b[0m\u001b[0;34m\u001b[0m\u001b[0;34m\u001b[0m\u001b[0m\n\u001b[0;32m----> 9\u001b[0;31m \u001b[0mcm\u001b[0m\u001b[0;34m,\u001b[0m \u001b[0mscores\u001b[0m \u001b[0;34m=\u001b[0m \u001b[0mconfuse_me\u001b[0m\u001b[0;34m(\u001b[0m\u001b[0mreg\u001b[0m\u001b[0;34m,\u001b[0m \u001b[0mX_test\u001b[0m\u001b[0;34m,\u001b[0m \u001b[0my_test\u001b[0m\u001b[0;34m)\u001b[0m\u001b[0;34m\u001b[0m\u001b[0;34m\u001b[0m\u001b[0m\n\u001b[0m\u001b[1;32m     10\u001b[0m \u001b[0;34m\u001b[0m\u001b[0m\n\u001b[1;32m     11\u001b[0m \u001b[0msummarize\u001b[0m\u001b[0;34m(\u001b[0m\u001b[0mscores\u001b[0m\u001b[0;34m)\u001b[0m\u001b[0;34m\u001b[0m\u001b[0;34m\u001b[0m\u001b[0m\n",
      "\u001b[0;31mNameError\u001b[0m: name 'confuse_me' is not defined"
     ]
    }
   ],
   "source": [
    "from sklearn.externals import joblib\n",
    "# Define Features/Outcome & Partitions\n",
    "X = features[:, best_model_idx].reshape(-1, 1)# Test set Accuracy: 89.76%, Recall: 78.57%, Precision: 44.00%\n",
    "y = labels\n",
    "X_train, X_test, y_train, y_test = train_test_split(X, y, test_size=0.33, random_state=42)\n",
    "\n",
    "# Evaluate\n",
    "reg = fit_model(X_train, X_test, y_train, y_test)\n",
    "cm, scores = confuse_me(reg, X_test, y_test)\n",
    "\n",
    "summarize(scores)\n",
    "plot_cm(cm, scores)\n",
    "\n",
    "# save the model to disk\n",
    "filename = 'finalized_model.sav'\n",
    "joblib.dump(reg, filename)"
   ]
  },
  {
   "cell_type": "code",
   "execution_count": null,
   "metadata": {},
   "outputs": [],
   "source": [
    "### ROC Curve - not working - something about reshaping cm\n",
    "y_proba = reg.predict_proba(X_test)[:,1].reshape(-1,1)\n",
    "y_true = y_test.reshape(-1,1)\n",
    "\n",
    "fpr, tpr, thresholds = metrics.roc_curve(y_true, y_proba)#pos_label='Artifacts'\n",
    "roc_auc = metrics.auc(fpr, tpr)\n",
    "\n",
    "# Plot w/ Matplotlib\n",
    "plot_ROC(fpr, tpr)\n",
    "\n",
    "# Plot w/ ggplot\n",
    "# df = pd.DataFrame(dict(fpr = fpr, tpr = tpr))\n",
    "# gg = ggplot(df, aes(x = 'fpr', y = 'tpr')) + geom_line() + geom_abline(linetype = 'dashed')\n",
    "# gg + theme_bw()"
   ]
  },
  {
   "cell_type": "markdown",
   "metadata": {},
   "source": [
    "### 7. Fit Logistic Regression Model with many features"
   ]
  },
  {
   "cell_type": "code",
   "execution_count": null,
   "metadata": {},
   "outputs": [],
   "source": [
    "%%time\n",
    "X = features[:, :].copy()\n",
    "y = labels\n",
    "\n",
    "# Partition\n",
    "X_train, X_test, y_train, y_test = train_test_split(X, y, test_size=0.33, random_state=42)\n",
    "\n",
    "# Evaluate\n",
    "lasso = LogisticRegression(fit_intercept=True, class_weight='balanced', penalty='l1', solver='saga', \\\n",
    "                         random_state=7, verbose=2, n_jobs=-1, \\\n",
    "                            tol=1e-6, max_iter=int(1e4), warm_start=True).fit(X_train, y_train) "
   ]
  },
  {
   "cell_type": "markdown",
   "metadata": {},
   "source": [
    "### Interestingly, the LogReg model doesn't do better when given many features + lasso\n",
    "-- Too many features can lead to overfitting, so your model performs worse on the test set"
   ]
  },
  {
   "cell_type": "code",
   "execution_count": null,
   "metadata": {},
   "outputs": [],
   "source": [
    "cm, scores = confuse_me(lasso, X_test, y_test)\n",
    "print (cm)\n",
    "summarize(scores)\n",
    "plot_cm(cm, scores)"
   ]
  },
  {
   "cell_type": "code",
   "execution_count": null,
   "metadata": {},
   "outputs": [],
   "source": []
  }
 ],
 "metadata": {
  "kernelspec": {
   "display_name": "Python 3",
   "language": "python",
   "name": "python3"
  },
  "language_info": {
   "codemirror_mode": {
    "name": "ipython",
    "version": 3
   },
   "file_extension": ".py",
   "mimetype": "text/x-python",
   "name": "python",
   "nbconvert_exporter": "python",
   "pygments_lexer": "ipython3",
   "version": "3.7.1"
  }
 },
 "nbformat": 4,
 "nbformat_minor": 2
}
