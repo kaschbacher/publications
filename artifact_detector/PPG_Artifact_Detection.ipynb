{
 "cells": [
  {
   "cell_type": "markdown",
   "metadata": {},
   "source": [
    "## Objective:  Identify PPG waveforms with artifacts based on these labeled data\n",
    "<p>Author:  Kirstin Aschbacher; Date:  April-May 2019; Uses python3</p>"
   ]
  },
  {
   "cell_type": "markdown",
   "metadata": {},
   "source": [
    "<h3> About the Data</h3>\n",
    "<p>There are 1001 PPG waveforms, acquired from users of a commercially available App that uses the smartphone camers to acquire the PPG signals. Roughly 1 in 10 were hand-labeled as artifacts by visual inspection by a trained cardiologist (note: some signals labeled non-artifacts still have visual anomalies). The signals already underwent some preprocessing to eliminate baseline wander.</p>\n",
    "<p>The data are given in NPY arrays. ''N' means normal - no artifact, 'H' means artifact</p>\n",
    "<h3> About the Request</h3>\n",
    "<p>Find a heuristic or a *simple* model (e.g., Logistic Regression) that uses FFT-derived frequency components to identify the artifacts</p>\n",
    "<p>The resultant solution will be subsequently applied to evaluate whether cleaning a large dataset improves the fit of a different model applied to that dataset.  In other words, the purpose of identifying and excluding artifacts is to evaluate whether cleaning up noise improves that model's performance. This code identifies artifacts - application to the full dataset is not done herein.</p>"
   ]
  },
  {
   "cell_type": "code",
   "execution_count": 31,
   "metadata": {},
   "outputs": [],
   "source": [
    "from __future__ import division, print_function\n",
    "import numpy as np\n",
    "import pandas as pd\n",
    "from sklearn.linear_model import LogisticRegression\n",
    "from sklearn.model_selection import train_test_split\n",
    "from sklearn import metrics\n",
    "from sklearn.externals import joblib\n",
    "import matplotlib.pyplot as plt\n",
    "import seaborn as sns\n",
    "import datetime as dt\n",
    "import os\n",
    "import sys\n",
    "import logging\n",
    "import itertools\n",
    "import warnings\n",
    "warnings.filterwarnings(\"ignore\")\n",
    "\n",
    "np.set_printoptions(suppress=True, precision=6, linewidth=500)\n",
    "%matplotlib inline"
   ]
  },
  {
   "cell_type": "markdown",
   "metadata": {},
   "source": [
    "# Pipeline Overview"
   ]
  },
  {
   "cell_type": "code",
   "execution_count": 36,
   "metadata": {},
   "outputs": [],
   "source": [
    "# 0. Load data, visualize\n",
    "# 1. Make power spectra (PS) scores (using FFT)\n",
    "# 2. Visualize the differences in PS btw artifact vs non-artifact to provide intuition into discriminability\n",
    "# 3. Feature Engineering: create additional features representing combinations of PS\n",
    "# 4. Fit and evaluate many different Logistic Regression Models in the training set\n",
    "# 5. Select the \"best model\" based on model performance in a hold-out test set\n",
    "# 6. Contrast whether a LogReg using lasso regularization with multiple features as input will perform better"
   ]
  },
  {
   "cell_type": "markdown",
   "metadata": {},
   "source": [
    "### Load Data"
   ]
  },
  {
   "cell_type": "code",
   "execution_count": 3,
   "metadata": {},
   "outputs": [
    {
     "name": "stdout",
     "output_type": "stream",
     "text": [
      "(1001,) <class 'numpy.ndarray'> (2048,) <class 'numpy.ndarray'>\n",
      "CPU times: user 59.1 ms, sys: 23.2 ms, total: 82.3 ms\n",
      "Wall time: 87 ms\n"
     ]
    }
   ],
   "source": [
    "%%time\n",
    "DATA_FILE = '../data/ppg_artifacts_labelled.npy'# Location of data\n",
    "data = np.load(DATA_FILE, encoding='bytes')\n",
    "print (data[0].shape, type(data[0]), data[0][0].shape, type(data[0][0]))"
   ]
  },
  {
   "cell_type": "markdown",
   "metadata": {},
   "source": [
    "### Plot PPG data from one randomly selected user"
   ]
  },
  {
   "cell_type": "code",
   "execution_count": 4,
   "metadata": {},
   "outputs": [],
   "source": [
    "# myid = np.random.choice( np.arange(len(data[0])) )# randomly select a user\n",
    "# plt.plot(data[0][myid])\n",
    "# print (myid, data[1][myid], data[0][myid].shape)"
   ]
  },
  {
   "cell_type": "markdown",
   "metadata": {},
   "source": [
    "<h3> Example PPG waveform</h3>\n",
    "<p><i> Picture imported since the data are not made publically available</i></p>\n",
    "<img src=\"example_nonArtifact_PPG.jpeg\">"
   ]
  },
  {
   "cell_type": "markdown",
   "metadata": {},
   "source": [
    "### 1. Make Power Spectra Scores"
   ]
  },
  {
   "cell_type": "code",
   "execution_count": 5,
   "metadata": {},
   "outputs": [],
   "source": [
    "# This function calculates the power spectrum of an input signal  \n",
    "# It returns the first 9 frequency components normalized to the fundemental frequency (total n_components=10)\n",
    "# Thanks to my collaborator Zahra Karbaschi, PhD for consultation on the fft portion of this function\n",
    "\n",
    "def get_power_spectrum(signal, sampling_freq, n_components):\n",
    "    \n",
    "    # Instantiate empty vectors\n",
    "    freq_vec = np.zeros(n_components) #vector of freq ratios\n",
    "    tmpvec = np.zeros((1, len(freq_vec)))\n",
    "    \n",
    "    # Define mathematical quantities\n",
    "    assert sampling_freq>0 \n",
    "    cycle_dur = 1.0/sampling_freq # Duration of one cycle in seconds. For example, 1/120Hz --> 0.00833 sec\n",
    "    n_samples = signal.shape[0] # Number of samples in time domain\n",
    "    signal_dur = n_samples*cycle_dur# Length of signal in sec\n",
    "    pad = 0.5 #we \"integrate\" in the frequency domain around peaks by +/- 0.5 Hz\n",
    "    epsilon = int(pad*signal_dur) #epsilon as a number of indices away from 1 Hz\n",
    "    \n",
    "    # Compute Power of spectral components; determine HR index\n",
    "    ps = abs(np.fft.fft(signal))**2 #power spec\n",
    "    heartRate_i = np.argmax(ps[epsilon:int(n_samples/2)]) + epsilon #index of the max peak, the HR (@ 1Hz)\n",
    "\n",
    "    for i in range(1, n_components+1): #for each peak\n",
    "        for j in range((i*heartRate_i)-epsilon, (i*heartRate_i)+epsilon): #integrate from over the peaks within +/- 0.5 Hz \n",
    "            freq_vec[i-1] += ps[j]\n",
    "            \n",
    "    assert freq_vec[0]!=0# Prevent divide by zero error. Although, first peak corresponds to HR, which should not be 0\n",
    "    freq_vec /= freq_vec[0] #normalize all spectral components based on the first peak\n",
    "    tmpvec[0] = freq_vec\n",
    "    \n",
    "    return tmpvec"
   ]
  },
  {
   "cell_type": "markdown",
   "metadata": {},
   "source": [
    "### Implement Function"
   ]
  },
  {
   "cell_type": "code",
   "execution_count": 6,
   "metadata": {},
   "outputs": [],
   "source": [
    "# Initialize Variables\n",
    "n_components = 10# Number of power spectral components to extract\n",
    "sampling_freq = 120# Sampling frequency of the signals in Hz\n",
    "\n",
    "n_signals = data[0].shape[0]\n",
    "power_spectra = np.zeros((n_signals, n_components))# shape=(n_signals, n_components)\n",
    "signal = np.zeros((data[0][0].shape[0],))# a vector the length of one signal\n",
    "\n",
    "# Loop over each user's data\n",
    "for id in range(0, n_signals):\n",
    "    signal = data[0][id]# np.array obj, shape (2048,)\n",
    "    if signal.shape[0]>0:\n",
    "        power_spectra[id] = get_power_spectrum(signal, sampling_freq, n_components)"
   ]
  },
  {
   "cell_type": "markdown",
   "metadata": {},
   "source": [
    "### 2. Visualize how Artifacts and Non-Artifacts differ on the Power Spectral Components"
   ]
  },
  {
   "cell_type": "code",
   "execution_count": 7,
   "metadata": {},
   "outputs": [],
   "source": [
    "def get_group_labels(data):\n",
    "    # Make a new column vector of true labels that is numeric (0=non-artifact, 1=artifact)\n",
    "    # ''N' means normal - no artifact, 'H' means artifact; \n",
    "    temp = [int(label[0].decode()=='H') for label in data[1]]\n",
    "    labels = np.asarray(temp)\n",
    "    return labels"
   ]
  },
  {
   "cell_type": "code",
   "execution_count": 8,
   "metadata": {},
   "outputs": [],
   "source": [
    "def get_indices(artifacts):\n",
    "    # Find indices of the artifacts\n",
    "    print ('Total number of artifacts: {} and non-artifacts: {}'.format (np.sum(artifacts), len(artifacts)-np.sum(artifacts)))\n",
    "    art_idx = list(np.where(artifacts==1))[0]\n",
    "    ctr_idx = [i for i in range(0, artifacts.shape[0]) if i not in art_idx]\n",
    "    return [art_idx, ctr_idx]"
   ]
  },
  {
   "cell_type": "code",
   "execution_count": 9,
   "metadata": {},
   "outputs": [],
   "source": [
    "def group_stats(ps, groups):\n",
    "    # Find the avg ps scores for artifacts and non-artifacts. These SEM are not pooled, they are by group\n",
    "    assert (len(groups[0])>0) & (len(groups[1])>0)# Prevent divide by zero\n",
    "    g0_mean = np.mean(ps[groups[0],:], axis=0)\n",
    "    g1_mean = np.mean(ps[groups[1],:], axis=0)\n",
    "    g0_sem = np.std(ps[groups[0],:], axis=0) / np.sqrt( len(groups[0]) )\n",
    "    g1_sem = np.std(ps[groups[1],:], axis=0) / np.sqrt( len(groups[1]) )\n",
    "    return [g0_mean, g1_mean], [g0_sem, g1_sem]"
   ]
  },
  {
   "cell_type": "code",
   "execution_count": 10,
   "metadata": {},
   "outputs": [],
   "source": [
    "def plot_groups(means, sems):\n",
    "    # Plot the average scores by artifact group, to see whether there's an obvious difference\n",
    "    art_m, ctr_m = means\n",
    "    art_err, ctr_err = sems\n",
    "    \n",
    "    plt.errorbar(x=np.arange(len(art_m)), y=art_m, yerr=art_err, color='r')\n",
    "    plt.errorbar(x=np.arange(len(ctr_m)), y=ctr_m, yerr=ctr_err, color='b')\n",
    "    \n",
    "    plt.xlabel('Spectral Component')\n",
    "    plt.ylabel('Normalized Power')\n",
    "    plt.legend(['Artifacts','Non-artifacts'])\n",
    "    plt.title('Normalized PPG Power Spectra (FFT) by Artifact Group', fontsize=14)\n",
    "    plt.show()"
   ]
  },
  {
   "cell_type": "markdown",
   "metadata": {},
   "source": [
    "### Implement Functions Above\n",
    "<p>-- Conclusions: From this graph, we observe that the two groups ought to be discriminable using standard statistics, because, for the first several components, the error bars do not come close to overlapping</p>\n",
    "<p>-- We also observe that components 1-5 are likely of greatest value for discimination.</p>"
   ]
  },
  {
   "cell_type": "code",
   "execution_count": 11,
   "metadata": {},
   "outputs": [
    {
     "name": "stdout",
     "output_type": "stream",
     "text": [
      "Total number of artifacts: 98 and non-artifacts: 903\n"
     ]
    },
    {
     "data": {
      "image/png": "[encoded data removed]",
      "text/plain": [
       "<Figure size 432x288 with 1 Axes>"
      ]
     },
     "metadata": {
      "needs_background": "light"
     },
     "output_type": "display_data"
    }
   ],
   "source": [
    "labels = get_group_labels(data)\n",
    "groups = get_indices(labels)# returns a list of indices for artifacts and non-art: [art_idx, ctr_idx]\n",
    "means, sems = group_stats(power_spectra, groups)# returns the means and sems on ps for the groups\n",
    "\n",
    "art_means = means[0]\n",
    "art_sems = sems[0]\n",
    "\n",
    "plot_groups(means, sems)"
   ]
  },
  {
   "cell_type": "markdown",
   "metadata": {},
   "source": [
    "<h3>How correlated are the spectral components?</h3>\n",
    "<p>Regression models sometimes exhibit undesirable or unstable behavior if features are highly correlated.\n",
    "Possible solutions include dimension reduction</p>\n",
    "<p>In a larger dataset, PCA could be used for dimension reduction. However, in this case, factor loadings of PCA may be somewhat unstable, and the added complexity may not help much</p>\n",
    "<p>A simpler strategy is to compute sums of normalized features 3 and 4 (for example), which are highly correlated and/or to pick one feature (a single ps or aggregate) that provides the best prediction</p>\n",
    "<p>Another alternative is to apply lasso regularization</p>\n",
    "<p>We will explore all of these options</p>"
   ]
  },
  {
   "cell_type": "code",
   "execution_count": 12,
   "metadata": {},
   "outputs": [
    {
     "data": {
      "image/png": "[encoded data removed]",
      "text/plain": [
       "<Figure size 432x288 with 2 Axes>"
      ]
     },
     "metadata": {
      "needs_background": "light"
     },
     "output_type": "display_data"
    }
   ],
   "source": [
    "corr = pd.DataFrame(power_spectra[:,1:6]).corr()# Just illustrate the original thresholded PS\n",
    "sns.heatmap(corr, annot=True)\n",
    "plt.title('Feature Correlation Heat Map', fontsize=16)\n",
    "plt.show()"
   ]
  },
  {
   "cell_type": "markdown",
   "metadata": {},
   "source": [
    "### 3. Feature Engineering: Create a Features Matrix\n",
    "<p>A. Get all combinations of power spectra indices</p>\n",
    "<p>B. Compute sums across each combination</p>\n",
    "<p>C. Create modifications of sums --> any, sqrt, **2</p>\n",
    "<p>D. Stack all the features into one master matrix</p>"
   ]
  },
  {
   "cell_type": "code",
   "execution_count": 13,
   "metadata": {},
   "outputs": [],
   "source": [
    "# Given a set of power spectra (excluding the 1st or 0-indexed ps, to which others are normalized...)\n",
    "# Generate all the possible combinations of the indices for those ps, and sum over those\n",
    "# For example, given 4 ps... we would find 4C2, 4C3, and 4C4 total combinations."
   ]
  },
  {
   "cell_type": "code",
   "execution_count": 14,
   "metadata": {},
   "outputs": [],
   "source": [
    "def get_combinations(arr):\n",
    "    n = arr.shape[1]# Number of power spectra that we applied thresholds to, and want to include in this exercise\n",
    "    idx_list = np.arange(0, n)# A list of the indices we can choose from\n",
    "    idx_comb = []# A list of all the combinations of indices we will use to make sums\n",
    "\n",
    "    # First build idx_comb, by looping over the k in nCk (i.e., the number of items we choose)\n",
    "    for k in range(2, n+1):\n",
    "        temp = list(itertools.combinations(idx_list, k))\n",
    "        idx_comb.extend(temp)\n",
    "    return idx_comb"
   ]
  },
  {
   "cell_type": "code",
   "execution_count": 15,
   "metadata": {},
   "outputs": [],
   "source": [
    "def get_sums(arr, idx_comb):\n",
    "    # Create sums using combination list\n",
    "    sums = np.zeros((arr.shape[0], len(idx_comb)))\n",
    "    # Loop over combinations and compute sum\n",
    "    for i, c in enumerate(idx_comb):\n",
    "        sums[:, i] = arr[:, list(c)].sum(axis=1)\n",
    "    return sums"
   ]
  },
  {
   "cell_type": "code",
   "execution_count": 16,
   "metadata": {},
   "outputs": [],
   "source": [
    "def stack_sums(sums):\n",
    "    stack = {'sums': sums}\n",
    "    # Create any, sqrt, sq\n",
    "    stack['anyy'] = (sums>0).astype(int)\n",
    "    stack['sqrtt'] = np.sqrt(sums)# should be no negative values in sums...\n",
    "    stack['sq'] = sums**2\n",
    "    return stack"
   ]
  },
  {
   "cell_type": "code",
   "execution_count": 17,
   "metadata": {},
   "outputs": [],
   "source": [
    "def make_feature_arr(arr, stack):\n",
    "    \n",
    "    # Set Variables\n",
    "    f0 = arr.shape[1]# number of power spectra in arr\n",
    "    f1 = stack['sums'].shape[1]# number of combinations\n",
    "    print ( 'Number of features in original array: {}'.format(f0) )\n",
    "    stacks = ['sums', 'anyy', 'sqrtt', 'sq']\n",
    "    features = np.zeros( (stack['sums'].shape[0], f0 + (4*f1)) )\n",
    "    \n",
    "    # Stack up final features array\n",
    "    features[:, :f0] = arr\n",
    "    for i in range(0,4):\n",
    "        features[:, f0+(f1*i): f0+(f1*(i+1))] = stack[stacks[i]]\n",
    "    print ( 'Number of features in final features array: {}, after adding 4*n_comb: sums, any, sqrt, sq'.format(features.shape[1]) )\n",
    "    return features"
   ]
  },
  {
   "cell_type": "markdown",
   "metadata": {},
   "source": [
    "#### Get the feature matrix --> apply functions above"
   ]
  },
  {
   "cell_type": "code",
   "execution_count": 18,
   "metadata": {},
   "outputs": [
    {
     "name": "stdout",
     "output_type": "stream",
     "text": [
      "Number of combinations: 26\n",
      "Number of features in original array: 5\n",
      "Number of features in final features array: 109, after adding 4*n_comb: sums, any, sqrt, sq\n",
      "(1001, 109)\n",
      "(1001, 26) (1001, 26)\n"
     ]
    }
   ],
   "source": [
    "def get_features(arr):\n",
    "\n",
    "    # Get combination list\n",
    "    idx_comb = get_combinations(arr)\n",
    "    print ('Number of combinations: {}'.format(len(idx_comb)))\n",
    "\n",
    "    # Create sums using combination list\n",
    "    sums = get_sums(arr, idx_comb)\n",
    "    stack = stack_sums(sums)\n",
    "\n",
    "    # Stack up final features array\n",
    "    return make_feature_arr(arr, stack), idx_comb, stack\n",
    "\n",
    "# Just use a subset of the power_spectra - reduce overfitting by not including features unlikely to be useful\n",
    "ps = power_spectra[:, 1:6]\n",
    "features, idx_comb, stack = get_features(ps)\n",
    "total_cols = ps.shape[1]+4*len(idx_comb)# How total n_features is derived\n",
    "assert total_cols==features.shape[1]\n",
    "\n",
    "print (features.shape)\n",
    "print (stack['sums'].shape, stack['sqrtt'].shape)"
   ]
  },
  {
   "cell_type": "markdown",
   "metadata": {},
   "source": [
    "### 4A. Logistic Regression Model: Fit and Evaluate"
   ]
  },
  {
   "cell_type": "code",
   "execution_count": 20,
   "metadata": {},
   "outputs": [],
   "source": [
    "def fit_model(X_train, X_test, y_train, y_test):\n",
    "    reg = LogisticRegression(fit_intercept=True, class_weight='balanced', solver='lbfgs', \\\n",
    "                         random_state=7, verbose=0).fit(X_train, y_train) \n",
    "    return reg"
   ]
  },
  {
   "cell_type": "code",
   "execution_count": 21,
   "metadata": {},
   "outputs": [],
   "source": [
    "def summarize(scores):\n",
    "    print('Test set Accuracy: {:.02f}%, Recall: {:.02f}%, Precision: {:.02f}%, F1: {:.02f}%\\\n",
    "        '.format(100*scores[0], 100*scores[1], 100*scores[2], 100*scores[3]))"
   ]
  },
  {
   "cell_type": "code",
   "execution_count": 22,
   "metadata": {},
   "outputs": [],
   "source": [
    "def confusion_matrix(reg, X_test, y_test):\n",
    "    # Predictions -->Confusion Matrix \n",
    "    y_pred = reg.predict(X_test)\n",
    "    cm = metrics.confusion_matrix(y_test, y_pred)# true, predicted\n",
    "    \n",
    "    # Evaluate Model\n",
    "    accuracy = reg.score(X_test, y_test)\n",
    "    recall = cm[1][1]/np.sum(cm[1,:])\n",
    "    precision = cm[1][1]/np.sum(cm[:,1])\n",
    "    F1 = 2 * (precision * recall) / (precision + recall)\n",
    "    scores = [accuracy, recall, precision, F1]\n",
    "    #summarize(scores)\n",
    "    return cm, scores"
   ]
  },
  {
   "cell_type": "code",
   "execution_count": 23,
   "metadata": {},
   "outputs": [],
   "source": [
    "def plot_cm(cm, scores):\n",
    "    plt.figure(figsize=(4,4))\n",
    "    sns.heatmap(cm, annot=True, fmt=\".2f\", linewidths=.5, square = True, cmap = 'Blues_r');\n",
    "    plt.ylabel('Actual label')\n",
    "    plt.xlabel('Predicted label') \n",
    "    plt.title('Accuracy Score: {:2f}%'.format(100*scores[0]), size = 13);\n",
    "    plt.show()"
   ]
  },
  {
   "cell_type": "code",
   "execution_count": 24,
   "metadata": {},
   "outputs": [],
   "source": [
    "def plot_ROC(fpr, tpr):\n",
    "    plt.title('Receiver Operating Characteristic', fontsize=16)\n",
    "    plt.plot(fpr, tpr, 'b', label = 'AUC = %0.2f' % roc_auc)\n",
    "    plt.legend(loc = 'lower right')\n",
    "    plt.plot([0, 1], [0, 1],'r--')\n",
    "    plt.xlim([0, 1])\n",
    "    plt.ylim([0, 1])\n",
    "    plt.ylabel('True Positive Rate')\n",
    "    plt.xlabel('False Positive Rate')\n",
    "    plt.legend(fontsize=14)\n",
    "    plt.show()"
   ]
  },
  {
   "cell_type": "markdown",
   "metadata": {},
   "source": [
    "<h3> 4B. Fit Many Models (with Single Feature Inputs) in the Test Set</h3>\n",
    "<p> Loop over each feature, fit a LogReg model in training set, evaluate performance in the test set. Store results.\n",
    "<p> Evaluate performance based on optimizing recall, then precision, then accuracy. It's better to identify the \"true\" artifacts (high recall), even if we throw out more data than necessary (lower precision)."
   ]
  },
  {
   "cell_type": "code",
   "execution_count": 25,
   "metadata": {},
   "outputs": [
    {
     "name": "stdout",
     "output_type": "stream",
     "text": [
      "Shape of results:  (109, 10)\n"
     ]
    },
    {
     "data": {
      "text/html": [
       "<div>\n",
       "<style scoped>\n",
       "    .dataframe tbody tr th:only-of-type {\n",
       "        vertical-align: middle;\n",
       "    }\n",
       "\n",
       "    .dataframe tbody tr th {\n",
       "        vertical-align: top;\n",
       "    }\n",
       "\n",
       "    .dataframe thead th {\n",
       "        text-align: right;\n",
       "    }\n",
       "</style>\n",
       "<table border=\"1\" class=\"dataframe\">\n",
       "  <thead>\n",
       "    <tr style=\"text-align: right;\">\n",
       "      <th></th>\n",
       "      <th>combination</th>\n",
       "      <th>type</th>\n",
       "      <th>accuracy</th>\n",
       "      <th>recall</th>\n",
       "      <th>precision</th>\n",
       "      <th>F1</th>\n",
       "      <th>tn</th>\n",
       "      <th>fn</th>\n",
       "      <th>fp</th>\n",
       "      <th>tp</th>\n",
       "    </tr>\n",
       "  </thead>\n",
       "  <tbody>\n",
       "    <tr>\n",
       "      <th>0</th>\n",
       "      <td>(0,)</td>\n",
       "      <td>single</td>\n",
       "      <td>0.806647</td>\n",
       "      <td>0.454545</td>\n",
       "      <td>0.245902</td>\n",
       "      <td>0.319149</td>\n",
       "      <td>252</td>\n",
       "      <td>18</td>\n",
       "      <td>46</td>\n",
       "      <td>15</td>\n",
       "    </tr>\n",
       "    <tr>\n",
       "      <th>1</th>\n",
       "      <td>(1,)</td>\n",
       "      <td>single</td>\n",
       "      <td>0.858006</td>\n",
       "      <td>0.484848</td>\n",
       "      <td>0.347826</td>\n",
       "      <td>0.405063</td>\n",
       "      <td>268</td>\n",
       "      <td>17</td>\n",
       "      <td>30</td>\n",
       "      <td>16</td>\n",
       "    </tr>\n",
       "    <tr>\n",
       "      <th>2</th>\n",
       "      <td>(2,)</td>\n",
       "      <td>single</td>\n",
       "      <td>0.876133</td>\n",
       "      <td>0.424242</td>\n",
       "      <td>0.388889</td>\n",
       "      <td>0.405797</td>\n",
       "      <td>276</td>\n",
       "      <td>19</td>\n",
       "      <td>22</td>\n",
       "      <td>14</td>\n",
       "    </tr>\n",
       "    <tr>\n",
       "      <th>3</th>\n",
       "      <td>(3,)</td>\n",
       "      <td>single</td>\n",
       "      <td>0.888218</td>\n",
       "      <td>0.393939</td>\n",
       "      <td>0.433333</td>\n",
       "      <td>0.412698</td>\n",
       "      <td>281</td>\n",
       "      <td>20</td>\n",
       "      <td>17</td>\n",
       "      <td>13</td>\n",
       "    </tr>\n",
       "    <tr>\n",
       "      <th>4</th>\n",
       "      <td>(4,)</td>\n",
       "      <td>single</td>\n",
       "      <td>0.879154</td>\n",
       "      <td>0.393939</td>\n",
       "      <td>0.393939</td>\n",
       "      <td>0.393939</td>\n",
       "      <td>278</td>\n",
       "      <td>20</td>\n",
       "      <td>20</td>\n",
       "      <td>13</td>\n",
       "    </tr>\n",
       "    <tr>\n",
       "      <th>5</th>\n",
       "      <td>(0, 1)</td>\n",
       "      <td>sums</td>\n",
       "      <td>0.821752</td>\n",
       "      <td>0.484848</td>\n",
       "      <td>0.275862</td>\n",
       "      <td>0.351648</td>\n",
       "      <td>256</td>\n",
       "      <td>17</td>\n",
       "      <td>42</td>\n",
       "      <td>16</td>\n",
       "    </tr>\n",
       "    <tr>\n",
       "      <th>6</th>\n",
       "      <td>(0, 2)</td>\n",
       "      <td>sums</td>\n",
       "      <td>0.830816</td>\n",
       "      <td>0.545455</td>\n",
       "      <td>0.305085</td>\n",
       "      <td>0.391304</td>\n",
       "      <td>257</td>\n",
       "      <td>15</td>\n",
       "      <td>41</td>\n",
       "      <td>18</td>\n",
       "    </tr>\n",
       "    <tr>\n",
       "      <th>7</th>\n",
       "      <td>(0, 3)</td>\n",
       "      <td>sums</td>\n",
       "      <td>0.821752</td>\n",
       "      <td>0.515152</td>\n",
       "      <td>0.283333</td>\n",
       "      <td>0.365591</td>\n",
       "      <td>255</td>\n",
       "      <td>16</td>\n",
       "      <td>43</td>\n",
       "      <td>17</td>\n",
       "    </tr>\n",
       "    <tr>\n",
       "      <th>8</th>\n",
       "      <td>(0, 4)</td>\n",
       "      <td>sums</td>\n",
       "      <td>0.812689</td>\n",
       "      <td>0.484848</td>\n",
       "      <td>0.262295</td>\n",
       "      <td>0.340426</td>\n",
       "      <td>253</td>\n",
       "      <td>17</td>\n",
       "      <td>45</td>\n",
       "      <td>16</td>\n",
       "    </tr>\n",
       "    <tr>\n",
       "      <th>9</th>\n",
       "      <td>(1, 2)</td>\n",
       "      <td>sums</td>\n",
       "      <td>0.858006</td>\n",
       "      <td>0.515152</td>\n",
       "      <td>0.354167</td>\n",
       "      <td>0.419753</td>\n",
       "      <td>267</td>\n",
       "      <td>16</td>\n",
       "      <td>31</td>\n",
       "      <td>17</td>\n",
       "    </tr>\n",
       "  </tbody>\n",
       "</table>\n",
       "</div>"
      ],
      "text/plain": [
       "  combination    type  accuracy    recall  precision        F1   tn  fn  fp  \\\n",
       "0        (0,)  single  0.806647  0.454545   0.245902  0.319149  252  18  46   \n",
       "1        (1,)  single  0.858006  0.484848   0.347826  0.405063  268  17  30   \n",
       "2        (2,)  single  0.876133  0.424242   0.388889  0.405797  276  19  22   \n",
       "3        (3,)  single  0.888218  0.393939   0.433333  0.412698  281  20  17   \n",
       "4        (4,)  single  0.879154  0.393939   0.393939  0.393939  278  20  20   \n",
       "5      (0, 1)    sums  0.821752  0.484848   0.275862  0.351648  256  17  42   \n",
       "6      (0, 2)    sums  0.830816  0.545455   0.305085  0.391304  257  15  41   \n",
       "7      (0, 3)    sums  0.821752  0.515152   0.283333  0.365591  255  16  43   \n",
       "8      (0, 4)    sums  0.812689  0.484848   0.262295  0.340426  253  17  45   \n",
       "9      (1, 2)    sums  0.858006  0.515152   0.354167  0.419753  267  16  31   \n",
       "\n",
       "   tp  \n",
       "0  15  \n",
       "1  16  \n",
       "2  14  \n",
       "3  13  \n",
       "4  13  \n",
       "5  16  \n",
       "6  18  \n",
       "7  17  \n",
       "8  16  \n",
       "9  17  "
      ]
     },
     "execution_count": 25,
     "metadata": {},
     "output_type": "execute_result"
    }
   ],
   "source": [
    "# Instantiate new arrays\n",
    "X = np.zeros((features.shape[0],1))\n",
    "y = np.zeros((features.shape[0],1))\n",
    "\n",
    "# Choose how many features to examine\n",
    "n_features = features.shape[1]\n",
    "\n",
    "# Build results to rank\n",
    "result_headers = ['combination','type','accuracy', 'recall', 'precision', 'F1', 'tn', 'fn', 'fp', 'tp']\n",
    "results = []\n",
    "n_ps = ps.shape[1]# number of single thresholded power spectra included\n",
    "n_comb = len(idx_comb)# number of combinations used to form sums, anyy, sqrt, sq\n",
    "stack_keys = list(stack.keys())\n",
    "\n",
    "# Loop over each feature, fit a logistic regression model\n",
    "for i in range(n_features):\n",
    "    # Define Features/Outcome & Partitions\n",
    "    X = features[:, i].reshape(-1, 1)# Test set Accuracy: 89.76%, Recall: 78.57%, Precision: 44.00%\n",
    "    y = labels\n",
    "    X_train, X_test, y_train, y_test = train_test_split(X, y, test_size=0.33, random_state=42)\n",
    "\n",
    "    # Evaluate\n",
    "    reg = fit_model(X_train, X_test, y_train, y_test)\n",
    "    cm, scores = confusion_matrix(reg, X_test, y_test)\n",
    "\n",
    "    # Append a string to a list, or a list to a list;  extend to add a list to another list\n",
    "    temp = []\n",
    "    if i<n_ps:\n",
    "        temp.append( (','.join([str(i)]),) )# add single spectra to the list of combination tuples\n",
    "        temp.append('single')\n",
    "    else:\n",
    "        # Add the combination as a string\n",
    "        comb_idx = (i-n_ps)%n_comb# index of the correct combination. Shift left by 6 (single ps), cycle by n_combinations\n",
    "        stack_i = (i-n_ps)//n_comb# n times divides by\n",
    "        temp.append( idx_comb[comb_idx] )# add the combination tuple\n",
    "        temp.append(stack_keys[stack_i])\n",
    "        #print (idx_comb[comb_idx])# DEBUG\n",
    "\n",
    "    temp.extend(scores)\n",
    "    temp.extend(cm.flatten('F'))\n",
    "    results.append(temp)\n",
    "\n",
    "res_df = pd.DataFrame(results, columns=result_headers)\n",
    "print ('Shape of results: ', res_df.shape)\n",
    "res_df.head(10)"
   ]
  },
  {
   "cell_type": "markdown",
   "metadata": {},
   "source": [
    "### 5. Find Best Model"
   ]
  },
  {
   "cell_type": "code",
   "execution_count": 26,
   "metadata": {},
   "outputs": [
    {
     "name": "stdout",
     "output_type": "stream",
     "text": [
      "Best results for row: 66\n"
     ]
    },
    {
     "data": {
      "text/plain": [
       "array([0.118242, 0.009246, 0.026242, ..., 0.07637 , 0.082558, 0.070869])"
      ]
     },
     "metadata": {},
     "output_type": "display_data"
    },
    {
     "data": {
      "text/html": [
       "<div>\n",
       "<style scoped>\n",
       "    .dataframe tbody tr th:only-of-type {\n",
       "        vertical-align: middle;\n",
       "    }\n",
       "\n",
       "    .dataframe tbody tr th {\n",
       "        vertical-align: top;\n",
       "    }\n",
       "\n",
       "    .dataframe thead th {\n",
       "        text-align: right;\n",
       "    }\n",
       "</style>\n",
       "<table border=\"1\" class=\"dataframe\">\n",
       "  <thead>\n",
       "    <tr style=\"text-align: right;\">\n",
       "      <th></th>\n",
       "      <th>combination</th>\n",
       "      <th>type</th>\n",
       "      <th>accuracy</th>\n",
       "      <th>recall</th>\n",
       "      <th>precision</th>\n",
       "      <th>F1</th>\n",
       "      <th>tn</th>\n",
       "      <th>fn</th>\n",
       "      <th>fp</th>\n",
       "      <th>tp</th>\n",
       "    </tr>\n",
       "  </thead>\n",
       "  <tbody>\n",
       "    <tr>\n",
       "      <th>66</th>\n",
       "      <td>(3, 4)</td>\n",
       "      <td>sqrtt</td>\n",
       "      <td>0.882175</td>\n",
       "      <td>0.696970</td>\n",
       "      <td>0.442308</td>\n",
       "      <td>0.541176</td>\n",
       "      <td>269</td>\n",
       "      <td>10</td>\n",
       "      <td>29</td>\n",
       "      <td>23</td>\n",
       "    </tr>\n",
       "    <tr>\n",
       "      <th>76</th>\n",
       "      <td>(2, 3, 4)</td>\n",
       "      <td>sqrtt</td>\n",
       "      <td>0.867069</td>\n",
       "      <td>0.666667</td>\n",
       "      <td>0.400000</td>\n",
       "      <td>0.500000</td>\n",
       "      <td>265</td>\n",
       "      <td>11</td>\n",
       "      <td>33</td>\n",
       "      <td>22</td>\n",
       "    </tr>\n",
       "    <tr>\n",
       "      <th>64</th>\n",
       "      <td>(2, 3)</td>\n",
       "      <td>sqrtt</td>\n",
       "      <td>0.867069</td>\n",
       "      <td>0.636364</td>\n",
       "      <td>0.396226</td>\n",
       "      <td>0.488372</td>\n",
       "      <td>266</td>\n",
       "      <td>12</td>\n",
       "      <td>32</td>\n",
       "      <td>21</td>\n",
       "    </tr>\n",
       "    <tr>\n",
       "      <th>65</th>\n",
       "      <td>(2, 4)</td>\n",
       "      <td>sqrtt</td>\n",
       "      <td>0.858006</td>\n",
       "      <td>0.636364</td>\n",
       "      <td>0.375000</td>\n",
       "      <td>0.471910</td>\n",
       "      <td>263</td>\n",
       "      <td>12</td>\n",
       "      <td>35</td>\n",
       "      <td>21</td>\n",
       "    </tr>\n",
       "    <tr>\n",
       "      <th>81</th>\n",
       "      <td>(1, 2, 3, 4)</td>\n",
       "      <td>sqrtt</td>\n",
       "      <td>0.854985</td>\n",
       "      <td>0.636364</td>\n",
       "      <td>0.368421</td>\n",
       "      <td>0.466667</td>\n",
       "      <td>262</td>\n",
       "      <td>12</td>\n",
       "      <td>36</td>\n",
       "      <td>21</td>\n",
       "    </tr>\n",
       "  </tbody>\n",
       "</table>\n",
       "</div>"
      ],
      "text/plain": [
       "     combination   type  accuracy    recall  precision        F1   tn  fn  fp  \\\n",
       "66        (3, 4)  sqrtt  0.882175  0.696970   0.442308  0.541176  269  10  29   \n",
       "76     (2, 3, 4)  sqrtt  0.867069  0.666667   0.400000  0.500000  265  11  33   \n",
       "64        (2, 3)  sqrtt  0.867069  0.636364   0.396226  0.488372  266  12  32   \n",
       "65        (2, 4)  sqrtt  0.858006  0.636364   0.375000  0.471910  263  12  35   \n",
       "81  (1, 2, 3, 4)  sqrtt  0.854985  0.636364   0.368421  0.466667  262  12  36   \n",
       "\n",
       "    tp  \n",
       "66  23  \n",
       "76  22  \n",
       "64  21  \n",
       "65  21  \n",
       "81  21  "
      ]
     },
     "execution_count": 26,
     "metadata": {},
     "output_type": "execute_result"
    }
   ],
   "source": [
    "# Find Best Result\n",
    "res_df.sort_values(['recall','precision','accuracy'], ascending=False, inplace=True)\n",
    "best_model_idx = res_df.index.tolist()[0]\n",
    "print ('Best results for row:', best_model_idx)\n",
    "display(features[:, best_model_idx])\n",
    "res_df.head(5)"
   ]
  },
  {
   "cell_type": "markdown",
   "metadata": {},
   "source": [
    "### QA Check Model Validity & Save Model Object\n",
    "-- when we input just the best_model_idx feature to the logreg, we should get the exact same results as above"
   ]
  },
  {
   "cell_type": "code",
   "execution_count": 27,
   "metadata": {},
   "outputs": [
    {
     "name": "stdout",
     "output_type": "stream",
     "text": [
      "Test set Accuracy: 88.22%, Recall: 69.70%, Precision: 44.23%, F1: 54.12%        \n"
     ]
    },
    {
     "data": {
      "image/png": "[encoded data removed]",
      "text/plain": [
       "<Figure size 288x288 with 2 Axes>"
      ]
     },
     "metadata": {
      "needs_background": "light"
     },
     "output_type": "display_data"
    }
   ],
   "source": [
    "# Define Features/Outcome & Partitions\n",
    "X = features[:, best_model_idx].reshape(-1, 1)\n",
    "y = labels\n",
    "X_train, X_test, y_train, y_test = train_test_split(X, y, test_size=0.33, random_state=42)\n",
    "\n",
    "# Evaluate\n",
    "reg = fit_model(X_train, X_test, y_train, y_test)\n",
    "cm, scores = confusion_matrix(reg, X_test, y_test)\n",
    "\n",
    "summarize(scores)\n",
    "plot_cm(cm, scores)\n",
    "\n",
    "# Save the model to disk, so we can load it and apply to rest of dataset\n",
    "filename = 'finalized_model.sav'\n",
    "#joblib.dump(reg, filename)"
   ]
  },
  {
   "cell_type": "code",
   "execution_count": 28,
   "metadata": {},
   "outputs": [
    {
     "data": {
      "image/png": "[encoded data removed]",
      "text/plain": [
       "<Figure size 432x288 with 1 Axes>"
      ]
     },
     "metadata": {
      "needs_background": "light"
     },
     "output_type": "display_data"
    }
   ],
   "source": [
    "### ROC Curve\n",
    "y_proba = reg.predict_proba(X_test)[:,1].reshape(-1,1)\n",
    "y_true = y_test.reshape(-1,1)\n",
    "\n",
    "fpr, tpr, thresholds = metrics.roc_curve(y_true, y_proba)\n",
    "roc_auc = metrics.auc(fpr, tpr)\n",
    "plot_ROC(fpr, tpr)"
   ]
  },
  {
   "cell_type": "markdown",
   "metadata": {},
   "source": [
    "### 6. Fit Logistic Regression Model with many features; Apply Lasso Regularization"
   ]
  },
  {
   "cell_type": "code",
   "execution_count": 29,
   "metadata": {},
   "outputs": [
    {
     "name": "stderr",
     "output_type": "stream",
     "text": [
      "[Parallel(n_jobs=-1)]: Using backend ThreadingBackend with 4 concurrent workers.\n"
     ]
    },
    {
     "name": "stdout",
     "output_type": "stream",
     "text": [
      "max_iter reached after 15 seconds\n",
      "CPU times: user 13.8 s, sys: 229 ms, total: 14 s\n",
      "Wall time: 14.9 s\n"
     ]
    },
    {
     "name": "stderr",
     "output_type": "stream",
     "text": [
      "[Parallel(n_jobs=-1)]: Done   1 out of   1 | elapsed:   14.9s finished\n"
     ]
    }
   ],
   "source": [
    "%%time\n",
    "X = features[:, :].copy()\n",
    "y = labels\n",
    "\n",
    "X_train, X_test, y_train, y_test = train_test_split(X, y, test_size=0.33, random_state=42)\n",
    "\n",
    "# Evaluate\n",
    "lasso = LogisticRegression(fit_intercept=True, class_weight='balanced', penalty='l1', solver='saga', \\\n",
    "                         random_state=7, verbose=2, n_jobs=-1, \\\n",
    "                            tol=1e-6, max_iter=int(1e4), warm_start=True).fit(X_train, y_train) "
   ]
  },
  {
   "cell_type": "markdown",
   "metadata": {},
   "source": [
    "### Interestingly, the LogReg model given many features + lasso performs worse\n",
    "-- Too many features can lead to overfitting, so your model performs worse on the test set"
   ]
  },
  {
   "cell_type": "code",
   "execution_count": 30,
   "metadata": {},
   "outputs": [
    {
     "name": "stdout",
     "output_type": "stream",
     "text": [
      "Test set Accuracy: 84.29%, Recall: 66.67%, Precision: 34.92%, F1: 45.83%        \n"
     ]
    },
    {
     "data": {
      "image/png": "[encoded data removed]",
      "text/plain": [
       "<Figure size 288x288 with 2 Axes>"
      ]
     },
     "metadata": {
      "needs_background": "light"
     },
     "output_type": "display_data"
    }
   ],
   "source": [
    "cm, scores = confusion_matrix(lasso, X_test, y_test)\n",
    "summarize(scores)\n",
    "plot_cm(cm, scores)"
   ]
  },
  {
   "cell_type": "markdown",
   "metadata": {},
   "source": [
    "### Can we do this in a much simpler way?\n",
    "<p> It looks to me like the artifacts all have a greater amplitude in general. Could we just use a very simple heuristic and get better predictions?</p>"
   ]
  },
  {
   "cell_type": "code",
   "execution_count": 63,
   "metadata": {},
   "outputs": [
    {
     "name": "stdout",
     "output_type": "stream",
     "text": [
      "1001 2048\n"
     ]
    }
   ],
   "source": [
    "# Instantiate array\n",
    "n_signals = data[0].shape[0]\n",
    "signal_length = data[0][0].shape[0]\n",
    "print (n_signals, signal_length)\n",
    "signals = np.zeros((n_signals, signal_length))\n",
    "\n",
    "# Reorganize data to more easily compute min/max/amplitude\n",
    "for i in range(n_signals):\n",
    "    signals[i, :] = data[0][i]\n",
    "\n",
    "# Extract min and max of each signal\n",
    "amp = np.zeros((n_signals, 3))\n",
    "amp[:,0] = np.min(signals, axis=1)# min value for every PPG signal, rows = obervations\n",
    "amp[:,1] = np.max(signals, axis=1)\n",
    "amp[:,2] = amp[:,1]-amp[:,0]"
   ]
  },
  {
   "cell_type": "code",
   "execution_count": 64,
   "metadata": {},
   "outputs": [
    {
     "name": "stdout",
     "output_type": "stream",
     "text": [
      "Test set Accuracy: 9.97%, Recall: 100.00%, Precision: 9.97%, F1: 18.13%        \n",
      "[[  0 298]\n",
      " [  0  33]]\n"
     ]
    },
    {
     "data": {
      "image/png": "[encoded data removed]",
      "text/plain": [
       "<Figure size 288x288 with 2 Axes>"
      ]
     },
     "metadata": {
      "needs_background": "light"
     },
     "output_type": "display_data"
    }
   ],
   "source": [
    "# Evaluate amplitude as predictor\n",
    "X = amp[:,2].reshape(-1,1)\n",
    "y = labels\n",
    "\n",
    "X_train, X_test, y_train, y_test = train_test_split(X, y, test_size=0.33, random_state=42)\n",
    "reg = fit_model(X_train, X_test, y_train, y_test)\n",
    "cm, scores = confusion_matrix(reg, X_test, y_test)\n",
    "\n",
    "summarize(scores)\n",
    "print (cm)\n",
    "plot_cm(cm, scores)"
   ]
  },
  {
   "cell_type": "markdown",
   "metadata": {},
   "source": [
    "<h3> Conclusions</h3>\n",
    "<p> Amplitude does a great job at recall - correctly identifying the true artifacts - but it does a really poor job in terms of precision.</p>\n",
    "<p> This model basically predicts all the signals are artifacts, so we would end up throwing out most of the real data this way.</p>"
   ]
  },
  {
   "cell_type": "markdown",
   "metadata": {},
   "source": [
    "### Final Thoughts\n",
    "<p> One reason that even the best model doesn't exhibit better performance (e.g., precision is kind of low) could be that the labels may not be ideal. For example, this signal is labeled as normal, when it looks like it might have an artifact. It is also possible that other signal processing strategies for artifact identification may have worked better. This script is intended primarily to demonstrate an approach to solving a problem of building a model, given a specific request to use FFT, as opposed to demonstrating proficiency in signal processing.</p>\n",
    "<img src=\"non_artifact_that_looks_artifactual.jpeg\">"
   ]
  },
  {
   "cell_type": "markdown",
   "metadata": {},
   "source": []
  }
 ],
 "metadata": {
  "kernelspec": {
   "display_name": "Python 3",
   "language": "python",
   "name": "python3"
  },
  "language_info": {
   "codemirror_mode": {
    "name": "ipython",
    "version": 3
   },
   "file_extension": ".py",
   "mimetype": "text/x-python",
   "name": "python",
   "nbconvert_exporter": "python",
   "pygments_lexer": "ipython3",
   "version": "3.7.1"
  }
 },
 "nbformat": 4,
 "nbformat_minor": 2
}
